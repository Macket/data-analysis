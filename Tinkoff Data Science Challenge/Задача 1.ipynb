{
 "cells": [
  {
   "cell_type": "code",
   "execution_count": 1,
   "metadata": {
    "collapsed": true
   },
   "outputs": [],
   "source": [
    "import pandas as pd\n",
    "import numpy as np\n",
    "import matplotlib\n",
    "from matplotlib import pyplot as plt\n",
    "matplotlib.style.use('ggplot')\n",
    "%matplotlib inline"
   ]
  },
  {
   "cell_type": "code",
   "execution_count": 2,
   "metadata": {
    "collapsed": false
   },
   "outputs": [
    {
     "data": {
      "text/html": [
       "<div>\n",
       "<table border=\"1\" class=\"dataframe\">\n",
       "  <thead>\n",
       "    <tr style=\"text-align: right;\">\n",
       "      <th></th>\n",
       "      <th>client_id</th>\n",
       "      <th>gender</th>\n",
       "      <th>age</th>\n",
       "      <th>marital_status</th>\n",
       "      <th>job_position</th>\n",
       "      <th>credit_sum</th>\n",
       "      <th>credit_month</th>\n",
       "      <th>tariff_id</th>\n",
       "      <th>score_shk</th>\n",
       "      <th>education</th>\n",
       "      <th>living_region</th>\n",
       "      <th>monthly_income</th>\n",
       "      <th>credit_count</th>\n",
       "      <th>overdue_credit_count</th>\n",
       "      <th>open_account_flg</th>\n",
       "    </tr>\n",
       "  </thead>\n",
       "  <tbody>\n",
       "    <tr>\n",
       "      <th>0</th>\n",
       "      <td>1</td>\n",
       "      <td>M</td>\n",
       "      <td>48</td>\n",
       "      <td>MAR</td>\n",
       "      <td>UMN</td>\n",
       "      <td>59998,00</td>\n",
       "      <td>10</td>\n",
       "      <td>1.6</td>\n",
       "      <td>0,770249</td>\n",
       "      <td>GRD</td>\n",
       "      <td>������������� ����</td>\n",
       "      <td>30000.0</td>\n",
       "      <td>1.0</td>\n",
       "      <td>1.0</td>\n",
       "      <td>0</td>\n",
       "    </tr>\n",
       "    <tr>\n",
       "      <th>1</th>\n",
       "      <td>2</td>\n",
       "      <td>F</td>\n",
       "      <td>28</td>\n",
       "      <td>MAR</td>\n",
       "      <td>UMN</td>\n",
       "      <td>10889,00</td>\n",
       "      <td>6</td>\n",
       "      <td>1.1</td>\n",
       "      <td>0,248514</td>\n",
       "      <td>GRD</td>\n",
       "      <td>������</td>\n",
       "      <td>43000.0</td>\n",
       "      <td>2.0</td>\n",
       "      <td>0.0</td>\n",
       "      <td>0</td>\n",
       "    </tr>\n",
       "    <tr>\n",
       "      <th>2</th>\n",
       "      <td>3</td>\n",
       "      <td>M</td>\n",
       "      <td>32</td>\n",
       "      <td>MAR</td>\n",
       "      <td>SPC</td>\n",
       "      <td>10728,00</td>\n",
       "      <td>12</td>\n",
       "      <td>1.1</td>\n",
       "      <td>0,459589</td>\n",
       "      <td>SCH</td>\n",
       "      <td>��� �����������</td>\n",
       "      <td>23000.0</td>\n",
       "      <td>5.0</td>\n",
       "      <td>0.0</td>\n",
       "      <td>0</td>\n",
       "    </tr>\n",
       "    <tr>\n",
       "      <th>3</th>\n",
       "      <td>4</td>\n",
       "      <td>F</td>\n",
       "      <td>27</td>\n",
       "      <td>DIV</td>\n",
       "      <td>SPC</td>\n",
       "      <td>12009,09</td>\n",
       "      <td>12</td>\n",
       "      <td>1.1</td>\n",
       "      <td>0,362536</td>\n",
       "      <td>GRD</td>\n",
       "      <td>��� �������������</td>\n",
       "      <td>17000.0</td>\n",
       "      <td>2.0</td>\n",
       "      <td>0.0</td>\n",
       "      <td>0</td>\n",
       "    </tr>\n",
       "    <tr>\n",
       "      <th>4</th>\n",
       "      <td>5</td>\n",
       "      <td>M</td>\n",
       "      <td>45</td>\n",
       "      <td>MAR</td>\n",
       "      <td>SPC</td>\n",
       "      <td>16908,89</td>\n",
       "      <td>10</td>\n",
       "      <td>1.1</td>\n",
       "      <td>0,421385</td>\n",
       "      <td>SCH</td>\n",
       "      <td>����������� �������</td>\n",
       "      <td>25000.0</td>\n",
       "      <td>1.0</td>\n",
       "      <td>0.0</td>\n",
       "      <td>0</td>\n",
       "    </tr>\n",
       "  </tbody>\n",
       "</table>\n",
       "</div>"
      ],
      "text/plain": [
       "   client_id gender  age marital_status job_position credit_sum  credit_month  \\\n",
       "0          1      M   48            MAR          UMN   59998,00            10   \n",
       "1          2      F   28            MAR          UMN   10889,00             6   \n",
       "2          3      M   32            MAR          SPC   10728,00            12   \n",
       "3          4      F   27            DIV          SPC   12009,09            12   \n",
       "4          5      M   45            MAR          SPC   16908,89            10   \n",
       "\n",
       "   tariff_id score_shk education        living_region  monthly_income  \\\n",
       "0        1.6  0,770249       GRD   ������������� ����         30000.0   \n",
       "1        1.1  0,248514       GRD               ������         43000.0   \n",
       "2        1.1  0,459589       SCH      ��� �����������         23000.0   \n",
       "3        1.1  0,362536       GRD    ��� �������������         17000.0   \n",
       "4        1.1  0,421385       SCH  ����������� �������         25000.0   \n",
       "\n",
       "   credit_count  overdue_credit_count  open_account_flg  \n",
       "0           1.0                   1.0                 0  \n",
       "1           2.0                   0.0                 0  \n",
       "2           5.0                   0.0                 0  \n",
       "3           2.0                   0.0                 0  \n",
       "4           1.0                   0.0                 0  "
      ]
     },
     "execution_count": 2,
     "metadata": {},
     "output_type": "execute_result"
    }
   ],
   "source": [
    "data = pd.read_csv('credit_train.csv', header = 0, sep = ';')\n",
    "data.head()"
   ]
  },
  {
   "cell_type": "code",
   "execution_count": 3,
   "metadata": {
    "collapsed": false
   },
   "outputs": [],
   "source": [
    "X = data.drop(['open_account_flg', 'client_id'], 1)\n",
    "y = data['open_account_flg']"
   ]
  },
  {
   "cell_type": "code",
   "execution_count": 5,
   "metadata": {
    "collapsed": true
   },
   "outputs": [],
   "source": [
    "numeric_cols = ['age', 'credit_sum', 'credit_month', 'tariff_id', 'score_shk', \n",
    "                            'monthly_income', 'credit_count', 'overdue_credit_count']\n",
    "categorical_cols = list(set(X.columns.values.tolist()) - set(numeric_cols))"
   ]
  },
  {
   "cell_type": "code",
   "execution_count": 6,
   "metadata": {
    "collapsed": false
   },
   "outputs": [],
   "source": [
    "# Преобразование в строки категориальных признаков и заполнение пропущенных значений\n",
    "X_cat = data[categorical_cols].fillna('NA').astype(str)\n",
    "\n",
    "# Декодирование 'living_region'  в unicode\n",
    "temp=[]\n",
    "map(lambda x: temp.append(x.decode('cp1251')),X_cat['living_region'])\n",
    "X_cat['living_region'] = temp"
   ]
  },
  {
   "cell_type": "code",
   "execution_count": 7,
   "metadata": {
    "collapsed": false
   },
   "outputs": [],
   "source": [
    "# Приведение строк к числам в 'credit_sum'\n",
    "temp = []\n",
    "map(lambda x: temp.append(float(x.replace(',', '.'))), data['credit_sum'])\n",
    "data['credit_sum'] = temp\n",
    "\n",
    "# Приведение строк к числам в 'score_shk'\n",
    "temp = []\n",
    "map(lambda x: temp.append(float(x.replace(',', '.'))), data['score_shk'])\n",
    "data['score_shk'] = temp"
   ]
  },
  {
   "cell_type": "code",
   "execution_count": 8,
   "metadata": {
    "collapsed": true
   },
   "outputs": [],
   "source": [
    "# Вычисление средних\n",
    "def calculate_means(numeric_data):\n",
    "    means = np.zeros(numeric_data.shape[1])\n",
    "    for j in range(numeric_data.shape[1]):\n",
    "        to_sum = numeric_data.iloc[:,j]\n",
    "        indices = np.nonzero(~numeric_data.iloc[:,j].isnull())[0]\n",
    "        correction = np.amax(to_sum[indices])\n",
    "        to_sum /= correction\n",
    "        for i in indices:\n",
    "            means[j] += to_sum[i]\n",
    "        means[j] /= indices.size\n",
    "        means[j] *= correction\n",
    "    return pd.Series(means, numeric_data.columns)"
   ]
  },
  {
   "cell_type": "code",
   "execution_count": 8,
   "metadata": {
    "collapsed": true
   },
   "outputs": [],
   "source": [
    "# Заполнение нулями пропущенных значений\n",
    "X_real_zeros = data[numeric_cols]\n",
    "X_real_zeros = X_real_zeros.fillna(0)"
   ]
  },
  {
   "cell_type": "code",
   "execution_count": 9,
   "metadata": {
    "collapsed": false
   },
   "outputs": [
    {
     "name": "stderr",
     "output_type": "stream",
     "text": [
      "C:\\Users\\Ivan\\Anaconda2\\lib\\site-packages\\ipykernel\\__main__.py:9: SettingWithCopyWarning: \n",
      "A value is trying to be set on a copy of a slice from a DataFrame.\n",
      "Try using .loc[row_indexer,col_indexer] = value instead\n",
      "\n",
      "See the caveats in the documentation: http://pandas.pydata.org/pandas-docs/stable/indexing.html#indexing-view-versus-copy\n"
     ]
    }
   ],
   "source": [
    "# Заполнение средними пропущенных значений\n",
    "X_real_mean = data[numeric_cols]\n",
    "means = calculate_means(data[numeric_cols])\n",
    "for col, mean in zip(numeric_cols, means):\n",
    "    X_real_mean[col] = X_real_mean[col].fillna(mean)"
   ]
  },
  {
   "cell_type": "markdown",
   "metadata": {},
   "source": [
    "### Преобразование категориальных признаков и формирование выборок"
   ]
  },
  {
   "cell_type": "code",
   "execution_count": 9,
   "metadata": {
    "collapsed": true
   },
   "outputs": [],
   "source": [
    "from sklearn.feature_extraction import DictVectorizer as DV\n",
    "encoder = DV(sparse = False)\n",
    "encoder.fit(X_cat.T.to_dict().values())\n",
    "X_cat_oh = encoder.transform(X_cat.T.to_dict().values()) # one-hot encoding"
   ]
  },
  {
   "cell_type": "code",
   "execution_count": 15,
   "metadata": {
    "collapsed": true
   },
   "outputs": [],
   "source": [
    "X_zeros = np.hstack((X_real_zeros, X_cat_oh))\n",
    "X_means = np.hstack((X_real_mean, X_cat_oh))\n",
    "\n",
    "# Тренировочные выборки\n",
    "X_train_zeros = X_zeros[:10000]\n",
    "X_train_means = X_means[:10000]\n",
    "\n",
    "# Тестовые выборки\n",
    "X_test_zeros = X_zeros[10000:15000]\n",
    "X_test_means = X_means[10000:15000]"
   ]
  },
  {
   "cell_type": "code",
   "execution_count": 32,
   "metadata": {
    "collapsed": true
   },
   "outputs": [],
   "source": [
    "y_train = y[:10000]\n",
    "y_test = y[10000:15000]"
   ]
  },
  {
   "cell_type": "markdown",
   "metadata": {},
   "source": [
    "### Логистическая регрессия"
   ]
  },
  {
   "cell_type": "code",
   "execution_count": 10,
   "metadata": {
    "collapsed": true
   },
   "outputs": [],
   "source": [
    "from sklearn.linear_model import LogisticRegression\n",
    "from sklearn.grid_search import GridSearchCV\n",
    "from sklearn.metrics import roc_auc_score"
   ]
  },
  {
   "cell_type": "code",
   "execution_count": 28,
   "metadata": {
    "collapsed": false
   },
   "outputs": [
    {
     "data": {
      "image/png": "[encoded data removed]",
      "text/plain": [
       "<matplotlib.figure.Figure at 0x24ef668>"
      ]
     },
     "metadata": {},
     "output_type": "display_data"
    },
    {
     "data": {
      "image/png": "[encoded data removed]",
      "text/plain": [
       "<matplotlib.figure.Figure at 0x6a1a470>"
      ]
     },
     "metadata": {},
     "output_type": "display_data"
    }
   ],
   "source": [
    "def plot_scores(optimizer):\n",
    "    scores = [[item[0]['C'], \n",
    "               item[1], \n",
    "               (np.sum((item[2]-item[1])**2)/(item[2].size-1))**0.5] for item in optimizer.grid_scores_]\n",
    "    scores = np.array(scores)\n",
    "    plt.semilogx(scores[:,0], scores[:,1])\n",
    "    plt.fill_between(scores[:,0], scores[:,1]-scores[:,2], \n",
    "                                  scores[:,1]+scores[:,2], alpha=0.3)\n",
    "    plt.show()\n",
    "    \n",
    "def write_answer_1(auc_1, auc_2):\n",
    "    auc = (auc_1 + auc_2)/2\n",
    "    with open(\"preprocessing_lr_answer1.txt\", \"w\") as fout:\n",
    "        fout.write(str(auc))\n",
    "        \n",
    "param_grid = {'C': [0.01, 0.05, 0.1, 0.5, 1, 5, 10]}\n",
    "cv = 3\n",
    "\n",
    "\n",
    "# Логистическая регрессия\n",
    "estimator = LogisticRegression()\n",
    "\n",
    "# Кросс-валидация на двух выборках\n",
    "optimizer_zeros = GridSearchCV(estimator, param_grid, cv = 3)\n",
    "optimizer_mean = GridSearchCV(estimator, param_grid, cv = 3)\n",
    "optimizer_zeros.fit(X_train_zeros, y_train)\n",
    "optimizer_mean.fit(X_train_means, y_train)\n",
    "\n",
    "# Построение графиков оценок точности\n",
    "plot_scores(optimizer_zeros)\n",
    "plot_scores(optimizer_mean)"
   ]
  },
  {
   "cell_type": "code",
   "execution_count": 30,
   "metadata": {
    "collapsed": true
   },
   "outputs": [],
   "source": [
    "from sklearn import metrics"
   ]
  },
  {
   "cell_type": "code",
   "execution_count": 33,
   "metadata": {
    "collapsed": false
   },
   "outputs": [
    {
     "name": "stdout",
     "output_type": "stream",
     "text": [
      "Метрика AUC ROC при заполнении пустых полей нулями: 0.558911357241\n",
      "Метрика AUC ROC при заполнении пустых полей средними значениями: 0.55881815491\n"
     ]
    }
   ],
   "source": [
    "# Предсказания модели на тестовой выборке\n",
    "predictions_zeros = optimizer_zeros.best_estimator_.predict_proba(X_test_zeros)\n",
    "predictions_mean = optimizer_mean.best_estimator_.predict_proba(X_test_means)\n",
    "\n",
    "# Метрика AUC ROC для двух выборок\n",
    "auc_1 = metrics.roc_auc_score(y_test, predictions_zeros[:,1])\n",
    "auc_2 = metrics.roc_auc_score(y_test, predictions_mean[:,1])\n",
    "print \"Метрика AUC ROC при заполнении пустых полей нулями: {}\".format(auc_1)\n",
    "print \"Метрика AUC ROC при заполнении пустых полей средними значениями: {}\".format(auc_2)"
   ]
  },
  {
   "cell_type": "markdown",
   "metadata": {},
   "source": [
    "### Случайный лес"
   ]
  },
  {
   "cell_type": "code",
   "execution_count": 36,
   "metadata": {
    "collapsed": true
   },
   "outputs": [],
   "source": [
    "from sklearn import ensemble, cross_validation"
   ]
  },
  {
   "cell_type": "code",
   "execution_count": 38,
   "metadata": {
    "collapsed": false
   },
   "outputs": [],
   "source": [
    "scores = []\n",
    "for n in [5, 8, 15, 40, 50]:\n",
    "    rf_classifier = ensemble.RandomForestClassifier(n_estimators = 100, max_features = n, random_state = 1)\n",
    "    scores.append(cross_validation.cross_val_score(rf_classifier, X_train_zeros, y_train, cv = 10).mean())"
   ]
  },
  {
   "cell_type": "code",
   "execution_count": 39,
   "metadata": {
    "collapsed": false
   },
   "outputs": [
    {
     "data": {
      "text/plain": [
       "[0.82020062770062763,\n",
       " 0.8197012279012279,\n",
       " 0.82020132780132771,\n",
       " 0.82140212840212834,\n",
       " 0.82040082770082756]"
      ]
     },
     "execution_count": 39,
     "metadata": {},
     "output_type": "execute_result"
    }
   ],
   "source": [
    "scores"
   ]
  },
  {
   "cell_type": "code",
   "execution_count": 42,
   "metadata": {
    "collapsed": true
   },
   "outputs": [],
   "source": [
    "rf_classifier = ensemble.RandomForestClassifier(n_estimators = 100, max_depth = 50, max_features = 40, random_state = 1)"
   ]
  },
  {
   "cell_type": "code",
   "execution_count": 52,
   "metadata": {
    "collapsed": false
   },
   "outputs": [
    {
     "name": "stdout",
     "output_type": "stream",
     "text": [
      "0.52362340158 \n",
      "0.529478202517\n"
     ]
    }
   ],
   "source": [
    "rf_classifier.fit(X_train_zeros, y_train)\n",
    "predictions_zeros = rf_classifier.predict(X_test_zeros)\n",
    "auc1 = metrics.roc_auc_score(y_test, predictions_zeros)\n",
    "\n",
    "rf_classifier.fit(X_train_means, y_train)\n",
    "predictions_means = rf_classifier.predict(X_test_means)\n",
    "auc2 = metrics.roc_auc_score(y_test, predictions_means)\n",
    "\n",
    "print auc1, '\\n', auc2"
   ]
  },
  {
   "cell_type": "markdown",
   "metadata": {},
   "source": [
    "## Масштабирование вещественных признаков"
   ]
  },
  {
   "cell_type": "code",
   "execution_count": 11,
   "metadata": {
    "collapsed": true
   },
   "outputs": [],
   "source": [
    "from sklearn.preprocessing import StandardScaler"
   ]
  },
  {
   "cell_type": "code",
   "execution_count": 49,
   "metadata": {
    "collapsed": true
   },
   "outputs": [],
   "source": [
    "# Масшатабирование выборок\n",
    "scaler = StandardScaler().fit(X_real_zeros[:10000])\n",
    "X_train_real_scaled = scaler.transform(X_real_zeros[:10000])\n",
    "X_test_real_scaled = scaler.transform(X_real_zeros[10000:15000])"
   ]
  },
  {
   "cell_type": "code",
   "execution_count": 58,
   "metadata": {
    "collapsed": false
   },
   "outputs": [
    {
     "data": {
      "image/png": "[encoded data removed]",
      "text/plain": [
       "<matplotlib.figure.Figure at 0x26fdf320>"
      ]
     },
     "metadata": {},
     "output_type": "display_data"
    },
    {
     "data": {
      "text/plain": [
       "{'C': 0.01}"
      ]
     },
     "execution_count": 58,
     "metadata": {},
     "output_type": "execute_result"
    }
   ],
   "source": [
    "# Масштабированные выборки\n",
    "X_train_scaled = np.hstack((X_train_real_scaled, X_cat_oh[:10000]))\n",
    "X_test_scaled = np.hstack((X_test_real_scaled, X_cat_oh[10000:15000]))\n",
    "\n",
    "# Логистическая регрессия\n",
    "estimator = LogisticRegression()\n",
    "\n",
    "# Кросс-валидация\n",
    "optimizer = GridSearchCV(estimator, param_grid, cv = 3)\n",
    "optimizer.fit(X_train_scaled, y_train)\n",
    "\n",
    "# Построение графика оценки точности\n",
    "plot_scores(optimizer)\n",
    "\n",
    "# Гиперпараметр\n",
    "optimizer.best_params_"
   ]
  },
  {
   "cell_type": "code",
   "execution_count": 59,
   "metadata": {
    "collapsed": false
   },
   "outputs": [
    {
     "name": "stdout",
     "output_type": "stream",
     "text": [
      "Метрика AUC ROC после масштабирования: 0.657465054775\n"
     ]
    }
   ],
   "source": [
    "# Предсказания модели на тестовой выборке\n",
    "predictions = optimizer.best_estimator_.predict_proba(X_test_scaled)\n",
    "\n",
    "# Метрика AUC ROC после масштабирования\n",
    "auc = metrics.roc_auc_score(y_test, predictions[:,1])\n",
    "print \"Метрика AUC ROC после масштабирования: {}\".format(auc)"
   ]
  },
  {
   "cell_type": "markdown",
   "metadata": {},
   "source": [
    "## Балансировка классов"
   ]
  },
  {
   "cell_type": "code",
   "execution_count": 60,
   "metadata": {
    "collapsed": false
   },
   "outputs": [
    {
     "name": "stdout",
     "output_type": "stream",
     "text": [
      "8188\n",
      "1812\n"
     ]
    }
   ],
   "source": [
    "print(np.sum(y_train==0))\n",
    "print(np.sum(y_train==1))"
   ]
  },
  {
   "cell_type": "code",
   "execution_count": 61,
   "metadata": {
    "collapsed": false
   },
   "outputs": [
    {
     "data": {
      "image/png": "[encoded data removed]",
      "text/plain": [
       "<matplotlib.figure.Figure at 0x2bf262b0>"
      ]
     },
     "metadata": {},
     "output_type": "display_data"
    },
    {
     "data": {
      "text/plain": [
       "{'C': 0.05}"
      ]
     },
     "execution_count": 61,
     "metadata": {},
     "output_type": "execute_result"
    }
   ],
   "source": [
    "# Логистическая регрессия c использованием весов\n",
    "estimator_weighted = LogisticRegression(class_weight='balanced' )\n",
    "\n",
    "# Кросс-валидация\n",
    "optimizer_weighted = GridSearchCV(estimator_weighted, param_grid, cv = 3)\n",
    "optimizer_weighted.fit(X_train_scaled, y_train)\n",
    "\n",
    "# Построение графика оценки точности\n",
    "plot_scores(optimizer_weighted)\n",
    "\n",
    "# Гиперпараметр\n",
    "optimizer_weighted.best_params_"
   ]
  },
  {
   "cell_type": "code",
   "execution_count": 62,
   "metadata": {
    "collapsed": false
   },
   "outputs": [
    {
     "name": "stdout",
     "output_type": "stream",
     "text": [
      "Метрика AUC ROC при балансировке весами: 0.661535454731\n"
     ]
    }
   ],
   "source": [
    "# Предсказания модели на тестовой выборке\n",
    "predictions_weighted = optimizer_weighted.best_estimator_.predict_proba(X_test_scaled)\n",
    "\n",
    "# Метрика AUC ROC при балансировке весами\n",
    "auc_1 = metrics.roc_auc_score(y_test, predictions_weighted[:,1])\n",
    "print \"Метрика AUC ROC при балансировке весами: {}\".format(auc_1)"
   ]
  },
  {
   "cell_type": "markdown",
   "metadata": {},
   "source": [
    "## Трансформация вещественных признаков"
   ]
  },
  {
   "cell_type": "code",
   "execution_count": 43,
   "metadata": {
    "collapsed": true
   },
   "outputs": [],
   "source": [
    "from sklearn.preprocessing import PolynomialFeatures"
   ]
  },
  {
   "cell_type": "code",
   "execution_count": 92,
   "metadata": {
    "collapsed": false
   },
   "outputs": [
    {
     "data": {
      "image/png": "[encoded data removed]",
      "text/plain": [
       "<matplotlib.figure.Figure at 0x23943550>"
      ]
     },
     "metadata": {},
     "output_type": "display_data"
    },
    {
     "data": {
      "text/plain": [
       "{'C': 0.5}"
      ]
     },
     "execution_count": 92,
     "metadata": {},
     "output_type": "execute_result"
    }
   ],
   "source": [
    "# Инициализируем класс, который выполняет преобразование\n",
    "transform = PolynomialFeatures(3)\n",
    "\n",
    "# Обучаем преобразование на обучающей выборке, применяем его к тестовой (Для вещественных признаков)\n",
    "X_train_real_poly = transform.fit_transform(X_train_real_scaled)\n",
    "X_test_real_poly = transform.transform(X_test_real_scaled)\n",
    "\n",
    "# Целевая переменная\n",
    "y_train_poly = y_train\n",
    "y_test_poly = y_test\n",
    "\n",
    "# Масшатабирование\n",
    "scaler = StandardScaler().fit(X_train_real_poly)\n",
    "X_train_real_poly = scaler.transform(X_train_real_poly)\n",
    "X_test_real_poly = scaler.transform(X_test_real_poly)\n",
    "\n",
    "# Обучающая и тестовая выборки\n",
    "X_train_poly = np.hstack((X_train_real_poly, X_cat_oh[:10000]))\n",
    "X_test_poly = np.hstack((X_test_real_poly, X_cat_oh[10000:15000]))\n",
    "\n",
    "# Логистическая регрессия c использованием весов\n",
    "estimator_poly = LogisticRegression(class_weight='balanced')\n",
    "\n",
    "# Кросс-валидация\n",
    "optimizer_poly = GridSearchCV(estimator_poly, param_grid, cv = 3)\n",
    "optimizer_poly.fit(X_train_poly, y_train_poly)\n",
    "\n",
    "# Построение графика оценки точности\n",
    "plot_scores(optimizer_poly)\n",
    "\n",
    "# Гиперпараметр\n",
    "optimizer_poly.best_params_"
   ]
  },
  {
   "cell_type": "code",
   "execution_count": 93,
   "metadata": {
    "collapsed": false
   },
   "outputs": [
    {
     "name": "stdout",
     "output_type": "stream",
     "text": [
      "Метрика AUC ROC после квадратичного преобразования: 0.692312558816\n"
     ]
    }
   ],
   "source": [
    "# Предсказания модели на тестовой выборке\n",
    "predictions_poly = optimizer_poly.best_estimator_.predict_proba(X_test_poly)\n",
    "\n",
    "# Метрика AUC ROC после квадратичного преобразования\n",
    "auc_poly = metrics.roc_auc_score(y_test_poly, predictions_poly[:,1])\n",
    "print \"Метрика AUC ROC после квадратичного преобразования: {}\".format(auc_poly)"
   ]
  },
  {
   "cell_type": "markdown",
   "metadata": {},
   "source": [
    "Наилучший результат получен при обучении логистической регрессии с L2-регуляризацией (параметр регуляризации $С = 0.05$)  на выборке, у которой пропущенные вещественные значения заполнены нулями, вещественные признаки отмасштабированы, а также трансформированы полиномиально до 3 степени."
   ]
  },
  {
   "cell_type": "markdown",
   "metadata": {},
   "source": [
    "## Непосредственно задача"
   ]
  },
  {
   "cell_type": "markdown",
   "metadata": {},
   "source": [
    "### Обучающая выборка"
   ]
  },
  {
   "cell_type": "code",
   "execution_count": 12,
   "metadata": {
    "collapsed": true
   },
   "outputs": [],
   "source": [
    "# Масштабирование вещественных признаков\n",
    "scaler = StandardScaler().fit(X_real_zeros)\n",
    "X_train_real_scaled = scaler.transform(X_real_zeros)"
   ]
  },
  {
   "cell_type": "code",
   "execution_count": 25,
   "metadata": {
    "collapsed": true
   },
   "outputs": [],
   "source": [
    "X_train_cat_oh = X_cat_oh\n",
    "y_train = y"
   ]
  },
  {
   "cell_type": "markdown",
   "metadata": {},
   "source": [
    "### Тестовая выборка"
   ]
  },
  {
   "cell_type": "code",
   "execution_count": 28,
   "metadata": {
    "collapsed": false
   },
   "outputs": [
    {
     "data": {
      "text/html": [
       "<div>\n",
       "<table border=\"1\" class=\"dataframe\">\n",
       "  <thead>\n",
       "    <tr style=\"text-align: right;\">\n",
       "      <th></th>\n",
       "      <th>client_id</th>\n",
       "      <th>gender</th>\n",
       "      <th>age</th>\n",
       "      <th>marital_status</th>\n",
       "      <th>job_position</th>\n",
       "      <th>credit_sum</th>\n",
       "      <th>credit_month</th>\n",
       "      <th>tariff_id</th>\n",
       "      <th>score_shk</th>\n",
       "      <th>education</th>\n",
       "      <th>living_region</th>\n",
       "      <th>monthly_income</th>\n",
       "      <th>credit_count</th>\n",
       "      <th>overdue_credit_count</th>\n",
       "    </tr>\n",
       "  </thead>\n",
       "  <tbody>\n",
       "    <tr>\n",
       "      <th>0</th>\n",
       "      <td>170747</td>\n",
       "      <td>F</td>\n",
       "      <td>48</td>\n",
       "      <td>MAR</td>\n",
       "      <td>UMN</td>\n",
       "      <td>16558,00</td>\n",
       "      <td>10</td>\n",
       "      <td>1.10</td>\n",
       "      <td>0,370409</td>\n",
       "      <td>GRD</td>\n",
       "      <td>������� ����</td>\n",
       "      <td>34000</td>\n",
       "      <td>2.0</td>\n",
       "      <td>0.0</td>\n",
       "    </tr>\n",
       "    <tr>\n",
       "      <th>1</th>\n",
       "      <td>170748</td>\n",
       "      <td>M</td>\n",
       "      <td>29</td>\n",
       "      <td>MAR</td>\n",
       "      <td>SPC</td>\n",
       "      <td>7028,72</td>\n",
       "      <td>6</td>\n",
       "      <td>1.40</td>\n",
       "      <td>0,377281</td>\n",
       "      <td>SCH</td>\n",
       "      <td>��� �����������</td>\n",
       "      <td>19000</td>\n",
       "      <td>3.0</td>\n",
       "      <td>0.0</td>\n",
       "    </tr>\n",
       "    <tr>\n",
       "      <th>2</th>\n",
       "      <td>170749</td>\n",
       "      <td>F</td>\n",
       "      <td>20</td>\n",
       "      <td>UNM</td>\n",
       "      <td>SPC</td>\n",
       "      <td>13019,00</td>\n",
       "      <td>10</td>\n",
       "      <td>1.60</td>\n",
       "      <td>0,538515</td>\n",
       "      <td>SCH</td>\n",
       "      <td>��� ������������</td>\n",
       "      <td>25000</td>\n",
       "      <td>1.0</td>\n",
       "      <td>0.0</td>\n",
       "    </tr>\n",
       "    <tr>\n",
       "      <th>3</th>\n",
       "      <td>170750</td>\n",
       "      <td>F</td>\n",
       "      <td>41</td>\n",
       "      <td>MAR</td>\n",
       "      <td>SPC</td>\n",
       "      <td>9379,00</td>\n",
       "      <td>10</td>\n",
       "      <td>1.10</td>\n",
       "      <td>0,482520</td>\n",
       "      <td>GRD</td>\n",
       "      <td>��� ���������</td>\n",
       "      <td>30000</td>\n",
       "      <td>0.0</td>\n",
       "      <td>0.0</td>\n",
       "    </tr>\n",
       "    <tr>\n",
       "      <th>4</th>\n",
       "      <td>170751</td>\n",
       "      <td>F</td>\n",
       "      <td>31</td>\n",
       "      <td>MAR</td>\n",
       "      <td>SPC</td>\n",
       "      <td>13990,00</td>\n",
       "      <td>6</td>\n",
       "      <td>1.43</td>\n",
       "      <td>0,485914</td>\n",
       "      <td>GRD</td>\n",
       "      <td>��� ���������</td>\n",
       "      <td>20000</td>\n",
       "      <td>2.0</td>\n",
       "      <td>0.0</td>\n",
       "    </tr>\n",
       "  </tbody>\n",
       "</table>\n",
       "</div>"
      ],
      "text/plain": [
       "   client_id gender  age marital_status job_position credit_sum  credit_month  \\\n",
       "0     170747      F   48            MAR          UMN   16558,00            10   \n",
       "1     170748      M   29            MAR          SPC    7028,72             6   \n",
       "2     170749      F   20            UNM          SPC   13019,00            10   \n",
       "3     170750      F   41            MAR          SPC    9379,00            10   \n",
       "4     170751      F   31            MAR          SPC   13990,00             6   \n",
       "\n",
       "   tariff_id score_shk education     living_region  monthly_income  \\\n",
       "0       1.10  0,370409       GRD      ������� ����           34000   \n",
       "1       1.40  0,377281       SCH   ��� �����������           19000   \n",
       "2       1.60  0,538515       SCH  ��� ������������           25000   \n",
       "3       1.10  0,482520       GRD     ��� ���������           30000   \n",
       "4       1.43  0,485914       GRD     ��� ���������           20000   \n",
       "\n",
       "   credit_count  overdue_credit_count  \n",
       "0           2.0                   0.0  \n",
       "1           3.0                   0.0  \n",
       "2           1.0                   0.0  \n",
       "3           0.0                   0.0  \n",
       "4           2.0                   0.0  "
      ]
     },
     "execution_count": 28,
     "metadata": {},
     "output_type": "execute_result"
    }
   ],
   "source": [
    "data_test = pd.read_csv('credit_test.csv', header = 0, sep = ';')\n",
    "data_test.head()"
   ]
  },
  {
   "cell_type": "code",
   "execution_count": 29,
   "metadata": {
    "collapsed": false
   },
   "outputs": [
    {
     "data": {
      "text/plain": [
       "(91940, 14)"
      ]
     },
     "execution_count": 29,
     "metadata": {},
     "output_type": "execute_result"
    }
   ],
   "source": [
    "data_test.shape"
   ]
  },
  {
   "cell_type": "code",
   "execution_count": 31,
   "metadata": {
    "collapsed": false
   },
   "outputs": [],
   "source": [
    "X_test = data_test.drop(['client_id'], 1)"
   ]
  },
  {
   "cell_type": "code",
   "execution_count": 32,
   "metadata": {
    "collapsed": false
   },
   "outputs": [
    {
     "data": {
      "text/plain": [
       "(91940, 13)"
      ]
     },
     "execution_count": 32,
     "metadata": {},
     "output_type": "execute_result"
    }
   ],
   "source": [
    "X_test.shape"
   ]
  },
  {
   "cell_type": "code",
   "execution_count": 33,
   "metadata": {
    "collapsed": true
   },
   "outputs": [],
   "source": [
    "numeric_cols = ['age', 'credit_sum', 'credit_month', 'tariff_id', 'score_shk', \n",
    "                            'monthly_income', 'credit_count', 'overdue_credit_count']\n",
    "categorical_cols = list(set(X.columns.values.tolist()) - set(numeric_cols))"
   ]
  },
  {
   "cell_type": "code",
   "execution_count": 34,
   "metadata": {
    "collapsed": false
   },
   "outputs": [],
   "source": [
    "# Преобразование в строки категориальных признаков и заполнение пропущенных значений\n",
    "X_test_cat = data_test[categorical_cols].fillna('NA').astype(str)\n",
    "\n",
    "# Декодирование 'living_region'  в unicode\n",
    "temp=[]\n",
    "map(lambda x: temp.append(x.decode('cp1251')),X_test_cat['living_region'])\n",
    "X_test_cat['living_region'] = temp"
   ]
  },
  {
   "cell_type": "code",
   "execution_count": 35,
   "metadata": {
    "collapsed": true
   },
   "outputs": [],
   "source": [
    "# Приведение строк к числам в 'credit_sum'\n",
    "temp = []\n",
    "map(lambda x: temp.append(float(x.replace(',', '.'))), data_test['credit_sum'])\n",
    "data_test['credit_sum'] = temp\n",
    "\n",
    "# Приведение строк к числам в 'score_shk'\n",
    "temp = []\n",
    "map(lambda x: temp.append(float(x.replace(',', '.'))), data_test['score_shk'])\n",
    "data_test['score_shk'] = temp"
   ]
  },
  {
   "cell_type": "code",
   "execution_count": 36,
   "metadata": {
    "collapsed": true
   },
   "outputs": [],
   "source": [
    "# Заполнение нулями пропущенных значений\n",
    "X_test_real_zeros = data_test[numeric_cols]\n",
    "X_test_real_zeros = X_test_real_zeros.fillna(0)"
   ]
  },
  {
   "cell_type": "code",
   "execution_count": 38,
   "metadata": {
    "collapsed": false
   },
   "outputs": [],
   "source": [
    "# Преобразование категориальных признаков\n",
    "X_test_cat_oh = encoder.transform(X_test_cat.T.to_dict().values()) # one-hot encoding"
   ]
  },
  {
   "cell_type": "markdown",
   "metadata": {},
   "source": [
    "### Масштабирование вещественных признаков"
   ]
  },
  {
   "cell_type": "code",
   "execution_count": 39,
   "metadata": {
    "collapsed": true
   },
   "outputs": [],
   "source": [
    "X_test_real_scaled = scaler.transform(X_test_real_zeros)"
   ]
  },
  {
   "cell_type": "markdown",
   "metadata": {},
   "source": [
    "### Трансформация вещественных признаков и логистическая регрессия"
   ]
  },
  {
   "cell_type": "code",
   "execution_count": 41,
   "metadata": {
    "collapsed": true
   },
   "outputs": [],
   "source": [
    "?LogisticRegression"
   ]
  },
  {
   "cell_type": "code",
   "execution_count": 45,
   "metadata": {
    "collapsed": false
   },
   "outputs": [
    {
     "name": "stdout",
     "output_type": "stream",
     "text": [
      "Wall time: 48 ms\n"
     ]
    },
    {
     "data": {
      "text/plain": [
       "LogisticRegression(C=0.05, class_weight='balanced', dual=False,\n",
       "          fit_intercept=True, intercept_scaling=1, max_iter=100,\n",
       "          multi_class='ovr', n_jobs=1, penalty='l2', random_state=None,\n",
       "          solver='liblinear', tol=0.0001, verbose=0, warm_start=False)"
      ]
     },
     "execution_count": 45,
     "metadata": {},
     "output_type": "execute_result"
    }
   ],
   "source": [
    "%time\n",
    "# Инициализируем класс, который выполняет преобразование\n",
    "transform = PolynomialFeatures(3)\n",
    "\n",
    "# Обучаем преобразование на обучающей выборке, применяем его к тестовой (Для вещественных признаков)\n",
    "X_train_real_poly = transform.fit_transform(X_train_real_scaled)\n",
    "X_test_real_poly = transform.transform(X_test_real_scaled)\n",
    "\n",
    "# Целевая переменная\n",
    "y_train_poly = y_train\n",
    "\n",
    "# Масшатабирование\n",
    "scaler = StandardScaler().fit(X_train_real_poly)\n",
    "X_train_real_poly = scaler.transform(X_train_real_poly)\n",
    "X_test_real_poly = scaler.transform(X_test_real_poly)\n",
    "\n",
    "# Обучающая и тестовая выборки\n",
    "X_train_poly = np.hstack((X_train_real_poly, X_train_cat_oh))\n",
    "X_test_poly = np.hstack((X_test_real_poly, X_test_cat_oh))\n",
    "\n",
    "# Логистическая регрессия c использованием весов\n",
    "estimator_poly = LogisticRegression(class_weight='balanced', C = 0.05)\n",
    "\n",
    "\n",
    "# Обучение регрессии\n",
    "estimator_poly.fit(X_train_poly, y_train_poly)"
   ]
  },
  {
   "cell_type": "code",
   "execution_count": 50,
   "metadata": {
    "collapsed": true
   },
   "outputs": [],
   "source": [
    "predictions = estimator_poly.predict(X_test_poly)"
   ]
  },
  {
   "cell_type": "code",
   "execution_count": 53,
   "metadata": {
    "collapsed": false
   },
   "outputs": [
    {
     "data": {
      "text/plain": [
       "(91940L,)"
      ]
     },
     "execution_count": 53,
     "metadata": {},
     "output_type": "execute_result"
    }
   ],
   "source": [
    "predictions.shape"
   ]
  },
  {
   "cell_type": "markdown",
   "metadata": {},
   "source": [
    "### Случайный лес"
   ]
  },
  {
   "cell_type": "code",
   "execution_count": 76,
   "metadata": {
    "collapsed": true
   },
   "outputs": [],
   "source": [
    "from sklearn import ensemble, cross_validation"
   ]
  },
  {
   "cell_type": "code",
   "execution_count": 77,
   "metadata": {
    "collapsed": true
   },
   "outputs": [],
   "source": [
    "rf_classifier = ensemble.RandomForestClassifier(n_estimators = 100, max_depth = 50, max_features = 40, random_state = 1)"
   ]
  },
  {
   "cell_type": "code",
   "execution_count": 78,
   "metadata": {
    "collapsed": true
   },
   "outputs": [],
   "source": [
    "rf_classifier.fit(X_train_poly, y_train_poly)\n",
    "predictions_forest = rf_classifier.predict(X_test_poly)"
   ]
  },
  {
   "cell_type": "code",
   "execution_count": 109,
   "metadata": {
    "collapsed": false
   },
   "outputs": [],
   "source": [
    "d = {'_ID_': np.array(data_test['client_id']), '_VAL_': predictions_forest}"
   ]
  },
  {
   "cell_type": "code",
   "execution_count": 111,
   "metadata": {
    "collapsed": false
   },
   "outputs": [],
   "source": [
    "df = pd.DataFrame(data = d)"
   ]
  },
  {
   "cell_type": "code",
   "execution_count": 112,
   "metadata": {
    "collapsed": false
   },
   "outputs": [],
   "source": [
    "df.to_csv(\"Task1_Answer2.csv\", sep = ';')"
   ]
  }
 ],
 "metadata": {
  "anaconda-cloud": {},
  "kernelspec": {
   "display_name": "Python [default]",
   "language": "python",
   "name": "python2"
  },
  "language_info": {
   "codemirror_mode": {
    "name": "ipython",
    "version": 2
   },
   "file_extension": ".py",
   "mimetype": "text/x-python",
   "name": "python",
   "nbconvert_exporter": "python",
   "pygments_lexer": "ipython2",
   "version": "2.7.12"
  }
 },
 "nbformat": 4,
 "nbformat_minor": 1
}
