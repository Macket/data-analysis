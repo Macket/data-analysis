{
 "cells": [
  {
   "cell_type": "code",
   "execution_count": 10,
   "metadata": {},
   "outputs": [],
   "source": [
    "from scipy import stats\n",
    "import numpy as np"
   ]
  },
  {
   "cell_type": "markdown",
   "metadata": {},
   "source": [
    "По данным опроса, 75% работников ресторанов утверждают, что испытывают на работе существенный стресс, оказывающий негативное влияние на их личную жизнь. Крупная ресторанная сеть опрашивает 100 своих работников, чтобы выяснить, отличается ли уровень стресса работников в их ресторанах от среднего. 67 из 100 работников отметили высокий уровень стресса.\n",
    "\n",
    "Посчитайте достигаемый уровень значимости, округлите ответ до четырёх знаков после десятичной точки."
   ]
  },
  {
   "cell_type": "code",
   "execution_count": 189,
   "metadata": {},
   "outputs": [
    {
     "data": {
      "text/plain": [
       "0.044596325212681504"
      ]
     },
     "execution_count": 189,
     "metadata": {},
     "output_type": "execute_result"
    }
   ],
   "source": [
    "stats.binom_test(67, 100, 0.75, alternative = 'less')"
   ]
  },
  {
   "cell_type": "code",
   "execution_count": 49,
   "metadata": {},
   "outputs": [
    {
     "name": "stdout",
     "output_type": "stream",
     "text": [
      "Доверительный интервал: [0.000000, 0.160000]\n"
     ]
    }
   ],
   "source": [
    "p1 = 0.67\n",
    "p2 = 0.75\n",
    "alpha = 0.210743   \n",
    "z = stats.norm.ppf(1 - alpha / 2.)\n",
    "left_boundary = (p2 - p1) - z * np.sqrt(p1 * (1 - p1)/100 + p2 * (1 - p2)/100)\n",
    "right_boundary = (p2 - p1) + z * np.sqrt(p1 * (1 - p1)/100 + p2 * (1 - p2)/100)\n",
    "print \"Доверительный интервал: [%f, %f]\" % (left_boundary, right_boundary)"
   ]
  },
  {
   "cell_type": "markdown",
   "metadata": {},
   "source": [
    "The Wage Tract — заповедник в округе Тома, Джорджия, США, деревья в котором не затронуты деятельностью человека со времён первых поселенцев. Для участка заповедника размером 200х200 м имеется информация о координатах сосен (sn — координата в направлении север-юг, we — в направлении запад-восток, обе от 0 до 200).\n",
    "pines.txt\n",
    "\n",
    "Проверим, можно ли пространственное распределение сосен считать равномерным, или они растут кластерами.\n",
    "\n",
    "Загрузите данные, поделите участок на 5х5 одинаковых квадратов размера 40x40 м, посчитайте количество сосен в каждом квадрате (чтобы получить такой же результат, как у нас, используйте функцию scipy.stats.binned_statistic_2d).\n",
    "\n",
    "Если сосны действительно растут равномерно, какое среднее ожидаемое количество сосен в каждом квадрате? В правильном ответе два знака после десятичной точки."
   ]
  },
  {
   "cell_type": "code",
   "execution_count": 51,
   "metadata": {
    "collapsed": true
   },
   "outputs": [],
   "source": [
    "import pandas as pd"
   ]
  },
  {
   "cell_type": "code",
   "execution_count": 84,
   "metadata": {},
   "outputs": [],
   "source": [
    "data = pd.read_csv('pines.csv', header=0, sep='\\t')"
   ]
  },
  {
   "cell_type": "code",
   "execution_count": 85,
   "metadata": {},
   "outputs": [
    {
     "data": {
      "text/html": [
       "<div>\n",
       "<style>\n",
       "    .dataframe thead tr:only-child th {\n",
       "        text-align: right;\n",
       "    }\n",
       "\n",
       "    .dataframe thead th {\n",
       "        text-align: left;\n",
       "    }\n",
       "\n",
       "    .dataframe tbody tr th {\n",
       "        vertical-align: top;\n",
       "    }\n",
       "</style>\n",
       "<table border=\"1\" class=\"dataframe\">\n",
       "  <thead>\n",
       "    <tr style=\"text-align: right;\">\n",
       "      <th></th>\n",
       "      <th>sn</th>\n",
       "      <th>we</th>\n",
       "    </tr>\n",
       "  </thead>\n",
       "  <tbody>\n",
       "    <tr>\n",
       "      <th>0</th>\n",
       "      <td>200.0</td>\n",
       "      <td>8.8</td>\n",
       "    </tr>\n",
       "    <tr>\n",
       "      <th>1</th>\n",
       "      <td>199.3</td>\n",
       "      <td>10.0</td>\n",
       "    </tr>\n",
       "    <tr>\n",
       "      <th>2</th>\n",
       "      <td>193.6</td>\n",
       "      <td>22.4</td>\n",
       "    </tr>\n",
       "    <tr>\n",
       "      <th>3</th>\n",
       "      <td>167.7</td>\n",
       "      <td>35.6</td>\n",
       "    </tr>\n",
       "    <tr>\n",
       "      <th>4</th>\n",
       "      <td>183.9</td>\n",
       "      <td>45.4</td>\n",
       "    </tr>\n",
       "  </tbody>\n",
       "</table>\n",
       "</div>"
      ],
      "text/plain": [
       "      sn    we\n",
       "0  200.0   8.8\n",
       "1  199.3  10.0\n",
       "2  193.6  22.4\n",
       "3  167.7  35.6\n",
       "4  183.9  45.4"
      ]
     },
     "execution_count": 85,
     "metadata": {},
     "output_type": "execute_result"
    }
   ],
   "source": [
    "data.head()"
   ]
  },
  {
   "cell_type": "code",
   "execution_count": 86,
   "metadata": {},
   "outputs": [
    {
     "data": {
      "text/plain": [
       "584"
      ]
     },
     "execution_count": 86,
     "metadata": {},
     "output_type": "execute_result"
    }
   ],
   "source": [
    "len(data)"
   ]
  },
  {
   "cell_type": "code",
   "execution_count": 113,
   "metadata": {},
   "outputs": [
    {
     "name": "stdout",
     "output_type": "stream",
     "text": [
      "Среднее ожидаемое количество сосен: 23.36\n"
     ]
    }
   ],
   "source": [
    "expected_quantity = (len(data)/(200.0*200))*40*40\n",
    "print \"Среднее ожидаемое количество сосен:\", expected_quantity"
   ]
  },
  {
   "cell_type": "code",
   "execution_count": 179,
   "metadata": {},
   "outputs": [],
   "source": [
    "expected_frequences = [expected_quantity for x in range(0, 25)]"
   ]
  },
  {
   "cell_type": "code",
   "execution_count": 172,
   "metadata": {},
   "outputs": [
    {
     "data": {
      "text/plain": [
       "array([[ 23.36],\n",
       "       [ 23.36],\n",
       "       [ 23.36],\n",
       "       [ 23.36],\n",
       "       [ 23.36],\n",
       "       [ 23.36],\n",
       "       [ 23.36],\n",
       "       [ 23.36],\n",
       "       [ 23.36],\n",
       "       [ 23.36],\n",
       "       [ 23.36],\n",
       "       [ 23.36],\n",
       "       [ 23.36],\n",
       "       [ 23.36],\n",
       "       [ 23.36],\n",
       "       [ 23.36],\n",
       "       [ 23.36],\n",
       "       [ 23.36],\n",
       "       [ 23.36],\n",
       "       [ 23.36],\n",
       "       [ 23.36],\n",
       "       [ 23.36],\n",
       "       [ 23.36],\n",
       "       [ 23.36],\n",
       "       [ 23.36]])"
      ]
     },
     "execution_count": 172,
     "metadata": {},
     "output_type": "execute_result"
    }
   ],
   "source": [
    "expected_quantities = np.zeros((5, 5))\n",
    "expected_quantities[:,:] = expected_quantity\n",
    "expected_quantities = expected_quantities.reshape(25,1)\n",
    "expected_quantities"
   ]
  },
  {
   "cell_type": "code",
   "execution_count": 174,
   "metadata": {},
   "outputs": [],
   "source": [
    "data['n_pines'] = 1\n",
    "bins, xb, yb, binnum = stats.binned_statistic_2d(data.iloc[:,0],\n",
    "                            data.iloc[:,1],\n",
    "                            data.iloc[:,2],\n",
    "                            statistic = 'sum',\n",
    "                            bins=5)"
   ]
  },
  {
   "cell_type": "code",
   "execution_count": 180,
   "metadata": {},
   "outputs": [
    {
     "data": {
      "text/plain": [
       "array([[ 18.,  26.,  29.,  25.,  20.,  14.,  12.,  22.,  34.,  25.,  12.,\n",
       "         24.,  15.,  50.,  37.,   8.,  19.,  31.,  50.,   7.,   7.,   8.,\n",
       "         37.,  27.,  27.]])"
      ]
     },
     "execution_count": 180,
     "metadata": {},
     "output_type": "execute_result"
    }
   ],
   "source": [
    "observed_quantities = bins\n",
    "observed_quantities = observed_quantities.reshape(1, 25)\n",
    "observed_quantities"
   ]
  },
  {
   "cell_type": "code",
   "execution_count": 182,
   "metadata": {},
   "outputs": [],
   "source": [
    "observed_frequences = []\n",
    "for i in range(25):\n",
    "    observed_frequences.append(observed_quantities[0, i])"
   ]
  },
  {
   "cell_type": "code",
   "execution_count": 183,
   "metadata": {},
   "outputs": [
    {
     "data": {
      "text/plain": [
       "[18.0,\n",
       " 26.0,\n",
       " 29.0,\n",
       " 25.0,\n",
       " 20.0,\n",
       " 14.0,\n",
       " 12.0,\n",
       " 22.0,\n",
       " 34.0,\n",
       " 25.0,\n",
       " 12.0,\n",
       " 24.0,\n",
       " 15.0,\n",
       " 50.0,\n",
       " 37.0,\n",
       " 8.0,\n",
       " 19.0,\n",
       " 31.0,\n",
       " 50.0,\n",
       " 7.0,\n",
       " 7.0,\n",
       " 8.0,\n",
       " 37.0,\n",
       " 27.0,\n",
       " 27.0]"
      ]
     },
     "execution_count": 183,
     "metadata": {},
     "output_type": "execute_result"
    }
   ],
   "source": [
    "observed_frequences"
   ]
  },
  {
   "cell_type": "markdown",
   "metadata": {},
   "source": [
    "Чтобы сравнить распределение сосен с равномерным, посчитайте значение статистики хи-квадрат для полученных 5х5 квадратов. Округлите ответ до двух знаков после десятичной точки."
   ]
  },
  {
   "cell_type": "code",
   "execution_count": 184,
   "metadata": {},
   "outputs": [
    {
     "data": {
      "text/plain": [
       "Power_divergenceResult(statistic=150.58904109589042, pvalue=9.8780617882088893e-21)"
      ]
     },
     "execution_count": 184,
     "metadata": {},
     "output_type": "execute_result"
    }
   ],
   "source": [
    "stats.chisquare(observed_frequences, expected_frequences, ddof = 1)"
   ]
  },
  {
   "cell_type": "markdown",
   "metadata": {},
   "source": [
    "Насколько велико это значение? Если нулевая гипотеза справедлива, с какой вероятностью его можно было получить случайно?\n",
    "\n",
    "Нулевое распределение статистики — хи-квадрат с 25−1=24 степенями свободы (поскольку у равномерного распределения, с которым мы сравниваем данные, нет ни одного оцениваемого по выборке параметра, число степеней свободы K−1, где K — количество интервалов).\n",
    "\n",
    "Посчитайте достигаемый уровень значимости.\n",
    "\n",
    "Если вы используете функцию scipy.stats.chi2.cdf, в качестве значения параметра df нужно взять 24 (это число степеней свободы); если функцию scipy.stats.chisquare — параметр ddof нужно брать равным 0 (это как раз количество параметров теоретического распределения, оцениваемых по выборке).\n",
    "\n",
    "Отвергается ли гипотеза равномерности на уровне значимости 0.05?"
   ]
  }
 ],
 "metadata": {
  "kernelspec": {
   "display_name": "Python 2",
   "language": "python",
   "name": "python2"
  },
  "language_info": {
   "codemirror_mode": {
    "name": "ipython",
    "version": 2
   },
   "file_extension": ".py",
   "mimetype": "text/x-python",
   "name": "python",
   "nbconvert_exporter": "python",
   "pygments_lexer": "ipython2",
   "version": "2.7.13"
  }
 },
 "nbformat": 4,
 "nbformat_minor": 2
}
