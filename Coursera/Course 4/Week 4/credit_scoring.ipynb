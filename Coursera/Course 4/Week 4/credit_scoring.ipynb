{
 "cells": [
  {
   "cell_type": "code",
   "execution_count": 1,
   "metadata": {},
   "outputs": [
    {
     "name": "stdout",
     "output_type": "stream",
     "text": [
      "Populating the interactive namespace from numpy and matplotlib\n"
     ]
    }
   ],
   "source": [
    "import scipy as sc\n",
    "import numpy as np\n",
    "import pandas as pd\n",
    "import itertools\n",
    "from scipy import stats\n",
    "import scipy\n",
    "\n",
    "from statsmodels.stats.descriptivestats import sign_test\n",
    "from statsmodels.stats.weightstats import zconfint\n",
    "from statsmodels.stats.weightstats import *\n",
    "from statsmodels.stats.proportion import proportion_confint\n",
    "\n",
    "%pylab inline"
   ]
  },
  {
   "cell_type": "markdown",
   "metadata": {},
   "source": [
    "Для выполнения этого задания вам понадобятся данные о кредитных историях клиентов одного из банков. Поля в предоставляемых данных имеют следующий смысл:\n",
    "\n",
    "* LIMIT_BAL: размер кредитного лимита (в том числе и на семью клиента)\n",
    "* SEX: пол клиента (1 = мужской, 2 = женский )\n",
    "* EDUCATION: образование (0 = доктор, 1 = магистр; 2 = бакалавр; 3 = выпускник школы; 4 = начальное образование; 5= прочее; 6 = нет данных ).\n",
    "* MARRIAGE: (0 = отказываюсь отвечать; 1 = замужем/женат; 2 = холост; 3 = нет данных).\n",
    "* AGE: возраст в годах\n",
    "* PAY_0 - PAY_6 : История прошлых платежей по кредиту. PAY_6 - платеж в апреле, ... Pay_0 - платеж в сентябре. Платеж = (0 = исправный платеж, 1=задержка в один месяц, 2=задержка в 2 месяца ...)\n",
    "* BILL_AMT1 - BILL_AMT6: задолженность, BILL_AMT6 - на апрель, BILL_AMT1 - на сентябрь\n",
    "* PAY_AMT1 - PAY_AMT6: сумма уплаченная в PAY_AMT6 - апреле, ..., PAY_AMT1 - сентябре\n",
    "* default - индикатор невозврата денежных средств"
   ]
  },
  {
   "cell_type": "code",
   "execution_count": 2,
   "metadata": {},
   "outputs": [
    {
     "data": {
      "text/html": [
       "<div>\n",
       "<table border=\"1\" class=\"dataframe\">\n",
       "  <thead>\n",
       "    <tr style=\"text-align: right;\">\n",
       "      <th></th>\n",
       "      <th>ID</th>\n",
       "      <th>LIMIT_BAL</th>\n",
       "      <th>SEX</th>\n",
       "      <th>EDUCATION</th>\n",
       "      <th>MARRIAGE</th>\n",
       "      <th>AGE</th>\n",
       "      <th>PAY_0</th>\n",
       "      <th>PAY_2</th>\n",
       "      <th>PAY_3</th>\n",
       "      <th>PAY_4</th>\n",
       "      <th>...</th>\n",
       "      <th>BILL_AMT4</th>\n",
       "      <th>BILL_AMT5</th>\n",
       "      <th>BILL_AMT6</th>\n",
       "      <th>PAY_AMT1</th>\n",
       "      <th>PAY_AMT2</th>\n",
       "      <th>PAY_AMT3</th>\n",
       "      <th>PAY_AMT4</th>\n",
       "      <th>PAY_AMT5</th>\n",
       "      <th>PAY_AMT6</th>\n",
       "      <th>default</th>\n",
       "    </tr>\n",
       "  </thead>\n",
       "  <tbody>\n",
       "    <tr>\n",
       "      <th>0</th>\n",
       "      <td>1</td>\n",
       "      <td>20000</td>\n",
       "      <td>2</td>\n",
       "      <td>2</td>\n",
       "      <td>1</td>\n",
       "      <td>24</td>\n",
       "      <td>2</td>\n",
       "      <td>2</td>\n",
       "      <td>0</td>\n",
       "      <td>0</td>\n",
       "      <td>...</td>\n",
       "      <td>0</td>\n",
       "      <td>0</td>\n",
       "      <td>0</td>\n",
       "      <td>0</td>\n",
       "      <td>689</td>\n",
       "      <td>0</td>\n",
       "      <td>0</td>\n",
       "      <td>0</td>\n",
       "      <td>0</td>\n",
       "      <td>1</td>\n",
       "    </tr>\n",
       "    <tr>\n",
       "      <th>1</th>\n",
       "      <td>2</td>\n",
       "      <td>120000</td>\n",
       "      <td>2</td>\n",
       "      <td>2</td>\n",
       "      <td>2</td>\n",
       "      <td>26</td>\n",
       "      <td>0</td>\n",
       "      <td>2</td>\n",
       "      <td>0</td>\n",
       "      <td>0</td>\n",
       "      <td>...</td>\n",
       "      <td>3272</td>\n",
       "      <td>3455</td>\n",
       "      <td>3261</td>\n",
       "      <td>0</td>\n",
       "      <td>1000</td>\n",
       "      <td>1000</td>\n",
       "      <td>1000</td>\n",
       "      <td>0</td>\n",
       "      <td>2000</td>\n",
       "      <td>1</td>\n",
       "    </tr>\n",
       "    <tr>\n",
       "      <th>2</th>\n",
       "      <td>3</td>\n",
       "      <td>90000</td>\n",
       "      <td>2</td>\n",
       "      <td>2</td>\n",
       "      <td>2</td>\n",
       "      <td>34</td>\n",
       "      <td>0</td>\n",
       "      <td>0</td>\n",
       "      <td>0</td>\n",
       "      <td>0</td>\n",
       "      <td>...</td>\n",
       "      <td>14331</td>\n",
       "      <td>14948</td>\n",
       "      <td>15549</td>\n",
       "      <td>1518</td>\n",
       "      <td>1500</td>\n",
       "      <td>1000</td>\n",
       "      <td>1000</td>\n",
       "      <td>1000</td>\n",
       "      <td>5000</td>\n",
       "      <td>0</td>\n",
       "    </tr>\n",
       "    <tr>\n",
       "      <th>3</th>\n",
       "      <td>4</td>\n",
       "      <td>50000</td>\n",
       "      <td>2</td>\n",
       "      <td>2</td>\n",
       "      <td>1</td>\n",
       "      <td>37</td>\n",
       "      <td>0</td>\n",
       "      <td>0</td>\n",
       "      <td>0</td>\n",
       "      <td>0</td>\n",
       "      <td>...</td>\n",
       "      <td>28314</td>\n",
       "      <td>28959</td>\n",
       "      <td>29547</td>\n",
       "      <td>2000</td>\n",
       "      <td>2019</td>\n",
       "      <td>1200</td>\n",
       "      <td>1100</td>\n",
       "      <td>1069</td>\n",
       "      <td>1000</td>\n",
       "      <td>0</td>\n",
       "    </tr>\n",
       "    <tr>\n",
       "      <th>4</th>\n",
       "      <td>5</td>\n",
       "      <td>50000</td>\n",
       "      <td>1</td>\n",
       "      <td>2</td>\n",
       "      <td>1</td>\n",
       "      <td>57</td>\n",
       "      <td>0</td>\n",
       "      <td>0</td>\n",
       "      <td>0</td>\n",
       "      <td>0</td>\n",
       "      <td>...</td>\n",
       "      <td>20940</td>\n",
       "      <td>19146</td>\n",
       "      <td>19131</td>\n",
       "      <td>2000</td>\n",
       "      <td>36681</td>\n",
       "      <td>10000</td>\n",
       "      <td>9000</td>\n",
       "      <td>689</td>\n",
       "      <td>679</td>\n",
       "      <td>0</td>\n",
       "    </tr>\n",
       "  </tbody>\n",
       "</table>\n",
       "<p>5 rows × 25 columns</p>\n",
       "</div>"
      ],
      "text/plain": [
       "   ID  LIMIT_BAL  SEX  EDUCATION  MARRIAGE  AGE  PAY_0  PAY_2  PAY_3  PAY_4  \\\n",
       "0   1      20000    2          2         1   24      2      2      0      0   \n",
       "1   2     120000    2          2         2   26      0      2      0      0   \n",
       "2   3      90000    2          2         2   34      0      0      0      0   \n",
       "3   4      50000    2          2         1   37      0      0      0      0   \n",
       "4   5      50000    1          2         1   57      0      0      0      0   \n",
       "\n",
       "    ...     BILL_AMT4  BILL_AMT5  BILL_AMT6  PAY_AMT1  PAY_AMT2  PAY_AMT3  \\\n",
       "0   ...             0          0          0         0       689         0   \n",
       "1   ...          3272       3455       3261         0      1000      1000   \n",
       "2   ...         14331      14948      15549      1518      1500      1000   \n",
       "3   ...         28314      28959      29547      2000      2019      1200   \n",
       "4   ...         20940      19146      19131      2000     36681     10000   \n",
       "\n",
       "   PAY_AMT4  PAY_AMT5  PAY_AMT6  default  \n",
       "0         0         0         0        1  \n",
       "1      1000         0      2000        1  \n",
       "2      1000      1000      5000        0  \n",
       "3      1100      1069      1000        0  \n",
       "4      9000       689       679        0  \n",
       "\n",
       "[5 rows x 25 columns]"
      ]
     },
     "execution_count": 2,
     "metadata": {},
     "output_type": "execute_result"
    }
   ],
   "source": [
    "data = pd.read_csv(\"credit_card_default_analysis.csv\", sep=\",\") \n",
    "data.head()"
   ]
  },
  {
   "cell_type": "code",
   "execution_count": 3,
   "metadata": {},
   "outputs": [
    {
     "data": {
      "text/plain": [
       "30000"
      ]
     },
     "execution_count": 3,
     "metadata": {},
     "output_type": "execute_result"
    }
   ],
   "source": [
    "len(data)"
   ]
  },
  {
   "cell_type": "markdown",
   "metadata": {},
   "source": [
    "## Задание 1\n",
    "\n",
    "Размер кредитного лимита (LIMIT_BAL). В двух группах, тех людей, кто вернул кредит (default = 0) и тех, кто его не вернул (default = 1) проверьте гипотезы: a) о равенстве медианных значений кредитного лимита с помощью подходящей интервальной оценки b) о равенстве распределений с помощью одного из подходящих непараметрических критериев проверки равенства средних. Значимы ли полученные результаты с практической точки зрения ?"
   ]
  },
  {
   "cell_type": "code",
   "execution_count": 109,
   "metadata": {},
   "outputs": [
    {
     "name": "stdout",
     "output_type": "stream",
     "text": [
      "23364\n",
      "6636\n"
     ]
    }
   ],
   "source": [
    "data_return = data[data['default'] == 0]\n",
    "data_not_return = data[data['default'] == 1]\n",
    "print len(data_return)\n",
    "print len(data_not_return)"
   ]
  },
  {
   "cell_type": "code",
   "execution_count": 5,
   "metadata": {},
   "outputs": [
    {
     "data": {
      "image/png": "[encoded data removed]",
      "text/plain": [
       "<matplotlib.figure.Figure at 0xb9c9898>"
      ]
     },
     "metadata": {},
     "output_type": "display_data"
    }
   ],
   "source": [
    "pylab.figure(figsize=(12,8))\n",
    "pylab.subplot(2,2,1)\n",
    "data_return['LIMIT_BAL'].plot.hist()\n",
    "pylab.title('LIMIT_BAL returned', fontsize=14)\n",
    "pylab.subplot(2,2,2)\n",
    "data_not_return['LIMIT_BAL'].plot.hist()\n",
    "pylab.title('LIMIT_BAL not returned', fontsize=14)\n",
    "pylab.show()"
   ]
  },
  {
   "cell_type": "code",
   "execution_count": 6,
   "metadata": {},
   "outputs": [
    {
     "data": {
      "image/png": "[encoded data removed]",
      "text/plain": [
       "<matplotlib.figure.Figure at 0xc176470>"
      ]
     },
     "metadata": {},
     "output_type": "display_data"
    }
   ],
   "source": [
    "pylab.figure(figsize=(12,8))\n",
    "pylab.subplot(2,2,1)\n",
    "stats.probplot(data_return['LIMIT_BAL'], dist=\"norm\", plot=pylab)\n",
    "pylab.title('LIMIT_BAL returned', fontsize=14)\n",
    "pylab.subplot(2,2,2)\n",
    "stats.probplot(data_not_return['LIMIT_BAL'], dist=\"norm\", plot=pylab)\n",
    "pylab.title('LIMIT_BAL not returned', fontsize=14)\n",
    "pylab.show()"
   ]
  },
  {
   "cell_type": "markdown",
   "metadata": {},
   "source": [
    "Похоже, данные распределены не нормально. Параметрические критерии применять нельзя."
   ]
  },
  {
   "cell_type": "markdown",
   "metadata": {},
   "source": [
    "Критерий Манна-Уитни нельзя использовать из-за его ограничений на кол-во повторяющихся значений в выборке."
   ]
  },
  {
   "cell_type": "markdown",
   "metadata": {},
   "source": [
    "### a) Построим доверительные интервалы для медиан"
   ]
  },
  {
   "cell_type": "code",
   "execution_count": 111,
   "metadata": {
    "collapsed": true
   },
   "outputs": [],
   "source": [
    "def get_median_confint(rank_list):\n",
    "    n = len(rank_list)\n",
    "    k = int(np.round(0.5 * (n - 1.96 * np.sqrt(n) - 1)))\n",
    "    l = k - 1\n",
    "    u = n - k \n",
    "    return (rank_list[l], rank_list[u])"
   ]
  },
  {
   "cell_type": "code",
   "execution_count": 59,
   "metadata": {},
   "outputs": [
    {
     "name": "stdout",
     "output_type": "stream",
     "text": [
      "95% доверительный интервал медианы кредитного лимита для вернувших кредит: [150000.000000, 150000.000000]\n",
      "95% доверительный интервал медианы кредитного лимита для не вернувших кредит: [80000.000000, 90000.000000]\n"
     ]
    }
   ],
   "source": [
    "rank_list_return = data_return.sort_values(['LIMIT_BAL'])['LIMIT_BAL']\n",
    "rank_list_not_return = data_not_return.sort_values(['LIMIT_BAL'])['LIMIT_BAL']\n",
    "print '95%% доверительный интервал медианы кредитного лимита для вернувших кредит: [%f, %f]' % get_median_confint(rank_list_return.tolist())\n",
    "print '95%% доверительный интервал медианы кредитного лимита для не вернувших кредит: [%f, %f]' % get_median_confint(rank_list_not_return.tolist())"
   ]
  },
  {
   "cell_type": "markdown",
   "metadata": {},
   "source": [
    "Интервалы не пересекаются - кредитные лимиты разные."
   ]
  },
  {
   "cell_type": "markdown",
   "metadata": {},
   "source": [
    "### b)\n",
    "\n",
    "Проверим равенство распределений кредитного лимита с помощью перестановочного критерия для независимых выборок.\n",
    "\n",
    "H0: распределения равны\n",
    "\n",
    "H1: распределения не равны"
   ]
  },
  {
   "cell_type": "code",
   "execution_count": 115,
   "metadata": {
    "collapsed": true
   },
   "outputs": [],
   "source": [
    "def permutation_t_stat_ind(sample1, sample2):\n",
    "    return np.mean(sample1) - np.mean(sample2)\n",
    "\n",
    "def get_random_combinations(n1, n2, max_combinations):\n",
    "    index = range(n1 + n2)\n",
    "    indices = set([tuple(index)])\n",
    "    for i in range(max_combinations - 1):\n",
    "        np.random.shuffle(index)\n",
    "        indices.add(tuple(index))\n",
    "    return [(index[:n1], index[n1:]) for index in indices]\n",
    "\n",
    "def permutation_zero_dist_ind(sample1, sample2, max_combinations = None):\n",
    "    joined_sample = np.hstack((sample1, sample2))\n",
    "    n1 = len(sample1)\n",
    "    n = len(joined_sample)\n",
    "    \n",
    "    if max_combinations:\n",
    "        indices = get_random_combinations(n1, len(sample2), max_combinations)\n",
    "    else:\n",
    "        indices = [(list(index), filter(lambda i: i not in index, range(n))) \\\n",
    "                    for index in itertools.combinations(range(n), n1)]\n",
    "    \n",
    "    distr = [joined_sample[list(i[0])].mean() - joined_sample[list(i[1])].mean() \\\n",
    "             for i in indices]\n",
    "    return distr\n",
    "\n",
    "def permutation_test(sample, mean, max_permutations = None, alternative = 'two-sided'):\n",
    "    if alternative not in ('two-sided', 'less', 'greater'):\n",
    "        raise ValueError(\"alternative not recognized\\n\"\n",
    "                         \"should be 'two-sided', 'less' or 'greater'\")\n",
    "    \n",
    "    t_stat = permutation_t_stat_ind(sample, mean)\n",
    "    \n",
    "    zero_distr = permutation_zero_dist_ind(sample, mean, max_permutations)\n",
    "    \n",
    "    if alternative == 'two-sided':\n",
    "        return sum([1. if abs(x) >= abs(t_stat) else 0. for x in zero_distr]) / len(zero_distr)\n",
    "    \n",
    "    if alternative == 'less':\n",
    "        return sum([1. if x <= t_stat else 0. for x in zero_distr]) / len(zero_distr)\n",
    "\n",
    "    if alternative == 'greater':\n",
    "        return sum([1. if x >= t_stat else 0. for x in zero_distr]) / len(zero_distr)"
   ]
  },
  {
   "cell_type": "code",
   "execution_count": 15,
   "metadata": {},
   "outputs": [
    {
     "name": "stdout",
     "output_type": "stream",
     "text": [
      "p-value: 0.000100\n"
     ]
    }
   ],
   "source": [
    "print \"p-value: %f\" % permutation_test(data_return['LIMIT_BAL'], data_not_return['LIMIT_BAL'], max_permutations = 10000)"
   ]
  },
  {
   "cell_type": "markdown",
   "metadata": {},
   "source": [
    "Достигаемый уровень значимости очень меленький, нулевую гипотезу можно с уверенностью отвергнуть на уровне значимости 0.95."
   ]
  },
  {
   "cell_type": "markdown",
   "metadata": {},
   "source": [
    "## Задание 2\n",
    "\n",
    "Пол (SEX): Проверьте гипотезу о том, что гендерный состав группы людей вернувших и не вернувших кредит отличается. Хорошо, если вы предоставите несколько различных решений этой задачи (с помощью доверительного интервала и подходящего статистического критерия)"
   ]
  },
  {
   "cell_type": "code",
   "execution_count": 74,
   "metadata": {},
   "outputs": [
    {
     "name": "stdout",
     "output_type": "stream",
     "text": [
      "11888\n",
      "18112\n"
     ]
    }
   ],
   "source": [
    "data_man = data[data['SEX'] == 1]\n",
    "data_woman = data[data['SEX'] == 2]\n",
    "print len(data_man)\n",
    "print len(data_woman)"
   ]
  },
  {
   "cell_type": "code",
   "execution_count": 85,
   "metadata": {},
   "outputs": [
    {
     "data": {
      "image/png": "[encoded data removed]",
      "text/plain": [
       "<matplotlib.figure.Figure at 0x10afbac8>"
      ]
     },
     "metadata": {},
     "output_type": "display_data"
    }
   ],
   "source": [
    "pylab.figure(figsize=(12,8))\n",
    "pylab.subplot(2,2,1)\n",
    "data_man['default'].plot.hist()\n",
    "pylab.title('Man', fontsize=14)\n",
    "pylab.subplot(2,2,2)\n",
    "data_woman['default'].plot.hist()\n",
    "pylab.title('Woman', fontsize=14)\n",
    "pylab.show()"
   ]
  },
  {
   "cell_type": "markdown",
   "metadata": {},
   "source": [
    "По графикам не видно ощутимой разницы между долями не вернувших кредит среди мужчин и женщин."
   ]
  },
  {
   "cell_type": "code",
   "execution_count": 10,
   "metadata": {},
   "outputs": [
    {
     "name": "stdout",
     "output_type": "stream",
     "text": [
      "95% доверительный интервал вероятности, что мужчина не вернет кредит: [0.234061, 0.249450]\n",
      "95% доверительный интервал вероятности, что женщина не вернет кредит: [0.201917, 0.213733]\n"
     ]
    }
   ],
   "source": [
    "conf_interval_man = proportion_confint(sum(data_man['default']), \n",
    "                                            len(data_man),\n",
    "                                            method = 'wilson')\n",
    "conf_interval_woman = proportion_confint(sum(data_woman['default']), \n",
    "                                            len(data_woman),\n",
    "                                            method = 'wilson')\n",
    "\n",
    "print '95%% доверительный интервал вероятности, что мужчина не вернет кредит: [%f, %f]' % conf_interval_man\n",
    "print '95%% доверительный интервал вероятности, что женщина не вернет кредит: [%f, %f]' % conf_interval_woman"
   ]
  },
  {
   "cell_type": "markdown",
   "metadata": {},
   "source": [
    "Интервалы не пересекаются. Похоже, что мужчины чаще не возвращают кредиты"
   ]
  },
  {
   "cell_type": "code",
   "execution_count": 11,
   "metadata": {
    "collapsed": true
   },
   "outputs": [],
   "source": [
    "def proportions_diff_confint_ind(sample1, sample2, alpha = 0.05):    \n",
    "    z = scipy.stats.norm.ppf(1 - alpha / 2.)\n",
    "    \n",
    "    p1 = float(sum(sample1)) / len(sample1)\n",
    "    p2 = float(sum(sample2)) / len(sample2)\n",
    "    \n",
    "    left_boundary = (p1 - p2) - z * np.sqrt(p1 * (1 - p1)/ len(sample1) + p2 * (1 - p2)/ len(sample2))\n",
    "    right_boundary = (p1 - p2) + z * np.sqrt(p1 * (1 - p1)/ len(sample1) + p2 * (1 - p2)/ len(sample2))\n",
    "    \n",
    "    return (left_boundary, right_boundary)\n",
    "\n",
    "def proportions_diff_z_stat_ind(sample1, sample2):\n",
    "    n1 = len(sample1)\n",
    "    n2 = len(sample2)\n",
    "    \n",
    "    p1 = float(sum(sample1)) / n1\n",
    "    p2 = float(sum(sample2)) / n2 \n",
    "    P = float(p1*n1 + p2*n2) / (n1 + n2)\n",
    "    \n",
    "    return (p1 - p2) / np.sqrt(P * (1 - P) * (1. / n1 + 1. / n2))\n",
    "\n",
    "def proportions_diff_z_test(z_stat, alternative = 'two-sided'):\n",
    "    if alternative not in ('two-sided', 'less', 'greater'):\n",
    "        raise ValueError(\"alternative not recognized\\n\"\n",
    "                         \"should be 'two-sided', 'less' or 'greater'\")\n",
    "    \n",
    "    if alternative == 'two-sided':\n",
    "        return 2 * (1 - scipy.stats.norm.cdf(np.abs(z_stat)))\n",
    "    \n",
    "    if alternative == 'less':\n",
    "        return scipy.stats.norm.cdf(z_stat)\n",
    "\n",
    "    if alternative == 'greater':\n",
    "        return 1 - scipy.stats.norm.cdf(z_stat)"
   ]
  },
  {
   "cell_type": "code",
   "execution_count": 12,
   "metadata": {},
   "outputs": [
    {
     "name": "stdout",
     "output_type": "stream",
     "text": [
      "95% доверительный интервал разницы двух долей: [0.024207, 0.043612]\n"
     ]
    }
   ],
   "source": [
    "print \"95%% доверительный интервал разницы двух долей: [%f, %f]\" %\\\n",
    "      proportions_diff_confint_ind(data_man['default'], data_woman['default'])"
   ]
  },
  {
   "cell_type": "markdown",
   "metadata": {},
   "source": [
    "В доверительный интервал разницы двух долей не входит ноль и интервал правее нуля. Это еще одно подтверждение, что мужчины чаще не возвращают кредит."
   ]
  },
  {
   "cell_type": "markdown",
   "metadata": {},
   "source": [
    "Проверим гипотизу:\n",
    "\n",
    "H0: мужчины не возращают кредит с такой же вероятностью, что и женщины\n",
    "\n",
    "H1: вероятности отличаются (двусторонняя алтернатива)"
   ]
  },
  {
   "cell_type": "code",
   "execution_count": 13,
   "metadata": {},
   "outputs": [
    {
     "data": {
      "text/plain": [
       "4.4728665216098307e-12"
      ]
     },
     "execution_count": 13,
     "metadata": {},
     "output_type": "execute_result"
    }
   ],
   "source": [
    "p = proportions_diff_z_test(proportions_diff_z_stat_ind(data_man['default'], data_woman['default']))\n",
    "p"
   ]
  },
  {
   "cell_type": "markdown",
   "metadata": {},
   "source": [
    "Нулевая гипотеза уверенно отвергается."
   ]
  },
  {
   "cell_type": "markdown",
   "metadata": {},
   "source": [
    "## Задание 3\n",
    "\n",
    "Образование (EDUCATION): Проверьте гипотезу о том, что образование не влияет на то, вернет ли человек долг. Предложите способ наглядного представления разницы в ожидаемых и наблюдаемых значениях количества человек вернувших и не вернувших долг. Например, составьте таблицу сопряженности \"образование\" на \"возврат долга\", где значением ячейки была бы разность между наблюдаемым и ожидаемым количеством человек. Как бы вы предложили модифицировать таблицу так, чтобы привести значения ячеек к одному масштабу не потеряв в интерпретируемости ? Наличие какого образования является наилучшим индикатором того, что человек отдаст долг ? наоборт, не отдаст долг ?"
   ]
  },
  {
   "cell_type": "markdown",
   "metadata": {},
   "source": [
    "EDUCATION: образование (0 = доктор, 1 = магистр; 2 = бакалавр; 3 = выпускник школы; 4 = начальное образование; 5= прочее; 6 = нет данных )."
   ]
  },
  {
   "cell_type": "code",
   "execution_count": 28,
   "metadata": {},
   "outputs": [
    {
     "data": {
      "text/html": [
       "<div>\n",
       "<table border=\"1\" class=\"dataframe\">\n",
       "  <thead>\n",
       "    <tr style=\"text-align: right;\">\n",
       "      <th></th>\n",
       "      <th>magistr</th>\n",
       "      <th>vipusknik</th>\n",
       "      <th>bakalavr</th>\n",
       "      <th>doctor</th>\n",
       "      <th>over</th>\n",
       "      <th>nachalnoe</th>\n",
       "    </tr>\n",
       "  </thead>\n",
       "  <tbody>\n",
       "    <tr>\n",
       "      <th>return</th>\n",
       "      <td>8549</td>\n",
       "      <td>3680</td>\n",
       "      <td>10700</td>\n",
       "      <td>14</td>\n",
       "      <td>262</td>\n",
       "      <td>116</td>\n",
       "    </tr>\n",
       "    <tr>\n",
       "      <th>not return</th>\n",
       "      <td>2036</td>\n",
       "      <td>1237</td>\n",
       "      <td>3330</td>\n",
       "      <td>0</td>\n",
       "      <td>18</td>\n",
       "      <td>7</td>\n",
       "    </tr>\n",
       "  </tbody>\n",
       "</table>\n",
       "</div>"
      ],
      "text/plain": [
       "            magistr  vipusknik  bakalavr  doctor  over  nachalnoe\n",
       "return         8549       3680     10700      14   262        116\n",
       "not return     2036       1237      3330       0    18          7"
      ]
     },
     "execution_count": 28,
     "metadata": {},
     "output_type": "execute_result"
    }
   ],
   "source": [
    "educ_dict = {'doctor':0,'magistr':1,'bakalavr':2,'vipusknik':3,'nachalnoe':4,'over':5}\n",
    "index = ['return', 'not return']\n",
    "data3 = pd.DataFrame(columns=educ_dict.keys(), index=index)\n",
    "\n",
    "for educ in educ_dict.keys():\n",
    "    d = data[data['EDUCATION'] == educ_dict[educ]]['default']\n",
    "    data3[educ] = [len(d)-sum(d), sum(d)]\n",
    "    \n",
    "data3"
   ]
  },
  {
   "cell_type": "code",
   "execution_count": 92,
   "metadata": {},
   "outputs": [
    {
     "data": {
      "image/png": "[encoded data removed]",
      "text/plain": [
       "<matplotlib.figure.Figure at 0x107a9198>"
      ]
     },
     "metadata": {},
     "output_type": "display_data"
    }
   ],
   "source": [
    "pylab.figure(figsize=(12,8))\n",
    "\n",
    "index = 1\n",
    "for educ in educ_dict.keys():\n",
    "    d = data[data['EDUCATION'] == educ_dict[educ]]['default']\n",
    "    pylab.subplot(2,3,index)\n",
    "    pylab.title('Married', fontsize=14)\n",
    "    d.plot.hist()\n",
    "    pylab.title(educ, fontsize=14)\n",
    "    index = index + 1\n",
    "    \n",
    "pylab.show()"
   ]
  },
  {
   "cell_type": "markdown",
   "metadata": {},
   "source": [
    "С помощью критерия хи-квадрат проверим гипотизу H0 о том, что образование не влияет на то, вернет ли человек долг, против двусторонней алтернативы. "
   ]
  },
  {
   "cell_type": "code",
   "execution_count": 44,
   "metadata": {},
   "outputs": [
    {
     "name": "stdout",
     "output_type": "stream",
     "text": [
      "Достигаемый уровень значимости p = 3.83555441089e-33\n"
     ]
    }
   ],
   "source": [
    "chi2 = stats.chi2_contingency(data3.as_matrix())\n",
    "print 'Достигаемый уровень значимости p = %s' % chi2[1]"
   ]
  },
  {
   "cell_type": "markdown",
   "metadata": {},
   "source": [
    "Нулевую гипотезу можно с уверенностью отвергнуть. Образование определенно влияет на возврат долга."
   ]
  },
  {
   "cell_type": "markdown",
   "metadata": {},
   "source": [
    "Составим таблицу сопряженности \"образование\" на \"возврат долга\", где значением ячейки была бы разность между наблюдаемым и ожидаемым количеством человек. "
   ]
  },
  {
   "cell_type": "code",
   "execution_count": 73,
   "metadata": {},
   "outputs": [
    {
     "data": {
      "text/html": [
       "<div>\n",
       "<table border=\"1\" class=\"dataframe\">\n",
       "  <thead>\n",
       "    <tr style=\"text-align: right;\">\n",
       "      <th></th>\n",
       "      <th>magistr</th>\n",
       "      <th>vipusknik</th>\n",
       "      <th>bakalavr</th>\n",
       "      <th>doctor</th>\n",
       "      <th>over</th>\n",
       "      <th>nachalnoe</th>\n",
       "    </tr>\n",
       "  </thead>\n",
       "  <tbody>\n",
       "    <tr>\n",
       "      <th>Вернули (наблюдаемое)</th>\n",
       "      <td>8549.00</td>\n",
       "      <td>3680.00</td>\n",
       "      <td>10700.00</td>\n",
       "      <td>14.00</td>\n",
       "      <td>262.00</td>\n",
       "      <td>116.00</td>\n",
       "    </tr>\n",
       "    <tr>\n",
       "      <th>Вернули (ожидаемое)</th>\n",
       "      <td>2343.00</td>\n",
       "      <td>1088.00</td>\n",
       "      <td>3105.00</td>\n",
       "      <td>3.00</td>\n",
       "      <td>62.00</td>\n",
       "      <td>27.00</td>\n",
       "    </tr>\n",
       "    <tr>\n",
       "      <th>Наблюдаемое - ожидаемое</th>\n",
       "      <td>6206.00</td>\n",
       "      <td>2592.00</td>\n",
       "      <td>7595.00</td>\n",
       "      <td>11.00</td>\n",
       "      <td>200.00</td>\n",
       "      <td>89.00</td>\n",
       "    </tr>\n",
       "    <tr>\n",
       "      <th>Всего людей такой профессии</th>\n",
       "      <td>10585.00</td>\n",
       "      <td>4917.00</td>\n",
       "      <td>14030.00</td>\n",
       "      <td>14.00</td>\n",
       "      <td>280.00</td>\n",
       "      <td>123.00</td>\n",
       "    </tr>\n",
       "    <tr>\n",
       "      <th>Разница в долях</th>\n",
       "      <td>0.59</td>\n",
       "      <td>0.53</td>\n",
       "      <td>0.54</td>\n",
       "      <td>0.79</td>\n",
       "      <td>0.71</td>\n",
       "      <td>0.72</td>\n",
       "    </tr>\n",
       "  </tbody>\n",
       "</table>\n",
       "</div>"
      ],
      "text/plain": [
       "                              magistr  vipusknik  bakalavr  doctor    over  \\\n",
       "Вернули (наблюдаемое)         8549.00    3680.00  10700.00   14.00  262.00   \n",
       "Вернули (ожидаемое)           2343.00    1088.00   3105.00    3.00   62.00   \n",
       "Наблюдаемое - ожидаемое       6206.00    2592.00   7595.00   11.00  200.00   \n",
       "Всего людей такой профессии  10585.00    4917.00  14030.00   14.00  280.00   \n",
       "Разница в долях                  0.59       0.53      0.54    0.79    0.71   \n",
       "\n",
       "                             nachalnoe  \n",
       "Вернули (наблюдаемое)           116.00  \n",
       "Вернули (ожидаемое)              27.00  \n",
       "Наблюдаемое - ожидаемое          89.00  \n",
       "Всего людей такой профессии     123.00  \n",
       "Разница в долях                   0.72  "
      ]
     },
     "execution_count": 73,
     "metadata": {},
     "output_type": "execute_result"
    }
   ],
   "source": [
    "data3_2 = pd.DataFrame(columns=educ_dict.keys())\n",
    "data3_2.loc['Вернули (наблюдаемое)'] = data3.loc['return']\n",
    "data3_2.loc['Вернули (ожидаемое)'] = np.round(chi2[3][1])\n",
    "data3_2.loc['Наблюдаемое - ожидаемое'] = data3_2.iloc[0] - data3_2.iloc[1] \n",
    "data3_2.loc['Всего людей такой профессии'] = [0,0,0,0,0,0]\n",
    "\n",
    "for educ in educ_dict.keys():\n",
    "    d = data[data['EDUCATION'] == educ_dict[educ]]['default']\n",
    "    data3_2[educ]['Всего людей такой профессии'] = len(d)\n",
    "    \n",
    "#data3_2.loc['Доля набл.'] = np.round(data3_2.iloc[0] / data3_2.iloc[3], 2)\n",
    "#data3_2.loc['Доля ож.'] = np.round(data3_2.iloc[1] / data3_2.iloc[3], 2)\n",
    "    \n",
    "data3_2.loc['Разница в долях'] = np.round((data3_2.iloc[0] / data3_2.iloc[3]) - (data3_2.iloc[1] / data3_2.iloc[3]), 2)\n",
    "\n",
    "data3_2"
   ]
  },
  {
   "cell_type": "markdown",
   "metadata": {},
   "source": [
    "В последнем столбце приведена разница между наблюдаемым и ожидаемым долями вернувших долг. Похоже, что чаще других отдают долг врачи. Реже других - выпускники школы."
   ]
  },
  {
   "cell_type": "markdown",
   "metadata": {},
   "source": [
    "## Задание 4\n",
    "\n",
    "Семейное положение (MARRIAGE): Проверьте, как связан семейный статус с индикатором дефолта: нужно предложить меру, по которой можно измерить возможную связь этих переменных и посчитать ее значение."
   ]
  },
  {
   "cell_type": "markdown",
   "metadata": {},
   "source": [
    "Посмотрим на данные.\n",
    "MARRIAGE: (0 = отказываюсь отвечать; 1 = замужем/женат; 2 = холост; 3 = нет данных)."
   ]
  },
  {
   "cell_type": "code",
   "execution_count": 87,
   "metadata": {},
   "outputs": [
    {
     "name": "stdout",
     "output_type": "stream",
     "text": [
      "13659\n",
      "15964\n"
     ]
    }
   ],
   "source": [
    "data_marr = data[data['MARRIAGE'] == 1]\n",
    "data_not_marr = data[data['MARRIAGE'] == 2]\n",
    "print len(data_marr)\n",
    "print len(data_not_marr)"
   ]
  },
  {
   "cell_type": "code",
   "execution_count": 88,
   "metadata": {},
   "outputs": [
    {
     "data": {
      "image/png": "[encoded data removed]",
      "text/plain": [
       "<matplotlib.figure.Figure at 0xc4b2eb8>"
      ]
     },
     "metadata": {},
     "output_type": "display_data"
    }
   ],
   "source": [
    "pylab.figure(figsize=(12,8))\n",
    "pylab.subplot(2,2,1)\n",
    "data_marr['default'].plot.hist()\n",
    "pylab.title('Married', fontsize=14)\n",
    "pylab.subplot(2,2,2)\n",
    "data_not_marr['default'].plot.hist()\n",
    "pylab.title('Not married', fontsize=14)\n",
    "pylab.show()"
   ]
  },
  {
   "cell_type": "markdown",
   "metadata": {},
   "source": [
    "По графикам не видно ощутимой разницы между долями не вернувших кредит среди женатых и холостых."
   ]
  },
  {
   "cell_type": "markdown",
   "metadata": {},
   "source": [
    "Связь семейного статуса с индикатором дефолта можно проверить с помощью коэффициента корреляции Мэтьюса. "
   ]
  },
  {
   "cell_type": "code",
   "execution_count": 96,
   "metadata": {},
   "outputs": [
    {
     "data": {
      "text/html": [
       "<div>\n",
       "<table border=\"1\" class=\"dataframe\">\n",
       "  <thead>\n",
       "    <tr style=\"text-align: right;\">\n",
       "      <th></th>\n",
       "      <th>married</th>\n",
       "      <th>not married</th>\n",
       "    </tr>\n",
       "  </thead>\n",
       "  <tbody>\n",
       "    <tr>\n",
       "      <th>return</th>\n",
       "      <td>10453</td>\n",
       "      <td>12623</td>\n",
       "    </tr>\n",
       "    <tr>\n",
       "      <th>not return</th>\n",
       "      <td>3206</td>\n",
       "      <td>3341</td>\n",
       "    </tr>\n",
       "  </tbody>\n",
       "</table>\n",
       "</div>"
      ],
      "text/plain": [
       "           married not married\n",
       "return       10453       12623\n",
       "not return    3206        3341"
      ]
     },
     "execution_count": 96,
     "metadata": {},
     "output_type": "execute_result"
    }
   ],
   "source": [
    "married = ['married', 'not married']\n",
    "index = ['return', 'not return']\n",
    "data4 = pd.DataFrame(columns=married, index=index)\n",
    "data4['married']['not return'] = sum(data_marr['default'])\n",
    "data4['not married']['not return'] = sum(data_not_marr['default'])\n",
    "data4['married']['return'] = len(data_marr['default']) - sum(data_marr['default'])\n",
    "data4['not married']['return'] = len(data_not_marr['default']) - sum(data_not_marr['default'])\n",
    "\n",
    "data4"
   ]
  },
  {
   "cell_type": "code",
   "execution_count": 98,
   "metadata": {},
   "outputs": [],
   "source": [
    "a = data4['married']['return']\n",
    "b = data4['not married']['return']\n",
    "c = data4['married']['not return']\n",
    "d = data4['not married']['not return']"
   ]
  },
  {
   "cell_type": "code",
   "execution_count": 101,
   "metadata": {},
   "outputs": [
    {
     "name": "stdout",
     "output_type": "stream",
     "text": [
      "Коэффициента корреляции Мэтьюса -0.0306\n"
     ]
    }
   ],
   "source": [
    "mcc = (a*d - b*c) / np.sqrt((a+b)*(a+c)*(b+d)*(c+d))\n",
    "print 'Коэффициента корреляции Мэтьюса %s' % np.round(mcc, 4)"
   ]
  },
  {
   "cell_type": "markdown",
   "metadata": {},
   "source": [
    "Отрицательный коэфф. кореляции указывает на то, что люди в браке реже возвращают кредит."
   ]
  },
  {
   "cell_type": "code",
   "execution_count": 105,
   "metadata": {},
   "outputs": [
    {
     "name": "stdout",
     "output_type": "stream",
     "text": [
      "0.765282963614\n",
      "0.790716612378\n"
     ]
    }
   ],
   "source": [
    "print a / float(a + c)\n",
    "print b / float(b + d)"
   ]
  },
  {
   "cell_type": "markdown",
   "metadata": {},
   "source": [
    "Проверим, значимо ли значение коэффициента мэтьюса. С помощью критерия хи-квадрат проверим гипотизу H0 о том, что замужество не влияет на то, вернет ли человек долг, против двусторонней алтернативы."
   ]
  },
  {
   "cell_type": "code",
   "execution_count": 103,
   "metadata": {},
   "outputs": [
    {
     "name": "stdout",
     "output_type": "stream",
     "text": [
      "Достикаемый уровень значимости: 1.5633210356e-07\n"
     ]
    }
   ],
   "source": [
    "chi2_5 = stats.chi2_contingency(np.array([[a, b],[c, d]]))\n",
    "print 'Достикаемый уровень значимости: %s' % chi2_5[1]"
   ]
  },
  {
   "cell_type": "markdown",
   "metadata": {},
   "source": [
    "Нулевую гипотезу можно с уверенностью отвергунть на уровне значимости 0.95. Холостые люди чаще отдают кредит."
   ]
  },
  {
   "cell_type": "markdown",
   "metadata": {},
   "source": [
    "## Задание 5\n",
    "\n",
    "Возраст (AGE): Относительно двух групп людей вернувших и не вернувших кредит проверьте следующие гипотезы: a) о равенстве медианных значений возрастов людей b) о равенстве распределений с помощью одного из подходящих непараметрических критериев проверки равенства средних. Значимы ли полученные результаты с практической точки зрения?"
   ]
  },
  {
   "cell_type": "code",
   "execution_count": 106,
   "metadata": {},
   "outputs": [
    {
     "data": {
      "image/png": "[encoded data removed]",
      "text/plain": [
       "<matplotlib.figure.Figure at 0x108dbb70>"
      ]
     },
     "metadata": {},
     "output_type": "display_data"
    }
   ],
   "source": [
    "pylab.figure(figsize=(12,8))\n",
    "pylab.subplot(2,2,1)\n",
    "data_return['AGE'].plot.hist()\n",
    "pylab.title('AGE returned', fontsize=14)\n",
    "pylab.subplot(2,2,2)\n",
    "data_not_return['AGE'].plot.hist()\n",
    "pylab.title('AGE not returned', fontsize=14)\n",
    "pylab.show()"
   ]
  },
  {
   "cell_type": "markdown",
   "metadata": {},
   "source": [
    "Похоже, среди вернувших меньше доля 20-ти летних."
   ]
  },
  {
   "cell_type": "code",
   "execution_count": 112,
   "metadata": {},
   "outputs": [
    {
     "name": "stdout",
     "output_type": "stream",
     "text": [
      "95% доверительный интервал медианы кредитного лимита для вернувших кредит: [34.000000, 34.000000]\n",
      "95% доверительный интервал медианы кредитного лимита для не вернувших кредит: [34.000000, 35.000000]\n"
     ]
    }
   ],
   "source": [
    "rank_list_return = data_return.sort_values(['AGE'])['AGE']\n",
    "rank_list_not_return = data_not_return.sort_values(['AGE'])['AGE']\n",
    "print '95%% доверительный интервал медианы возраста для вернувших кредит: [%f, %f]' % get_median_confint(rank_list_return.tolist())\n",
    "print '95%% доверительный интервал медианы возраста для не вернувших кредит: [%f, %f]' % get_median_confint(rank_list_not_return.tolist())"
   ]
  },
  {
   "cell_type": "markdown",
   "metadata": {},
   "source": [
    "Интервалы пересекаются, по ним нельзя утверждать, что медианы возраста в группах различаются."
   ]
  },
  {
   "cell_type": "markdown",
   "metadata": {},
   "source": [
    "Проверим равенство распределений возраста с помощью перестановочного критерия для независимых выборок.\n",
    "H0: распределения равны\n",
    "H1: распределения не равны"
   ]
  },
  {
   "cell_type": "code",
   "execution_count": 116,
   "metadata": {},
   "outputs": [
    {
     "name": "stdout",
     "output_type": "stream",
     "text": [
      "p-value: 0.017200\n"
     ]
    }
   ],
   "source": [
    "print \"p-value: %f\" % permutation_test(data_return['AGE'], data_not_return['AGE'], max_permutations = 10000)"
   ]
  },
  {
   "cell_type": "markdown",
   "metadata": {},
   "source": [
    "Нулевую гипотезу можно с отвергнуть на уровне значимости 0.95."
   ]
  }
 ],
 "metadata": {
  "kernelspec": {
   "display_name": "Python 2",
   "language": "python",
   "name": "python2"
  },
  "language_info": {
   "codemirror_mode": {
    "name": "ipython",
    "version": 2
   },
   "file_extension": ".py",
   "mimetype": "text/x-python",
   "name": "python",
   "nbconvert_exporter": "python",
   "pygments_lexer": "ipython2",
   "version": "2.7.13"
  }
 },
 "nbformat": 4,
 "nbformat_minor": 1
}
