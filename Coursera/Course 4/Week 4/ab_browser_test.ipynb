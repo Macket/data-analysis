{
 "cells": [
  {
   "cell_type": "code",
   "execution_count": 100,
   "metadata": {
    "collapsed": true
   },
   "outputs": [],
   "source": [
    "import pandas as pd\n",
    "import numpy as np\n",
    "from scipy import stats\n",
    "import matplotlib as plt\n",
    "from statsmodels.sandbox.stats.multicomp import multipletests "
   ]
  },
  {
   "cell_type": "code",
   "execution_count": 20,
   "metadata": {},
   "outputs": [
    {
     "name": "stdout",
     "output_type": "stream",
     "text": [
      "Populating the interactive namespace from numpy and matplotlib\n"
     ]
    },
    {
     "name": "stderr",
     "output_type": "stream",
     "text": [
      "/home/ivan/anaconda2/lib/python2.7/site-packages/IPython/core/magics/pylab.py:161: UserWarning: pylab import has clobbered these variables: ['exp']\n",
      "`%matplotlib` prevents importing * from pylab and numpy\n",
      "  \"\\n`%matplotlib` prevents importing * from pylab and numpy\"\n"
     ]
    }
   ],
   "source": [
    "%pylab inline"
   ]
  },
  {
   "cell_type": "markdown",
   "metadata": {},
   "source": [
    "В данном задании вам нужно будет\n",
    "\n",
    "* проанализировать АБ тест, проведенный на реальных пользователях Яндекса\n",
    "* подтвердить или опровергнуть наличие изменений в пользовательском поведении между контрольной (control) и тестовой (exp) группами\n",
    "* определить характер этих изменений и практическую значимость вводимого изменения\n",
    "* понять, какая из пользовательских групп более всего проигрывает / выигрывает от тестируемого изменения (локализовать изменение)\n",
    "\n",
    "Описание данных:\n",
    "\n",
    "* userID: уникальный идентификатор пользователя\n",
    "* browser: браузер, который использовал userID\n",
    "* slot: в каком статусе пользователь участвовал в исследовании (exp = видел измененную страницу, control = видел неизменную страницу)\n",
    "* n_clicks: количество кликов, которые пользоваль совершил за n_queries\n",
    "* n_queries: количество запросов, который совершил userID, пользуясь браузером browser\n",
    "* n_nonclk_queries: количество запросов пользователя, в которых им не было совершено ни одного клика\n",
    "\n",
    "Обращаем ваше внимание, что не все люди используют только один браузер, поэтому в столбце userID есть повторяющиеся идентификаторы. В предлагаемых данных уникальным является сочетание userID и browser.\n",
    "\n",
    "ab_browser_test.csv\n",
    "Основная метрика, на которой мы сосредоточимся в этой работе, — это количество пользовательских кликов на web-странице в зависимости от тестируемого изменения этой страницы.\n",
    "\n",
    "Посчитайте, насколько в группе exp больше пользовательских кликов по сравнению с группой control в $процентах$ от числа кликов в контрольной группе.\n",
    "\n",
    "Полученный процент округлите до третьего знака после точки."
   ]
  },
  {
   "cell_type": "code",
   "execution_count": 3,
   "metadata": {
    "collapsed": true
   },
   "outputs": [],
   "source": [
    "data = pd.read_csv('ab_browser_test.csv', sep = ',', header = 0)"
   ]
  },
  {
   "cell_type": "code",
   "execution_count": 4,
   "metadata": {},
   "outputs": [
    {
     "data": {
      "text/html": [
       "<div>\n",
       "<style>\n",
       "    .dataframe thead tr:only-child th {\n",
       "        text-align: right;\n",
       "    }\n",
       "\n",
       "    .dataframe thead th {\n",
       "        text-align: left;\n",
       "    }\n",
       "\n",
       "    .dataframe tbody tr th {\n",
       "        vertical-align: top;\n",
       "    }\n",
       "</style>\n",
       "<table border=\"1\" class=\"dataframe\">\n",
       "  <thead>\n",
       "    <tr style=\"text-align: right;\">\n",
       "      <th></th>\n",
       "      <th>userID</th>\n",
       "      <th>browser</th>\n",
       "      <th>slot</th>\n",
       "      <th>n_clicks</th>\n",
       "      <th>n_queries</th>\n",
       "      <th>n_nonclk_queries</th>\n",
       "    </tr>\n",
       "  </thead>\n",
       "  <tbody>\n",
       "    <tr>\n",
       "      <th>0</th>\n",
       "      <td>1</td>\n",
       "      <td>Browser #2</td>\n",
       "      <td>exp</td>\n",
       "      <td>23</td>\n",
       "      <td>32</td>\n",
       "      <td>19</td>\n",
       "    </tr>\n",
       "    <tr>\n",
       "      <th>1</th>\n",
       "      <td>3</td>\n",
       "      <td>Browser #4</td>\n",
       "      <td>exp</td>\n",
       "      <td>3</td>\n",
       "      <td>4</td>\n",
       "      <td>2</td>\n",
       "    </tr>\n",
       "    <tr>\n",
       "      <th>2</th>\n",
       "      <td>5</td>\n",
       "      <td>Browser #4</td>\n",
       "      <td>exp</td>\n",
       "      <td>29</td>\n",
       "      <td>35</td>\n",
       "      <td>16</td>\n",
       "    </tr>\n",
       "    <tr>\n",
       "      <th>3</th>\n",
       "      <td>6</td>\n",
       "      <td>Browser #4</td>\n",
       "      <td>control</td>\n",
       "      <td>12</td>\n",
       "      <td>6</td>\n",
       "      <td>0</td>\n",
       "    </tr>\n",
       "    <tr>\n",
       "      <th>4</th>\n",
       "      <td>7</td>\n",
       "      <td>Browser #4</td>\n",
       "      <td>exp</td>\n",
       "      <td>54</td>\n",
       "      <td>68</td>\n",
       "      <td>30</td>\n",
       "    </tr>\n",
       "  </tbody>\n",
       "</table>\n",
       "</div>"
      ],
      "text/plain": [
       "   userID     browser     slot  n_clicks  n_queries  n_nonclk_queries\n",
       "0       1  Browser #2      exp        23         32                19\n",
       "1       3  Browser #4      exp         3          4                 2\n",
       "2       5  Browser #4      exp        29         35                16\n",
       "3       6  Browser #4  control        12          6                 0\n",
       "4       7  Browser #4      exp        54         68                30"
      ]
     },
     "execution_count": 4,
     "metadata": {},
     "output_type": "execute_result"
    }
   ],
   "source": [
    "data.head()"
   ]
  },
  {
   "cell_type": "code",
   "execution_count": 46,
   "metadata": {
    "collapsed": true
   },
   "outputs": [],
   "source": [
    "exp = data[data.slot == 'exp']\n",
    "control = data[data.slot == 'control']"
   ]
  },
  {
   "cell_type": "code",
   "execution_count": 6,
   "metadata": {},
   "outputs": [
    {
     "data": {
      "text/plain": [
       "1.6135689824415809"
      ]
     },
     "execution_count": 6,
     "metadata": {},
     "output_type": "execute_result"
    }
   ],
   "source": [
    "(sum(exp.n_clicks.values) - sum(control.n_clicks.values))/float(sum(control.n_clicks.values))*100"
   ]
  },
  {
   "cell_type": "markdown",
   "metadata": {},
   "source": [
    "Давайте попробуем посмотреть более внимательно на разницу между двумя группами (control и exp) относительно количества пользовательских кликов.\n",
    "\n",
    "Для этого постройте с помощью бутстрепа 95% доверительный интервал для средних значений и медиан количества кликов в каждой из двух групп. Отметьте все верные утверждения."
   ]
  },
  {
   "cell_type": "code",
   "execution_count": 7,
   "metadata": {
    "collapsed": true
   },
   "outputs": [],
   "source": [
    "def get_bootstrap_samples(data, n_samples):\n",
    "    indices = np.random.randint(0, len(data), (n_samples, len(data)))\n",
    "    samples = data[indices]\n",
    "    return samples"
   ]
  },
  {
   "cell_type": "code",
   "execution_count": 8,
   "metadata": {
    "collapsed": true
   },
   "outputs": [],
   "source": [
    "def stat_intervals(stat, alpha):\n",
    "    boundaries = np.percentile(stat, [100 * alpha / 2., 100 * (1 - alpha / 2.)])\n",
    "    return boundaries"
   ]
  },
  {
   "cell_type": "markdown",
   "metadata": {},
   "source": [
    "Доверительные интервалы для медиан"
   ]
  },
  {
   "cell_type": "code",
   "execution_count": 9,
   "metadata": {},
   "outputs": [
    {
     "name": "stdout",
     "output_type": "stream",
     "text": [
      "95% confidence interval for the exp median number of clicks: [ 5.  5.]\n",
      "95% confidence interval for the control median number of clicks: [ 4.  4.]\n"
     ]
    }
   ],
   "source": [
    "np.random.seed(0)\n",
    "\n",
    "exp_n_clicks_median_scores = map(np.median, get_bootstrap_samples(exp.n_clicks.values, 500))\n",
    "control_n_clicks_median_scores = map(np.median, get_bootstrap_samples(control.n_clicks.values , 500))\n",
    "\n",
    "print \"95% confidence interval for the exp median number of clicks:\", stat_intervals(exp_n_clicks_median_scores , 0.05)\n",
    "print \"95% confidence interval for the control median number of clicks:\", stat_intervals(control_n_clicks_median_scores , 0.05)"
   ]
  },
  {
   "cell_type": "code",
   "execution_count": 11,
   "metadata": {},
   "outputs": [
    {
     "name": "stdout",
     "output_type": "stream",
     "text": [
      "95% confidence interval for the difference between medians [-1. -1.]\n"
     ]
    }
   ],
   "source": [
    "delta_median_scores = map(lambda x: x[1] - x[0], zip(exp_n_clicks_median_scores, control_n_clicks_median_scores))\n",
    "print \"95% confidence interval for the difference between medians\",  stat_intervals(delta_median_scores, 0.05)"
   ]
  },
  {
   "cell_type": "markdown",
   "metadata": {},
   "source": [
    "Доверительные интервалы для средних"
   ]
  },
  {
   "cell_type": "code",
   "execution_count": 10,
   "metadata": {},
   "outputs": [
    {
     "name": "stdout",
     "output_type": "stream",
     "text": [
      "95% confidence interval for the exp mean number of clicks: [ 11.50789349  11.6588664 ]\n",
      "95% confidence interval for the control mean number of clicks: [ 11.20668696  11.35347509]\n"
     ]
    }
   ],
   "source": [
    "np.random.seed(0)\n",
    "\n",
    "exp_n_clicks_mean_scores = map(np.mean, get_bootstrap_samples(exp.n_clicks.values, 500))\n",
    "control_n_clicks_mean_scores = map(np.mean, get_bootstrap_samples(control.n_clicks.values , 500))\n",
    "\n",
    "print \"95% confidence interval for the exp mean number of clicks:\", stat_intervals(exp_n_clicks_mean_scores , 0.05)\n",
    "print \"95% confidence interval for the control mean number of clicks:\", stat_intervals(control_n_clicks_mean_scores , 0.05)"
   ]
  },
  {
   "cell_type": "code",
   "execution_count": 12,
   "metadata": {},
   "outputs": [
    {
     "name": "stdout",
     "output_type": "stream",
     "text": [
      "95% confidence interval for the difference between medians [-0.40496719 -0.19960335]\n"
     ]
    }
   ],
   "source": [
    "delta_mean_scores = map(lambda x: x[1] - x[0], zip(exp_n_clicks_mean_scores, control_n_clicks_mean_scores))\n",
    "print \"95% confidence interval for the difference between medians\",  stat_intervals(delta_mean_scores, 0.05)"
   ]
  },
  {
   "cell_type": "markdown",
   "metadata": {},
   "source": [
    "t-критерий Стьюдента имеет множество достоинств, и потому его достаточно часто применяют в AB экспериментах. Иногда его применение может быть необоснованно из-за сильной скошенности распределения данных.\n",
    "\n",
    "Давайте постараемся понять, когда t-критерий можно применять и как это проверить на реальных данных.\n",
    "\n",
    "Для простоты рассмотрим одновыборочный t-критерий. Его статистика имеет вид X¯−μS2/n√, то есть чтобы действительно предположения t-критерия выполнялись необходимо, чтобы:\n",
    "\n",
    "* X¯ — среднее значение в выборке — было распределено нормально N(μ,σ2n)\n",
    "* nσ2S2 — несмещенная оценка дисперсии c масштабирующим коэффициентом — была распределена по хи-квадрат c n−1 степенями свободы χ2(n−1)\n",
    "\n",
    "Простое доказательство необходимости и достаточности этого требования можно посмотреть в самом последнем абзаце этого вопроса. Усвоение этого доказательства не обязательно для выполнения задания.\n",
    "\n",
    "Оба этих предположения можно проверить с помощью бутстрепа. Ограничимся сейчас только контрольной группой, в которой распределение кликов будем называть данными в рамках данного вопроса.\n",
    "\n",
    "Поскольку мы не знаем истинного распределения генеральной совокупности, мы можем применить бутстреп, чтобы понять, как распределены среднее значение и выборочная дисперсия. Для этого\n",
    "\n",
    "* Получите из данных n_boot_samples псевдовыборок.\n",
    "* По каждой из этих выборок посчитайте среднее и сумму квадратов отклонения от выборочного среднего (control_boot_chi_squared)\n",
    "* Для получившегося вектора средних значений из n_boot_samples постройте q-q plot с помощью scipy.stats.probplot для нормального распределения\n",
    "* Для получившегося вектора сумм квадратов отклонения от выборочного среднего постройте qq-plot с помощью scipy.stats.probplot для хи-квадрат распределения с помощью команды\n",
    "\n",
    "Почему мы проверяем именно такие условия?\n",
    "\n",
    "В исходной постановке t-критерий требует нормальности распределения Xi. Именно из-за этого предположения мы имеем, что ∑iXi∼N(nμ,nσ2) в силу линейности матожидания, независимости всех Xi между собой и того факта, что сумма нескольких нормальных случайных величин также нормальна.\n",
    "\n",
    "Поэтому, пользуясь опять формальными свойствами матожидания и дисперсии можем записать, что 1n∑iXi−μ ∼ N(0,σ2n)\n",
    "\n",
    "Заметим теперь, что следующие распределения эквивалентны N(0,σ2n)∼σ2n−−√N(0,1)\n",
    "То есть другими словами мы получили, что исходная статистика X¯−μS2/n√ распределена как N(0,1)S2nnσ2√ ∼ N(0,1)S2σ2√\n",
    "Вспомним, что распределение Стьюдента с n−1 степенями свободы определяется как N(0,1)χ2/(n−1)√. Поэтому и требования, которые накладываются, имеют вид, указанный в начале этого вопроса.\n",
    "\n",
    "Полезно, однако, заметить, что можно подставить в числитель и знаменатель любые случайные величины, распределенные по нормальному закону и по Хи-квадрат соответственно, для этого необязательно, чтобы именно Xi были распределены нормально. Поэтому, если мы убедимся в том, что, действительно, числитель и знаменатель распределены образом, указанным выше, то можно смело использовать t-критерий Стьюдента."
   ]
  },
  {
   "cell_type": "code",
   "execution_count": 13,
   "metadata": {
    "collapsed": true
   },
   "outputs": [],
   "source": [
    "np.random.seed(0)\n",
    "n_boot_samples = 500\n",
    "\n",
    "control_boot_mean = map(np.mean, get_bootstrap_samples(control.n_clicks.values, n_boot_samples))\n",
    "control_boot_chi_squared = map(np.std, get_bootstrap_samples(control.n_clicks.values, n_boot_samples))"
   ]
  },
  {
   "cell_type": "code",
   "execution_count": 38,
   "metadata": {},
   "outputs": [
    {
     "data": {
      "image/png": "[encoded data removed]",
      "text/plain": [
       "<matplotlib.figure.Figure at 0x7f99d9ec5490>"
      ]
     },
     "metadata": {},
     "output_type": "display_data"
    }
   ],
   "source": [
    "x1, x2 = stats.probplot(control_boot_mean, dist=\"norm\", sparams=(n_boot_samples-1), plot=pylab)\n",
    "pylab.show()"
   ]
  },
  {
   "cell_type": "code",
   "execution_count": 39,
   "metadata": {},
   "outputs": [
    {
     "data": {
      "text/plain": [
       "(0.037774667185630946, -7.5663143112508493, 0.99797483646042073)"
      ]
     },
     "execution_count": 39,
     "metadata": {},
     "output_type": "execute_result"
    }
   ],
   "source": [
    "x2"
   ]
  },
  {
   "cell_type": "code",
   "execution_count": 40,
   "metadata": {},
   "outputs": [
    {
     "data": {
      "text/plain": [
       "0.99595377420820352"
      ]
     },
     "execution_count": 40,
     "metadata": {},
     "output_type": "execute_result"
    }
   ],
   "source": [
    "x2[2]*x2[2]"
   ]
  },
  {
   "cell_type": "code",
   "execution_count": 30,
   "metadata": {},
   "outputs": [
    {
     "data": {
      "image/png": "[encoded data removed]",
      "text/plain": [
       "<matplotlib.figure.Figure at 0x7f99d9d10b90>"
      ]
     },
     "metadata": {},
     "output_type": "display_data"
    }
   ],
   "source": [
    "x1, x2 = stats.probplot(control_boot_chi_squared, dist=\"chi2\",sparams=(n_boot_samples-1), plot=pylab)\n",
    "pylab.show()"
   ]
  },
  {
   "cell_type": "code",
   "execution_count": 41,
   "metadata": {},
   "outputs": [
    {
     "data": {
      "text/plain": [
       "(0.037774667185630946, -7.5663143112508493, 0.99797483646042073)"
      ]
     },
     "execution_count": 41,
     "metadata": {},
     "output_type": "execute_result"
    }
   ],
   "source": [
    "x2"
   ]
  },
  {
   "cell_type": "code",
   "execution_count": 42,
   "metadata": {},
   "outputs": [
    {
     "data": {
      "text/plain": [
       "0.99595377420820352"
      ]
     },
     "execution_count": 42,
     "metadata": {},
     "output_type": "execute_result"
    }
   ],
   "source": [
    "x2[2]*x2[2]"
   ]
  },
  {
   "cell_type": "markdown",
   "metadata": {},
   "source": [
    "Одним из возможных аналогов t-критерия, которым можно воспрользоваться, является тест Манна-Уитни. На достаточно обширном классе распределений он является асимптотически более эффективным, чем t-критерий, и при этом не требует параметрических предположений о характере распределения.\n",
    "\n",
    "Разделите выборку на две части, соответствующие control и exp группам. Преобразуйте данные к виду, чтобы каждому пользователю соответствовало суммарное значение его кликов. С помощью критерия Манна-Уитни проверьте гипотезу о равенстве средних. Что можно сказать о получившемся значении достигаемого уровня значимости ? Выберите все правильные ответы"
   ]
  },
  {
   "cell_type": "code",
   "execution_count": 70,
   "metadata": {},
   "outputs": [],
   "source": [
    "n_click_control_by_user = control.groupby(by='userID')['n_clicks'].agg(np.sum)\n",
    "n_click_exp_by_user = exp.groupby(by='userID')['n_clicks'].agg(np.sum)"
   ]
  },
  {
   "cell_type": "code",
   "execution_count": 71,
   "metadata": {},
   "outputs": [
    {
     "data": {
      "text/plain": [
       "MannwhitneyuResult(statistic=38901259929.0, pvalue=4.3471471887604393e-75)"
      ]
     },
     "execution_count": 71,
     "metadata": {},
     "output_type": "execute_result"
    }
   ],
   "source": [
    "stats.mannwhitneyu(n_click_control_by_user.values, n_click_exp_by_user.values)"
   ]
  },
  {
   "cell_type": "markdown",
   "metadata": {},
   "source": [
    "Проверьте, для какого из браузеров наиболее сильно выражено отличие между количеством кликов в контрольной и экспериментальной группах.\n",
    "\n",
    "Для этого примените для каждого из срезов (по каждому из уникальных значений столбца browser) критерий Манна-Уитни между control и exp группами и сделайте поправку Холма-Бонферрони на множественную проверку с α=0.05.\n",
    "\n",
    "Какое заключение можно сделать исходя из полученных результатов ?\n",
    "\n",
    "В качестве ответа введите количество незначимых изменений с точки зрения результатов, полученных после введения коррекции."
   ]
  },
  {
   "cell_type": "code",
   "execution_count": 74,
   "metadata": {},
   "outputs": [
    {
     "data": {
      "text/plain": [
       "Browser #4     156833\n",
       "Browser #22    142905\n",
       "Browser #2     110737\n",
       "Browser #14     89123\n",
       "Browser #20     33929\n",
       "Browser #17     32607\n",
       "Name: browser, dtype: int64"
      ]
     },
     "execution_count": 74,
     "metadata": {},
     "output_type": "execute_result"
    }
   ],
   "source": [
    "data.browser.value_counts()"
   ]
  },
  {
   "cell_type": "code",
   "execution_count": 82,
   "metadata": {},
   "outputs": [],
   "source": [
    "exp4 = data[(data.browser == 'Browser #4') & (data.slot == 'exp')]\n",
    "control4 = data[(data.browser == 'Browser #4') & (data.slot == 'control')]\n",
    "\n",
    "exp22 = data[(data.browser == 'Browser #22') & (data.slot == 'exp')]\n",
    "control22 = data[(data.browser == 'Browser #22') & (data.slot == 'control')]\n",
    "\n",
    "exp2 = data[(data.browser == 'Browser #2') & (data.slot == 'exp')]\n",
    "control2 = data[(data.browser == 'Browser #2') & (data.slot == 'control')]\n",
    "\n",
    "exp14 = data[(data.browser == 'Browser #14') & (data.slot == 'exp')]\n",
    "control14 = data[(data.browser == 'Browser #14') & (data.slot == 'control')]\n",
    "\n",
    "exp20 = data[(data.browser == 'Browser #20') & (data.slot == 'exp')]\n",
    "control20 = data[(data.browser == 'Browser #20') & (data.slot == 'control')]\n",
    "\n",
    "exp17 = data[(data.browser == 'Browser #17') & (data.slot == 'exp')]\n",
    "control17 = data[(data.browser == 'Browser #17') & (data.slot == 'control')]"
   ]
  },
  {
   "cell_type": "code",
   "execution_count": 83,
   "metadata": {},
   "outputs": [],
   "source": [
    "p_values = []\n",
    "\n",
    "p_values.append(stats.mannwhitneyu(exp4.n_clicks.values, control4.n_clicks.values))\n",
    "p_values.append(stats.mannwhitneyu(exp22.n_clicks.values, control22.n_clicks.values))\n",
    "p_values.append(stats.mannwhitneyu(exp2.n_clicks.values, control2.n_clicks.values))\n",
    "p_values.append(stats.mannwhitneyu(exp14.n_clicks.values, control14.n_clicks.values))\n",
    "p_values.append(stats.mannwhitneyu(exp20.n_clicks.values, control20.n_clicks.values))\n",
    "p_values.append(stats.mannwhitneyu(exp17.n_clicks.values, control17.n_clicks.values))"
   ]
  },
  {
   "cell_type": "code",
   "execution_count": 96,
   "metadata": {},
   "outputs": [
    {
     "data": {
      "text/plain": [
       "[MannwhitneyuResult(statistic=3072447765.0, pvalue=0.40760617658454984),\n",
       " MannwhitneyuResult(statistic=2547597959.5, pvalue=0.25740551522100319),\n",
       " MannwhitneyuResult(statistic=1522572720.0, pvalue=0.027243860419724101),\n",
       " MannwhitneyuResult(statistic=806984730.5, pvalue=0.0),\n",
       " MannwhitneyuResult(statistic=143791805.0, pvalue=0.45366656388735377),\n",
       " MannwhitneyuResult(statistic=131389681.0, pvalue=0.037400601430108017)]"
      ]
     },
     "execution_count": 96,
     "metadata": {},
     "output_type": "execute_result"
    }
   ],
   "source": [
    "p_values"
   ]
  },
  {
   "cell_type": "code",
   "execution_count": 97,
   "metadata": {
    "collapsed": true
   },
   "outputs": [],
   "source": [
    "for i in range(6):\n",
    "    p_values[i] = p_values[i][1]"
   ]
  },
  {
   "cell_type": "code",
   "execution_count": 98,
   "metadata": {},
   "outputs": [
    {
     "data": {
      "text/plain": [
       "[0.40760617658454984,\n",
       " 0.25740551522100319,\n",
       " 0.027243860419724101,\n",
       " 0.0,\n",
       " 0.45366656388735377,\n",
       " 0.037400601430108017]"
      ]
     },
     "execution_count": 98,
     "metadata": {},
     "output_type": "execute_result"
    }
   ],
   "source": [
    "p_values"
   ]
  },
  {
   "cell_type": "code",
   "execution_count": 142,
   "metadata": {},
   "outputs": [],
   "source": [
    "reject, p_corrected, a1, a2 = multipletests(p_values, \n",
    "                                            alpha = 0.05, \n",
    "                                            method = 'bonferroni')"
   ]
  },
  {
   "cell_type": "code",
   "execution_count": 140,
   "metadata": {},
   "outputs": [
    {
     "data": {
      "text/plain": [
       "array([ 1.        ,  1.        ,  0.16346316,  0.        ,  1.        ,\n",
       "        0.22440361])"
      ]
     },
     "execution_count": 140,
     "metadata": {},
     "output_type": "execute_result"
    }
   ],
   "source": [
    "p_corrected"
   ]
  },
  {
   "cell_type": "code",
   "execution_count": 143,
   "metadata": {},
   "outputs": [
    {
     "data": {
      "text/plain": [
       "array([False, False, False,  True, False, False], dtype=bool)"
      ]
     },
     "execution_count": 143,
     "metadata": {},
     "output_type": "execute_result"
    }
   ],
   "source": [
    "reject"
   ]
  },
  {
   "cell_type": "markdown",
   "metadata": {},
   "source": [
    "Для каждого браузера в каждой из двух групп (control и exp) посчитайте долю запросов, в которых пользователь не кликнул ни разу. Это можно сделать, поделив сумму значений n_nonclk_queries на сумму значений n_queries. Умножив это значение на 100, получим процент некликнутых запросов, который можно легче проинтерпретировать.\n",
    "\n",
    "Сходятся ли результаты проведенного Вами анализа с показателем процента некликнутых запросов ? Отметьте все верные утверждения."
   ]
  },
  {
   "cell_type": "code",
   "execution_count": 123,
   "metadata": {},
   "outputs": [],
   "source": [
    "nonclk_control_by_browser = control.groupby(by='browser')['n_nonclk_queries'].agg(np.sum)\n",
    "nonclk_exp_by_browser = exp.groupby(by='browser')['n_nonclk_queries'].agg(np.sum)\n",
    "\n",
    "queries_control_by_browser = control.groupby(by='browser')['n_queries'].agg(np.sum)\n",
    "queries_exp_by_browser = exp.groupby(by='browser')['n_queries'].agg(np.sum)"
   ]
  },
  {
   "cell_type": "code",
   "execution_count": 132,
   "metadata": {},
   "outputs": [],
   "source": [
    "rel_control = []\n",
    "rel_exp = []\n",
    "for i in range(6):\n",
    "    rel_control.append(nonclk_control_by_browser[i]*100/float(queries_control_by_browser[i]))\n",
    "    rel_exp.append(nonclk_exp_by_browser[i]*100/float(queries_exp_by_browser[i]))"
   ]
  },
  {
   "cell_type": "code",
   "execution_count": 133,
   "metadata": {},
   "outputs": [
    {
     "data": {
      "text/plain": [
       "[57.590411360081141,\n",
       " 36.299366746282089,\n",
       " 45.96274717919465,\n",
       " 40.540484743383296,\n",
       " 40.593976593513354,\n",
       " 46.970929635142738]"
      ]
     },
     "execution_count": 133,
     "metadata": {},
     "output_type": "execute_result"
    }
   ],
   "source": [
    "rel_control"
   ]
  },
  {
   "cell_type": "code",
   "execution_count": 134,
   "metadata": {},
   "outputs": [
    {
     "data": {
      "text/plain": [
       "[43.755617361273295,\n",
       " 36.937412848664827,\n",
       " 44.982746948554706,\n",
       " 38.977376483717158,\n",
       " 39.853947219695463,\n",
       " 45.142941903584671]"
      ]
     },
     "execution_count": 134,
     "metadata": {},
     "output_type": "execute_result"
    }
   ],
   "source": [
    "rel_exp"
   ]
  }
 ],
 "metadata": {
  "kernelspec": {
   "display_name": "Python 2",
   "language": "python",
   "name": "python2"
  },
  "language_info": {
   "codemirror_mode": {
    "name": "ipython",
    "version": 2
   },
   "file_extension": ".py",
   "mimetype": "text/x-python",
   "name": "python",
   "nbconvert_exporter": "python",
   "pygments_lexer": "ipython2",
   "version": "2.7.13"
  }
 },
 "nbformat": 4,
 "nbformat_minor": 2
}
