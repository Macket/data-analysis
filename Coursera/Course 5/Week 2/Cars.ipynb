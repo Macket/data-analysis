{
 "cells": [
  {
   "cell_type": "markdown",
   "metadata": {},
   "source": [
    "Задача заключается в том, чтобы применить предобученную на imagenet нейронную сеть на практической задаче классификации автомобилей.\n",
    "\n",
    "Учиться применять нейронные сети для анализа изображений мы будем на библиотеке TensorFlow. Это известный опенсорсный проект, разработанный инженерами Google Brain Team. Подробнее почитать о TensorFlow можно на официальном сайте, на гитхабе(https://github.com/tensorflow/tensorflow) или на хабре(https://habrahabr.ru/post/270543/).\n",
    "\n",
    "Установка окружения\n",
    "\n",
    "Необходимо установить TensorFlow.\n",
    "\n",
    "   * Инструкции по установке на сайте: https://www.tensorflow.org/install/#download-and-setup.\n",
    "   * Если есть опыт работы с Docker, то можно воспользоваться готовым докер-контейнером с тензорфлоу(https://www.tensorflow.org/install/#docker-installation). Чтобы пробросить данные в докер, можно воспользоваться флагом -v /src/webapp:/opt/webapp при запуске докер контейнера. Тогда директория на хосте /src/webapp будет доступна в контейнтере по /opt/webapp.\n",
    "\n",
    "Важно! Если вы пользователь windows, то уставить tensorflow можно только в том случае, если вы используете Python 3.5.2 и выше. Это можно сделать с помощью команды pip install tensorflow.\n",
    "\n",
    "Пользователи Windows 10 и выше могут воспользоваться Docker (https://www.docker.com/community-edition#/windows).\n",
    "\n",
    "Если у вас возникли проблемы по работе с Tensorflow из Docker контейнера, воспользуйтесь F.A.Q(https://github.com/ton4eg/coursera_pa/blob/master/faq/tensorflow_docker_faq.ipynb).\n",
    "\n",
    "Если же поставить Tensorflow на вашу машину никак не получается, мы предлагаем воспользоваться одним из облачных сервисов, в который необходимо установить линукс-образ. Самые популярные облачные сервисы AWS(https://aws.amazon.com/) и DigitalOcean(https://www.digitalocean.com/) предоставляют бесплатные инстансы (имейте в виду, что для того, чтобы ими воспользоваться, нужно будет привязать кредитную карту).\n",
    "\n",
    "Чтобы освоить компьютерное зрение (или другие интересные задачи из области ML и AI), так или иначе придётся научиться работать с библиотеками нейронных сетей, линуксом и виртуальными серверами. Например, для более масштабных практических задач, крайне необходимы сервера с GPU, а с ними уже локально работать не получиться.Тем не менее, мы понимаем, что в силу временных ограничений курса кто-то может успеть установить TensorFlow. Поэтому мы сделали пункты 1 и 2 необязательными. На оценку они не повлияют — можете сразу переходить к третьему пункту.Помимо tensorflow, потребуется библиотека scipy. Если вы уже работали с Anaconda и/или выполняли задания в нашей специализации, то она должна присутствовать.\n",
    "\n",
    "Данные\n",
    "\n",
    "Скачать данные нужно тут: https://yadi.sk/d/6m_KbM4HvmLfs\n",
    "\n",
    "Данные это часть выборки Cars Dataset (http://ai.stanford.edu/~jkrause/cars/car_dataset.html). Исходный датасет содержит 16,185 изображений автомобилей, принадлежащих к 196 классам. Данные разделены на 8,144 тренировочных и 8,041 тестовых изображений, при этом каждый класс разделён приблизительно поровну между тестом и трейном. Все классы уровня параметров Марка, Год, Модель и др. (например, 2012 Tesla Model S or 2012 BMW M3 coupe). В нашем же случае в train 204 изображения, и в test — 202 изображения.\n",
    "\n",
    "Что делатьПомимо данных, потребуется скачать:\n",
    "\n",
    "   * код: https://github.com/ton4eg/coursera_pa,\n",
    "   * веса модели по ссылке: https://yadi.sk/d/F6_ZiHHI3GMDGZ.\n",
    "\n",
    "Положите данные, код и модель в одну папку. У вас должна получиться такая структура: \n",
    "\n",
    "/assignment-computer-vision/\n",
    "|\n",
    "|-- test              # папки  \n",
    "|    `---- ...        # с\n",
    "|-- train             # картинками\n",
    "|    `---- ...\n",
    "|\n",
    "|-- class_names.txt   # имена классов, номер строки соответствует id класса\n",
    "|-- results.txt       # соответствие имя картинки — id класса\n",
    "|-- vgg16_weights.npz # веса модели в формате tensorflow\n",
    "|\n",
    "|-- vgg16.ipynb            # основной скрипт\n",
    "|-- imagenet_classes.py \n",
    "|\n",
    "`-- beach.jpg         # картиночка с пляжем\n",
    "\n",
    "### Задание 1.\n",
    "\n",
    "Для начала нужно запустить готовую модель vgg16, предобученную на imagenet. Модель обучена с помощью caffe и сконвертирована в форматtensorflow - vgg16_weights.npz. Скрипт, иллюстрирующий применение этой модели к изображению, находится внутри ноутбука vgg16.ipynb и возвращает топ-5 классов из imagenet, а так же уверенность в этих классах.\n",
    "\n",
    "#### Задание:\n",
    "\n",
    "Загрузите уверенность первого класса для изображения train/00002.jpg с точностью до 1го знака после запятой.\n",
    "\n",
    "### Задание 2.\n",
    "\n",
    "Научитесь извлекать fc2 слой. Для этого нужно модифицировать process_image, чтобы вместо последнего слоя извлекались выходы fc2.\n",
    "\n",
    "#### Задание:\n",
    "\n",
    "Посчитайте fc2 для картинки train/00002.jpg. Запишите первые 20 компонент (каждое число с новой строки, т.е. в загружаемом файле должно получиться 20 строк).\n",
    "\n",
    "### Задание 3.\n",
    "\n",
    "Теперь необходимо дообучить классификатор на нашей базе. В качестве бейзлайна предлагается воспользоваться классификатором svm из пакета sklearn.\n",
    "\n",
    "    Модифицировать функцию get_features и добавить возможность вычислять fc2. (Мы это уже сделали в process_image).\n",
    "    Применить get_features, чтобы получить X_test и Y_test.\n",
    "    Воспользоваться классификатором, SVC с random_state=0.\n",
    "\n",
    "Важно! Если вам не удалось поставить tensorflow, то необходимо вместо использования функции get_features, загрузить предпосчитанные X, Y, X_test, Y_test и воспользоваться функцией np.load для их загрузки, а после этого два последних пункта.\n",
    "\n",
    "X.npy\n",
    "Y.npy\n",
    "X_test.npy\n",
    "Y_test.npy\n",
    "\n",
    "#### Задание:\n",
    "\n",
    "Сколько правильных ответов получается на валидационной выборке из папки test? Запишите в файл."
   ]
  },
  {
   "cell_type": "code",
   "execution_count": 1,
   "metadata": {
    "collapsed": true
   },
   "outputs": [],
   "source": [
    "import numpy as np"
   ]
  },
  {
   "cell_type": "code",
   "execution_count": 5,
   "metadata": {},
   "outputs": [],
   "source": [
    "X = np.load('X.npy')\n",
    "X_test = np.load('X_test.npy')\n",
    "Y = np.load('Y.npy')\n",
    "Y_test = np.load('Y_test.npy')"
   ]
  },
  {
   "cell_type": "code",
   "execution_count": 24,
   "metadata": {},
   "outputs": [
    {
     "data": {
      "text/plain": [
       "SVC(C=1.0, cache_size=200, class_weight=None, coef0=0.0,\n",
       "  decision_function_shape=None, degree=3, gamma='auto', kernel='rbf',\n",
       "  max_iter=-1, probability=False, random_state=None, shrinking=True,\n",
       "  tol=0.001, verbose=False)"
      ]
     },
     "execution_count": 24,
     "metadata": {},
     "output_type": "execute_result"
    }
   ],
   "source": [
    "np.random.seed(0)\n",
    "from sklearn.svm import SVC\n",
    "clf = SVC()\n",
    "clf.fit(X, Y)"
   ]
  },
  {
   "cell_type": "code",
   "execution_count": 25,
   "metadata": {
    "collapsed": true
   },
   "outputs": [],
   "source": [
    "predicts = clf.predict(X_test)"
   ]
  },
  {
   "cell_type": "code",
   "execution_count": 27,
   "metadata": {},
   "outputs": [
    {
     "data": {
      "text/plain": [
       "89"
      ]
     },
     "execution_count": 27,
     "metadata": {},
     "output_type": "execute_result"
    }
   ],
   "source": [
    "len(predicts[predicts == Y_test])"
   ]
  },
  {
   "cell_type": "code",
   "execution_count": 21,
   "metadata": {
    "collapsed": true
   },
   "outputs": [],
   "source": [
    "def write_answer(answer):\n",
    "    with open(\"cars_answer_3.txt\", \"w\") as fout:\n",
    "        fout.write(str(answer))"
   ]
  },
  {
   "cell_type": "code",
   "execution_count": 22,
   "metadata": {
    "collapsed": true
   },
   "outputs": [],
   "source": [
    "write_answer(len(predicts[predicts == Y_test]))"
   ]
  }
 ],
 "metadata": {
  "kernelspec": {
   "display_name": "Python 2",
   "language": "python",
   "name": "python2"
  },
  "language_info": {
   "codemirror_mode": {
    "name": "ipython",
    "version": 2
   },
   "file_extension": ".py",
   "mimetype": "text/x-python",
   "name": "python",
   "nbconvert_exporter": "python",
   "pygments_lexer": "ipython2",
   "version": "2.7.13"
  }
 },
 "nbformat": 4,
 "nbformat_minor": 2
}
