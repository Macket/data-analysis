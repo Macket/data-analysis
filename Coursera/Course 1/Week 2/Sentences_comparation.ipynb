{
 "cells": [
  {
   "cell_type": "code",
   "execution_count": 385,
   "metadata": {
    "collapsed": true
   },
   "outputs": [],
   "source": [
    "import scipy as sp"
   ]
  },
  {
   "cell_type": "code",
   "execution_count": 386,
   "metadata": {
    "collapsed": false
   },
   "outputs": [],
   "source": [
    "file_obj = open('sentences.txt', 'r')\n",
    "data_list = file_obj.readlines()\n",
    "text = []\n",
    "i = 0\n",
    "for line in data_list: \n",
    "    text.append(line)\n",
    "    text[i] = text[i].lower()\n",
    "    i = i + 1"
   ]
  },
  {
   "cell_type": "code",
   "execution_count": 387,
   "metadata": {
    "collapsed": false
   },
   "outputs": [],
   "source": [
    "import re\n",
    "words = []\n",
    "for word in text:\n",
    "    words.append(re.split('[^a-z]',word))"
   ]
  },
  {
   "cell_type": "code",
   "execution_count": 388,
   "metadata": {
    "collapsed": true
   },
   "outputs": [],
   "source": [
    "words2 = [] \n",
    "for word in words: \n",
    "    words2.append(filter(lambda x: x != '', word))"
   ]
  },
  {
   "cell_type": "code",
   "execution_count": 389,
   "metadata": {
    "collapsed": false
   },
   "outputs": [],
   "source": [
    "words_indexed = dict()\n",
    "d = 0\n",
    "for line in words2:\n",
    "    for word in line:\n",
    "        if word in words_indexed:\n",
    "            continue\n",
    "        else:\n",
    "            words_indexed[word] = d\n",
    "            d = d + 1"
   ]
  },
  {
   "cell_type": "code",
   "execution_count": 390,
   "metadata": {
    "collapsed": true
   },
   "outputs": [],
   "source": [
    "import numpy as np"
   ]
  },
  {
   "cell_type": "code",
   "execution_count": 391,
   "metadata": {
    "collapsed": false
   },
   "outputs": [],
   "source": [
    "matrix = np.ones((len(words2), len(words_indexed))) \n",
    "i = 0\n",
    "for line in words2:\n",
    "    j = 0\n",
    "    for word in words_indexed:\n",
    "        matrix[i, j] = line.count(word)\n",
    "        j = j + 1\n",
    "    i = i + 1"
   ]
  },
  {
   "cell_type": "code",
   "execution_count": 392,
   "metadata": {
    "collapsed": false
   },
   "outputs": [],
   "source": [
    "from scipy.spatial import distance"
   ]
  },
  {
   "cell_type": "code",
   "execution_count": 394,
   "metadata": {
    "collapsed": false
   },
   "outputs": [
    {
     "data": {
      "text/plain": [
       "[0.0,\n",
       " 0.95275444087384664,\n",
       " 0.86447381456421235,\n",
       " 0.89517151632780823,\n",
       " 0.77708871496985887,\n",
       " 0.94023856953328033,\n",
       " 0.7327387580875756,\n",
       " 0.92587506833388988,\n",
       " 0.88427248752843102,\n",
       " 0.90550888174769317,\n",
       " 0.83281653622739416,\n",
       " 0.88047713906656067,\n",
       " 0.83964325485254543,\n",
       " 0.87035925528956715,\n",
       " 0.87401184233025764,\n",
       " 0.94427217874246472,\n",
       " 0.84063618542208085,\n",
       " 0.95664450152379399,\n",
       " 0.94427217874246472,\n",
       " 0.88854435748492944,\n",
       " 0.84275727449171223,\n",
       " 0.82503644694405864]"
      ]
     },
     "execution_count": 394,
     "metadata": {},
     "output_type": "execute_result"
    }
   ],
   "source": [
    "cos_dist = []\n",
    "for i in range(len(words)):\n",
    "    cos_dist.append(sp.spatial.distance.cosine(matrix[0], matrix[i]))\n",
    "cos_dist"
   ]
  },
  {
   "cell_type": "code",
   "execution_count": 397,
   "metadata": {
    "collapsed": false
   },
   "outputs": [
    {
     "data": {
      "text/plain": [
       "[0.0,\n",
       " 0.7327387580875756,\n",
       " 0.77708871496985887,\n",
       " 0.82503644694405864,\n",
       " 0.83281653622739416,\n",
       " 0.83964325485254543,\n",
       " 0.84063618542208085,\n",
       " 0.84275727449171223,\n",
       " 0.86447381456421235,\n",
       " 0.87035925528956715,\n",
       " 0.87401184233025764,\n",
       " 0.88047713906656067,\n",
       " 0.88427248752843102,\n",
       " 0.88854435748492944,\n",
       " 0.89517151632780823,\n",
       " 0.90550888174769317,\n",
       " 0.92587506833388988,\n",
       " 0.94023856953328033,\n",
       " 0.94427217874246472,\n",
       " 0.94427217874246472,\n",
       " 0.95275444087384664,\n",
       " 0.95664450152379399]"
      ]
     },
     "execution_count": 397,
     "metadata": {},
     "output_type": "execute_result"
    }
   ],
   "source": [
    "cos_dist.sort()\n",
    "cos_dist"
   ]
  },
  {
   "cell_type": "code",
   "execution_count": null,
   "metadata": {
    "collapsed": true
   },
   "outputs": [],
   "source": []
  }
 ],
 "metadata": {
  "anaconda-cloud": {},
  "kernelspec": {
   "display_name": "Python [default]",
   "language": "python",
   "name": "python2"
  },
  "language_info": {
   "codemirror_mode": {
    "name": "ipython",
    "version": 2
   },
   "file_extension": ".py",
   "mimetype": "text/x-python",
   "name": "python",
   "nbconvert_exporter": "python",
   "pygments_lexer": "ipython2",
   "version": "2.7.12"
  }
 },
 "nbformat": 4,
 "nbformat_minor": 1
}
