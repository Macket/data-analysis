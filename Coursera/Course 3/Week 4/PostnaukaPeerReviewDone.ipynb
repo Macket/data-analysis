{
 "cells": [
  {
   "cell_type": "markdown",
   "metadata": {},
   "source": [
    "# Тематическая модель [Постнауки](http://postnauka.ru)\n",
    "## Peer Review (optional)"
   ]
  },
  {
   "cell_type": "markdown",
   "metadata": {},
   "source": [
    "В этом задании мы применим аппарат тематического моделирования к коллекции текстовых записей видеолекций, скачанных с сайта Постнаука. Мы будем визуализировать модель и создавать прототип тематического навигатора по коллекции. В коллекции 1728 документов, размер словаря - 38467 слов. Слова лемматизированы, то есть приведены к начальной форме, с помощью программы [mystem](https://tech.yandex.ru/mystem/), коллекция сохранена в [формате vowpal wabbit](http://docs.bigartm.org/en/latest/formats.html). В каждой строке до первой черты записана информация о документе (ссылка на страницу с лекцией), после первой черты следует описание документа. Используются две модальности - текстовая (\"text\") и модальность авторов (\"author\"); у каждого документа один автор."
   ]
  },
  {
   "cell_type": "markdown",
   "metadata": {},
   "source": [
    "Для выполнения задания понадобится библиотека [BigARTM](http://docs.bigartm.org). В демонстрации показан пример использования библиотеки версии 0.7.4, на сайте предлагается скачивать версию 0.8.0. В новой версии изменены принципы работы со словарями: они вынесены в отдельный класс (пример в [Release Notes](http://docs.bigartm.org/en/stable/release_notes/python.html)). Строить модель и извлекать ее параметры нужно так же, как показано в демонстрации. Вы можете использовать [предыдущий релиз](http://bigartm.readthedocs.io/en/v0.7.6/download.html) или [новый релиз](http://docs.bigartm.org/en/latest/download.html) на ваше усмотрение.\n",
    "\n",
    "Спецификации всех функций вы можете смотреть на странице [Python API](http://bigartm.readthedocs.io/en/stable/python_interface.html)."
   ]
  },
  {
   "cell_type": "code",
   "execution_count": 1,
   "metadata": {
    "collapsed": true
   },
   "outputs": [],
   "source": [
    "import artm"
   ]
  },
  {
   "cell_type": "code",
   "execution_count": 2,
   "metadata": {
    "collapsed": true
   },
   "outputs": [],
   "source": [
    "from matplotlib import pyplot as plt\n",
    "import seaborn\n",
    "%matplotlib inline\n",
    "seaborn.set_style(\"whitegrid\", {'axes.grid' : False})"
   ]
  },
  {
   "cell_type": "code",
   "execution_count": 3,
   "metadata": {
    "collapsed": true
   },
   "outputs": [],
   "source": [
    "import numpy as np\n",
    "import pandas as pd"
   ]
  },
  {
   "cell_type": "markdown",
   "metadata": {},
   "source": [
    "##### Считывание данных"
   ]
  },
  {
   "cell_type": "markdown",
   "metadata": {},
   "source": [
    "Создайте объект класса artm.BatchVectorizer, который будет ссылаться на директорию с пакетами данных (батчами). Чтобы библиотека могла преобразовать текстовый файл в батчи, создайте пустую директорию и укажите ее название в параметре target_folder. Размер батча для небольших коллекций (как наша) не важен, вы можете указать любой."
   ]
  },
  {
   "cell_type": "code",
   "execution_count": 4,
   "metadata": {
    "collapsed": false
   },
   "outputs": [],
   "source": [
    "# Ваш код\n",
    "batch_vectorizer = artm.BatchVectorizer(data_path=\"lectures.txt\", data_format=\"vowpal_wabbit\", \n",
    "                                        target_folder=\"batches\", gather_dictionary=True, batch_size=32)"
   ]
  },
  {
   "cell_type": "markdown",
   "metadata": {},
   "source": [
    "##### Инициализация модели"
   ]
  },
  {
   "cell_type": "markdown",
   "metadata": {},
   "source": [
    "Создайте объект класса artm.Model с 30 темами, именами тем, указанными ниже и единичными весами обеих модальностей. Количество тем выбрано не очень большим, чтобы вам было удобнее работать с темами. На этой коллекции можно строить и большее число тем, тогда они будут более узко специализированы."
   ]
  },
  {
   "cell_type": "code",
   "execution_count": 5,
   "metadata": {
    "collapsed": true
   },
   "outputs": [],
   "source": [
    "T = 30   # количество тем\n",
    "topic_names=[\"sbj\"+str(i) for i in range(T-1)]+[\"bcg\"]\n",
    "# Ваш код\n",
    "model_artm = artm.ARTM(num_topics=T, cache_theta=True, topic_names=topic_names, class_ids={\"text\":1,\"author\":1})"
   ]
  },
  {
   "cell_type": "markdown",
   "metadata": {},
   "source": [
    "Мы будем строить 29 предметных тем и одну фоновую. \n",
    "\n",
    "Соберите словарь с помощью метода gather_dictionary и инициализируйте модель, указав random_seed=1. Обязательно укажите свое название словаря, оно понадобится при добавлении регуляризаторов."
   ]
  },
  {
   "cell_type": "code",
   "execution_count": 6,
   "metadata": {
    "collapsed": false
   },
   "outputs": [],
   "source": [
    "# Ваш код\n",
    "np.random.seed(1)\n",
    "dictionary = artm.Dictionary('dictionary')\n",
    "dictionary.gather(batch_vectorizer.data_path)\n",
    "model_artm.initialize('dictionary')"
   ]
  },
  {
   "cell_type": "markdown",
   "metadata": {},
   "source": [
    "##### Добавление score"
   ]
  },
  {
   "cell_type": "markdown",
   "metadata": {},
   "source": [
    "Создайте два измерителя качества artm.TopTokensScore - по одному для каждой модальности; количество токенов 15. Названия для score придумайте самостоятельно."
   ]
  },
  {
   "cell_type": "code",
   "execution_count": 7,
   "metadata": {
    "collapsed": true
   },
   "outputs": [],
   "source": [
    "# Ваш код\n",
    "model_artm.scores.add(artm.TopTokensScore(name=\"texts\", num_tokens=15, class_id=\"text\"))\n",
    "model_artm.scores.add(artm.TopTokensScore(name=\"authors\", num_tokens=15, class_id=\"author\"))"
   ]
  },
  {
   "cell_type": "markdown",
   "metadata": {},
   "source": [
    "##### Построение модели"
   ]
  },
  {
   "cell_type": "markdown",
   "metadata": {},
   "source": [
    "Мы будем строить модель в два этапа: сначала добавим сглаживающий регуляризатор фоновой темы и настроим параметры модели, затем - добавим разреживающий регуляризатор предметрых тем и выполним еще несколько итераций. Так мы сможем получить наиболее чистые от фоновых слов предметные темы. Сглаживающий и разреживающий регуляризаторы задаются одним и тем же классом artm.SmoothSparsePhiRegularizer: если коэффициент tau положительный, то регуляризатор будет сглаживающий, если отрицательный - разреживающий.\n",
    "\n",
    "Если вы хотите подробнее разобраться, как выполняется регуляризация тематической модели в BigARTM, вы можете прочитать [статью](https://s3-eu-west-1.amazonaws.com/artm/voron-potap14artm-rus.pdf), раздел 4."
   ]
  },
  {
   "cell_type": "markdown",
   "metadata": {},
   "source": [
    "Добавьте сглаживающий регуляризатор с коэффициентом tau = 1e5, указав название своего словаря в dictionary, модальность текста в class_ids и тему \"bcg\" в topic_names."
   ]
  },
  {
   "cell_type": "code",
   "execution_count": 8,
   "metadata": {
    "collapsed": true
   },
   "outputs": [],
   "source": [
    "# Ваш код\n",
    "model_artm.regularizers.add(\n",
    "artm.SmoothSparsePhiRegularizer(tau=1e5, dictionary=dictionary, topic_names='bcg', class_ids=['text']))"
   ]
  },
  {
   "cell_type": "markdown",
   "metadata": {},
   "source": [
    "Выполните 30 итераций по коллекции (num_collection_passes), количество внутренних итераций установите равным 1. Используйте метод fit_offline модели."
   ]
  },
  {
   "cell_type": "code",
   "execution_count": 9,
   "metadata": {
    "collapsed": false
   },
   "outputs": [
    {
     "name": "stdout",
     "output_type": "stream",
     "text": [
      "\n"
     ]
    }
   ],
   "source": [
    "# Ваш код\n",
    "model_artm.fit_offline(batch_vectorizer=batch_vectorizer, num_collection_passes=30)"
   ]
  },
  {
   "cell_type": "markdown",
   "metadata": {},
   "source": [
    "Добавьте разреживающий регуляризатор с коэффициентом tau=-1e5, указав название своего словаря, модальность текста в class_ids и все темы \"sbjX\" в topic_names."
   ]
  },
  {
   "cell_type": "code",
   "execution_count": 10,
   "metadata": {
    "collapsed": true
   },
   "outputs": [],
   "source": [
    "# Ваш код\n",
    "model_artm.regularizers.add(artm.SmoothSparsePhiRegularizer(tau=-1e5,\n",
    "    dictionary=dictionary, class_ids=['text'], topic_names=[\"sbj\"+str(i) for i in range(T-1)]))"
   ]
  },
  {
   "cell_type": "markdown",
   "metadata": {},
   "source": [
    "Выполните еще 15 проходов по коллекции."
   ]
  },
  {
   "cell_type": "code",
   "execution_count": 11,
   "metadata": {
    "collapsed": false
   },
   "outputs": [
    {
     "name": "stdout",
     "output_type": "stream",
     "text": [
      "\n"
     ]
    }
   ],
   "source": [
    "# Ваш код\n",
    "model_artm.fit_offline(batch_vectorizer=batch_vectorizer, num_collection_passes=15)"
   ]
  },
  {
   "cell_type": "markdown",
   "metadata": {},
   "source": [
    "##### Интерпретация тем"
   ]
  },
  {
   "cell_type": "markdown",
   "metadata": {},
   "source": [
    "Используя созданные score, выведите топы слов и топы авторов в темах. Удобнее всего выводить топ слов каждой темы с новой строки, указывая название темы в начале строки, и аналогично с авторами."
   ]
  },
  {
   "cell_type": "code",
   "execution_count": 12,
   "metadata": {
    "collapsed": false,
    "scrolled": true
   },
   "outputs": [
    {
     "name": "stdout",
     "output_type": "stream",
     "text": [
      "sbj0: церковь средневековый власть император совершать русь святой папа александр вера князь славянский сага поэзия брат\n",
      "sbj1: планета земля вокруг вода атмосфера солнце образовываться солнечный белый газ размер карлик поверхность спутник орбита\n",
      "sbj2: система образование движение двигаться трудность участник положительный относительность тест моделирование школьный архитектура задание подготовка курс\n",
      "sbj3: наука культура рассказывать понятие общество кандидат исторический каков доктор культурный концепция восприятие сознание феномен формироваться\n",
      "sbj4: право правовой римский юрист юридический договор должник собственность обязательство признавать защита владение требование исполнение суд\n",
      "sbj5: материал свет применение создание использование электронный оптический полимер импульс прибор технология канал увеличивать устройство трехмерный\n",
      "sbj6: книга литература тема фильм литературный текст автор статья произведение написать документ посвящать кино искусство массовый\n",
      "sbj7: смерть ритуал государь правитель обряд служба орден конвент террор монтаньяр подданный насилие баратынский погибать биоэтика\n",
      "sbj8: структура вещество химический реакция удаваться соединение поиск давление химия углерод образовывать предсказывать поверхность элемент органический\n",
      "sbj9: частица теория энергия взаимодействие поле квантовый физика эффект атом электрон кварк пространство измерение эксперимент фундаментальный\n",
      "sbj10: россия война советский российский власть германия мировой против партия немецкий историк пойти реформа петр военный\n",
      "sbj11: ребенок поведение женщина семья молодой конфликт вызывать возраст взрослый мужчина мать испытывать усилие сон родитель\n",
      "sbj12: мозг животное растение эволюция эволюционный отбор среда озеро стадия популяция цикл концентрация сердце сигнал биологический\n",
      "sbj13: территория христианский народ империя восток традиция письменность цивилизация китай памятник центральный христианство письмо регион государство\n",
      "sbj14: звезда галактика масса черный вселенная скорость дыра волна объект излучение расстояние телескоп гравитационный диск масштаб\n",
      "sbj15: задача информация решение память данные анализ компьютер внимание психология мышление решать ошибка этап деятельность ваш\n",
      "sbj16: рост раса океан африка америка южный остров географический станислав население индия монголоид северный нос дробышевский\n",
      "sbj17: политический философия государство философский практика философ свобода организация институт фигура религиозный мысль идеология статус профессиональный\n",
      "sbj18: слово текст словарь категория предложение конструкция значение перевод корпус глагол грамматика поэт устный синтаксический синтаксис\n",
      "sbj19: революция французский франция роман театр король национальный костюм нация аргумент актер париж депутат хватать конституция\n",
      "sbj20: город сеть проект технология пространство сообщество робот городской разработка интернет управление компания необходимость сегодняшний центр\n",
      "sbj21: болезнь заболевание пациент лечение медицина операция серьезный врач боль препарат медицинский кровь лекарство нарушение рак\n",
      "sbj22: социальный знание смотреть социология дисциплина социологический школа познание обучение логика предмет объяснение научный виктор повседневный\n",
      "sbj23: схема искусственный матрица микроорганизм алгоритм интеллект функция вычислительный эмоциональный математика шаг осуществлять реализовать глубина машина\n",
      "sbj24: бог миф царь греческий море душа мифология грек андрей египетский версия мифологический фольклор сказка держать\n",
      "sbj25: программа гласный согласный говор игра мягкий программирование компилятор жест твердость ричард интегрировать слог столыпин программист\n",
      "sbj26: страна политика экономический выбирать экономика деньги выбор ценность ресурс проводиться кризис принятие сталин праздник крестьянин\n",
      "sbj27: клетка организм ген днк белок молекула генетический биологический нейрон молекулярный геном ткань лаборатория бактерия биология\n",
      "sbj28: температура университет магнитный профессор сверхпроводимость частота ток сверхпроводник час точность сверхпроводящий низкий спина студент осуществляться\n",
      "bcg: быть что это который этот как они мочь такой очень для человек или тот один\n"
     ]
    }
   ],
   "source": [
    "# Ваш код\n",
    "top_wrd = model_artm.score_tracker[\"texts\"].last_tokens\n",
    "for i in model_artm.topic_names:\n",
    "    print i + ': ' + ' '.join( top_wrd[i] )"
   ]
  },
  {
   "cell_type": "code",
   "execution_count": 13,
   "metadata": {
    "collapsed": false
   },
   "outputs": [
    {
     "name": "stdout",
     "output_type": "stream",
     "text": [
      "sbj0: Александр_Марей Фёдор_Успенский Алексей_Юдин Татьяна_Бобровникова Игорь_Данилевский Елена_Уханова Ольга_Брилева Владимир_Петрухин Олег_Воскобойников Григорий_Бондаренко Екатерина_Болтунова Ольга_Тогоева Елена_Браун Ольга_Вайнштейн Павел_Уваров\n",
      "sbj1: Сергей_Попов Александр_Марков Дмитрий_Вибе Валерий_Сулейманов Дмитрий_Титов Зоригто_Намсараев Татьяна_Смоктунович Сергей_Наугольных Николай_Дронин Владимир_Кузнецов Роман_Рафиков Александр_Слободкин Елизавета_Ривкина Андрей_Глазовский Наталья_Новикова\n",
      "sbj2: Елена_Брызгалина Александр_Поддьяков Владимир_Мележик Михаил_Пантелеев Татьяна_Клячко Эмиль_Ахмедов Михаил_Фейгельман Даниэль_Сельва Антон_Суворов Владимир_Редько Илья_Щуров Ольга_Вайнштейн Алексей_Котов Кристофер_Уиншип Александра_Скрипченко\n",
      "sbj3: Виталий_Куренной Михаил_Соколов Павел_Уваров Ольга_Артёмова Александр_Гофман Дмитрий_Громов Пётр_Турчин Алексей_Руткевич Владимир_Миронов Андрей_Лукашов Сергей_Арутюнов Николай_Плотников Владимир_Бобровников Ирина_Савельева Светлана_Баньковская\n",
      "sbj4: Дмитрий_Дождев Сергей_Зенкин Денис_Новак Сергей_Майоров Виктор_Цетлин Дмитрий_Полдников Александр_Парфенов Марина_Бутовская Евгений_Рогожин Наталья_Смолянская Андрей_Кофман Татьяна_Гусарова Мохамад_Кассаб Джу_Йонг_Ли ПостНаука\n",
      "sbj5: Дмитрий_Паращук Алексей_Акимов Владимир_Белотелов Дмитрий_Гольберг Владимир_Шалаев Шринивас_Шридхар Алексей_Желтиков Иван_Воробьев Алексей_Хохлов Дмитрий_Клинов Василий_Климов Владимир_Комлев Эрик_Мазур Сергей_Никитов Виктор_Зайченко\n",
      "sbj6: Александр_Павлов Павел_Руднев Ян_Левченко Ольга_Эдельман Александра_Архипова Мария_Штейнман Дмитрий_Бак Мария_Неклюдова Мария_Майофис Владимир_Кантор Ольга_Вайнштейн Петр_Дружинин Анна_Рогожина Анатолий_Гершман Игорь_Чубаров\n",
      "sbj7: Михаил_Бойцов Михаил_Алексеевский Анна_Соколова Михаил_Маяцкий Арсений_Хитров Дмитрий_Рогозин Олег_Ауров Игорь_Чубаров Игорь_Данилевский Алина_Бодрова Сет_Ллойд Сергей_Неклюдов Дмитрий_Бовыкин Елена_Брызгалина Александр_Гофман\n",
      "sbj8: Артем_Оганов Валерий_Фокин Валентин_Ненайденко Алла_Ножевникова Дмитрий_Лось Иван_Сорокин Евгений_Гудилин Александр_Беленький Константин_Мирошников Виктория_Битюкова Александр_Апт Роман_Ефремов Рафаэль_Арутюнян Олег_Мельник Пётр_Образцов\n",
      "sbj9: Дмитрий_Казаков Эмиль_Ахмедов Михаил_Данилов Игорь_Волобуев Алексей_Семихатов Сергей_Троицкий Наталья_Берлофф Виктор_Брагута Павел_Пахлов Сергей_Демокритов Андрей_Лосев Александр_Львовский Лев_Дудко Алексей_Рубцов Марина_Корсакова-Крейн\n",
      "sbj10: Илья_Женин Кирилл_Соловьев Борис_Морозов Кирилл_Кочегаров Александр_Лаврентьев Александр_Каменский Олег_Будницкий Борис_Колоницкий Илья_Виньковецкий Игорь_Курукин Алексей_Киличенков Людмила_Новикова Илья_Кукулин Александр_Воеводский Ольга_Тогоева\n",
      "sbj11: Катерина_Поливанова Ольга_Сварник Ольга_Исупова Мария_Падун Ольга_Гулевич Юрий_Яшков Наталья_Харламенкова Дмитрий_Жуков Мария_Медникова Леонид_Марголис Владимир_Ковальзон Эмери_Браун Павел_Умрюхин Наталья_Кисельникова Петр_Федичев\n",
      "sbj12: Кирилл_Еськов Михаил_Бурцев Филипп_Хайтович Егор_Задереев Андрей_Цатурян Ирина_Бёме Варвара_Веденина Алексей_Кондрашов Константин_Агладзе Юлия_Краус Алишер_Тураев Мария_Добровольская Наталья_Спасская Алексей_Северцов Михаил_Киселев\n",
      "sbj13: Алексей_Муравьёв Дмитрий_Беляев Марк_Ульянов Алексей_Маслов Алексей_Малашенко Дмитрий_Худяков Андрей_Виноградов Сергей_Серёгичев Дмитрий_Арзютов Галина_Ершова Олег_Ауров Анна_Рогожина Аскольд_Иванчик Наталья_Зубаревич Олег_Воскобойников\n",
      "sbj14: Сергей_Попов Анатолий_Засов Алексей_Расторгуев Ольга_Сильченко Михаил_Ревнивцев Дмитрий_Горбунов Олег_Верходанов Андрей_Савельев-Трофимов Алексей_Старобинский Владимир_Сурдин Дмитрий_Вибе Валерий_Рубаков Макс_Тегмарк Сергей_Блинников Антон_Бирюков\n",
      "sbj15: Мария_Фаликман Константин_Анохин Владимир_Спиридонов Павел_Балабан Игорь_Уточкин Александр_Каплан Борис_Миркин Александр_Войскунский Алексей_Созинов Махзарин_Банаджи Иван_Луковников Станислав_Клименко Жанна_Резникова Ксения_Паниди Станислав_Протасов\n",
      "sbj16: Станислав_Дробышевский Виталий_Кушниров Андрей_Летаров Сергей_Писарев Александр_Шацкий Евгений_Рогожин Митчел_Резник Алиса_Вячеславова Георгий_Базыкин Владимир_Муронец Александр_Воеводский Александра_Архипова Николай_Короновский Андрей_Глазовский Николай_Дронин\n",
      "sbj17: Алексей_Козырев Кирилл_Мартынов Кирилл_Титаев Иван_Болдырев Владимир_Малахов Дина_Гусейнова Александр_Филиппов Александр_Доброхотов Василий_Жарков Петр_Резвых Павел_Соколов Михаил_Маяцкий Дмитрий_Балалыкин Валентина_Харитонова Александр_Павлов\n",
      "sbj18: Дмитрий_Добровольский Надежда_Онипенко Светлана_Евграфова Леонид_Иомдин Борис_Иомдин Екатерина_Лютикова Григорий_Кабатянский Вера_Подлесская Алина_Бодрова Павел_Нерлер_(Полян) Татьяна_Котова Ирина_Секерина Мария_Полински Екатерина_Лямина Петр_Дружинин\n",
      "sbj19: Дмитрий_Бовыкин Алексей_Миллер Раиса_Кирсанова Алексей_Бартошевич Вера_Мильчина Дина_Гусейнова Михаил_Алексеевский Александр_Дмитриев Мария_Майофис Мария_Неклюдова Марина_Новикова-Грунд Михаил_Соколов Максим_Демин Андрей_Зорин Борис_Колоницкий\n",
      "sbj20: ПостНаука Руслан_Смелянский Екатерина_Лапина-Кратасюк Александр_Сафонов Алексей_Лебедев Оксана_Запорожец Александр_Тормасов Екатерина_Ларионова Наталья_Зубаревич Мануэль_Маццара Евгений_Магид Джанмарко_Веруджио Ирина_Стародубровская Лев_Беклемишев Армен_Сергеев\n",
      "sbj21: Петр_Федичев Алексей_Алексеев Ярослав_Ашихмин Александр_Жаворонков Вера_Ижевская Алексей_Чжао Олег_Медведев Сергей_Румянцев Александр_Васильев Сергей_Яковенко Александр_Петренко Рауль_Гайнетдинов Александр_Габибов Елена_Брызгалина Инга_Полетаева\n",
      "sbj22: Виктор_Вахштайн Михаил_Соколов Александр_Филиппов Леонид_Григорьев Дмитрий_Ветров Александр_Дьяконов Татьяна_Ребеко Дэвид_Вайнберг Джозеф_Браун Николай_Мощевитин Павел_Нерлер_(Полян) Светлана_Баньковская Дмитрий_Рогозин Максим_Франк-Каменецкий Александр_Гофман\n",
      "sbj23: Елизавета_Бонч-Осмоловская Дмитрий_Рогозин Александр_Жданов Иван_Оселедец Николай_Пименов Елена_Гороховская Светлана_Дедыш Илья_Щуров Максим_Таланов Игорь_Петров Леонард_Полищук Андрей_Чабовский Татьяна_Ребеко Станислав_Протасов Сергей_Гашков\n",
      "sbj24: Гасан_Гусейнов Сергей_Неклюдов Олег_Воскобойников Владимир_Емельянов Ивар_Максутов Иван_Ладынин Галина_Зеленина Аскольд_Иванчик Мария_Штейнман Варвара_Добровольская Ахмет_Ярлыкапов Кирилл_Зыбин Александр_Воеводский Алексей_Юдин Андрей_Виноградов\n",
      "sbj25: Андрей_Кофман Екатерина_Лямина Павел_Плечов Евгений_Зуев Дмитрий_Баюк Елена_Браун Антон_Чижов Игорь_Исаев Валентин_Крапошин Дмитрий_Дагаев Сергей_Таскаев Ольга_Вендина Дэвид_Кайзер Илья_Иткин Григорий_Крейдлин\n",
      "sbj26: Фуад_Алескеров Олег_Хлевнюк Алексей_Белянин Ольга_Малинова Андрей_Зорин Сергей_Бобылев Владимир_Гимпельсон Сергей_Пекарский Сергей_Афонцев Сергей_Гуриев Виктор_Полтерович Александр_Аузан Сергей_Соколовский Анатолий_Вишневский Василий_Ключарев\n",
      "sbj27: Евгений_Шеваль Константин_Северинов Максим_Франк-Каменецкий Михаил_Гельфанд Сергей_Киселев Антон_Буздин Сергей_Саложин Сергей_Науменко Светлана_Боринская Евгений_Куликов Владимир_Муронец Георгий_Базыкин Мария_Шутова Ричард_Янг Рудольф_Йениш\n",
      "sbj28: Михаил_Киселев Владимир_Пудалов Наталья_Ростиславлева Илья_Шкредов Елена_Вишленкова Юджин_Ползик Виталий_Пальчиков Евгений_Николаев Алексей_Кавокин Алексей_Рубцов Рой_Глаубер Дэвид_Кайзер Мел_Сигел Александр_Никифоров Алексей_Орлов\n",
      "bcg: Владимир_Плунгян Андрей_Кибрик Кирилл_Бабаев Александр_Пиперски Олег_Лекманов Игорь_Исаев Георгий_Старостин Илья_Иткин Анна_Дыбо Андрей_Журавлев Андрей_Иванцов Григорий_Крейдлин Светлана_Бурлак Мира_Бергельсон Алексей_Шмелев\n"
     ]
    }
   ],
   "source": [
    "top_auth = model_artm.score_tracker[\"authors\"].last_tokens\n",
    "for i in model_artm.topic_names:\n",
    "    print i + ': ' + ' '.join( top_auth[i] )"
   ]
  },
  {
   "cell_type": "markdown",
   "metadata": {},
   "source": [
    "В последней теме \"bcg\" должны находиться общеупотребительные слова.\n",
    "\n",
    "Важный шаг в работе с тематической моделью, когда речь идет о визуализации или создании тематического навигатора, это именование тем. Понять, о чем каждая тема, можно по списку ее топовых слов. Например, тему\n",
    "    \n",
    "    частица взаимодействие физика кварк симметрия элементарный нейтрино стандартный материя протон бозон заряд масса ускоритель слабый\n",
    "    \n",
    "можно назвать \"Физика элементарных частиц\". \n",
    "\n",
    "Дайте названия 29 предметным темам. Если вы не знаете, как назвать тему, назовите ее первым встретившимся в ней существительным, хотя при таком подходе навигатор будет менее информативным. Из названий тем составьте список из 29 строк и запишите го в переменную sbj_topic_labels. В переменной topic_labels будут храниться названия всех тем, включая фоновую."
   ]
  },
  {
   "cell_type": "code",
   "execution_count": 14,
   "metadata": {
    "collapsed": false
   },
   "outputs": [],
   "source": [
    "sbj_topic_labels = [\"История\",\n",
    "    \"Планета\",\n",
    "    \"Учёба\",\n",
    "    \"Наука\",\n",
    "    \"Право\",\n",
    "    \"Материал\",\n",
    "    \"Литература\",\n",
    "    \"Смерть\",\n",
    "    \"Химия\",\n",
    "    \"Физика\",\n",
    "    \"Россия\",\n",
    "    \"Семья\",\n",
    "    \"Биология\",\n",
    "    \"Христианство\",\n",
    "    \"Космос\",\n",
    "    \"Информатика\",\n",
    "    \"География\",                \n",
    "    \"Философия\",\n",
    "    \"Грамматика\",\n",
    "    \"Революция\",\n",
    "    \"Город\",\n",
    "    \"Медицина\",\n",
    "    \"Социология\",\n",
    "    \"Схема\",\n",
    "    \"Мифы\",\n",
    "    \"Программирование\",\n",
    "    \"Политика\",\n",
    "    \"Генетика\",\n",
    "    \"Сверхпроводимость\",]   # запишите названия тем в список\n",
    "topic_labels = sbj_topic_labels + [\"Фоновая тема\"]"
   ]
  },
  {
   "cell_type": "markdown",
   "metadata": {},
   "source": [
    "##### Анализ тем"
   ]
  },
  {
   "cell_type": "markdown",
   "metadata": {},
   "source": [
    "Далее мы будем работать с распределениями тем в документах (матрица $\\Theta$) и авторов в темах (одна из двух матриц $\\Phi$, соответствующая модальности авторов). \n",
    "Создайте переменные, содержащие две этих матрицы, с помощью методов get_phi и get_theta модели. Назовите переменные theta и phi_a. Выведите формы обеих матриц, чтобы понять, по каким осям стоят темы."
   ]
  },
  {
   "cell_type": "code",
   "execution_count": 15,
   "metadata": {
    "collapsed": false
   },
   "outputs": [
    {
     "name": "stdout",
     "output_type": "stream",
     "text": [
      "phi_a.shape: (539, 30) theta.shape: (30, 1728)\n"
     ]
    }
   ],
   "source": [
    "model_artm.theta_columns_naming = \"title\" # включает именование столбцов Theta их названиями-ссылками, а не внутренними id \n",
    "# Ваш код\n",
    "phi_a = model_artm.get_phi(class_ids=['author'])\n",
    "theta = model_artm.get_theta()\n",
    "print 'phi_a.shape:', phi_a.shape, 'theta.shape:', theta.shape"
   ]
  },
  {
   "cell_type": "markdown",
   "metadata": {},
   "source": [
    "Визуализируем фрагмент матрицы $\\Theta$ - первые 100 документов (это наиболее простой способ визуально оценить, как темы распределяются в документах). С помощью метода seaborn.heatmap выведите фрагмент theta как изображение. Рекомендация: создайте фигуру pyplot размера (20, 10)."
   ]
  },
  {
   "cell_type": "code",
   "execution_count": 16,
   "metadata": {
    "collapsed": false
   },
   "outputs": [
    {
     "name": "stderr",
     "output_type": "stream",
     "text": [
      "D:\\Python\\lib\\site-packages\\seaborn\\matrix.py:151: DeprecationWarning: elementwise == comparison failed; this will raise an error in the future.\n",
      "  if yticklabels == []:\n"
     ]
    },
    {
     "data": {
      "text/plain": [
       "<matplotlib.axes._subplots.AxesSubplot at 0xbc1dc18>"
      ]
     },
     "execution_count": 16,
     "metadata": {},
     "output_type": "execute_result"
    },
    {
     "data": {
      "image/png": "[encoded data removed]",
      "text/plain": [
       "<matplotlib.figure.Figure at 0x157c9860>"
      ]
     },
     "metadata": {},
     "output_type": "display_data"
    }
   ],
   "source": [
    "# Ваш код\n",
    "plt.figure(figsize=(20,10))\n",
    "seaborn.heatmap(theta[0:100], xticklabels=False)"
   ]
  },
  {
   "cell_type": "markdown",
   "metadata": {},
   "source": [
    "Вы должны увидеть, что фоновая тема имеет большую вероятность в почти каждом документе, и это логично. Кроме того, есть еще одна тема, которая чаще других встречается в документах. Судя по всему, это тема содержит много слов по науку в целом, а каждый документ (видео) в нашей коллекции связан с наукой. Можно (необязательно) дать этой теме название \"Наука\".\n",
    "\n",
    "Помимо этих двух тем, фоновой и общенаучной, каждый документ характеризуется малым числом других тем."
   ]
  },
  {
   "cell_type": "markdown",
   "metadata": {},
   "source": [
    "Оценим $p(t)$ - долю каждой темы во всей коллекции. По формуле полной вероятности вычислять эти величины нужно как\n",
    "$p(t) = \\sum_d p(t|d) p(d)$. Согласно вероятностной модели, $p(d)$ пропорционально длине документа d. Поступим проще: будем полагать, что все документы равновероятны. Тогда оценить $p(t)$ можно, просуммировав $p(t|d)$ по всем документам, а затем разделив полученный вектор на его сумму. \n",
    "\n",
    "Создайте переменную-датафрейм с T строками, индексированными названиями тем, и 1 столбцом, содержащим оценки $p(t)$. Выведите датафрейм на печать."
   ]
  },
  {
   "cell_type": "code",
   "execution_count": 17,
   "metadata": {
    "collapsed": false,
    "scrolled": true
   },
   "outputs": [
    {
     "data": {
      "text/html": [
       "<div>\n",
       "<table border=\"1\" class=\"dataframe\">\n",
       "  <thead>\n",
       "    <tr style=\"text-align: right;\">\n",
       "      <th></th>\n",
       "      <th>p(t)</th>\n",
       "    </tr>\n",
       "  </thead>\n",
       "  <tbody>\n",
       "    <tr>\n",
       "      <th>Программирование</th>\n",
       "      <td>0.003608</td>\n",
       "    </tr>\n",
       "    <tr>\n",
       "      <th>Смерть</th>\n",
       "      <td>0.004360</td>\n",
       "    </tr>\n",
       "    <tr>\n",
       "      <th>География</th>\n",
       "      <td>0.006386</td>\n",
       "    </tr>\n",
       "    <tr>\n",
       "      <th>Революция</th>\n",
       "      <td>0.006555</td>\n",
       "    </tr>\n",
       "    <tr>\n",
       "      <th>Схема</th>\n",
       "      <td>0.007655</td>\n",
       "    </tr>\n",
       "    <tr>\n",
       "      <th>Сверхпроводимость</th>\n",
       "      <td>0.008020</td>\n",
       "    </tr>\n",
       "    <tr>\n",
       "      <th>Право</th>\n",
       "      <td>0.008487</td>\n",
       "    </tr>\n",
       "    <tr>\n",
       "      <th>Грамматика</th>\n",
       "      <td>0.009010</td>\n",
       "    </tr>\n",
       "    <tr>\n",
       "      <th>Учёба</th>\n",
       "      <td>0.009709</td>\n",
       "    </tr>\n",
       "    <tr>\n",
       "      <th>Мифы</th>\n",
       "      <td>0.009923</td>\n",
       "    </tr>\n",
       "    <tr>\n",
       "      <th>Литература</th>\n",
       "      <td>0.010203</td>\n",
       "    </tr>\n",
       "    <tr>\n",
       "      <th>Медицина</th>\n",
       "      <td>0.011983</td>\n",
       "    </tr>\n",
       "    <tr>\n",
       "      <th>История</th>\n",
       "      <td>0.012453</td>\n",
       "    </tr>\n",
       "    <tr>\n",
       "      <th>Биология</th>\n",
       "      <td>0.012506</td>\n",
       "    </tr>\n",
       "    <tr>\n",
       "      <th>Семья</th>\n",
       "      <td>0.012917</td>\n",
       "    </tr>\n",
       "    <tr>\n",
       "      <th>Социология</th>\n",
       "      <td>0.012933</td>\n",
       "    </tr>\n",
       "    <tr>\n",
       "      <th>Планета</th>\n",
       "      <td>0.013119</td>\n",
       "    </tr>\n",
       "    <tr>\n",
       "      <th>Материал</th>\n",
       "      <td>0.013236</td>\n",
       "    </tr>\n",
       "    <tr>\n",
       "      <th>Христианство</th>\n",
       "      <td>0.013744</td>\n",
       "    </tr>\n",
       "    <tr>\n",
       "      <th>Политика</th>\n",
       "      <td>0.015218</td>\n",
       "    </tr>\n",
       "    <tr>\n",
       "      <th>Город</th>\n",
       "      <td>0.015353</td>\n",
       "    </tr>\n",
       "    <tr>\n",
       "      <th>Химия</th>\n",
       "      <td>0.015905</td>\n",
       "    </tr>\n",
       "    <tr>\n",
       "      <th>Космос</th>\n",
       "      <td>0.018214</td>\n",
       "    </tr>\n",
       "    <tr>\n",
       "      <th>Информатика</th>\n",
       "      <td>0.018369</td>\n",
       "    </tr>\n",
       "    <tr>\n",
       "      <th>Россия</th>\n",
       "      <td>0.019097</td>\n",
       "    </tr>\n",
       "    <tr>\n",
       "      <th>Философия</th>\n",
       "      <td>0.019381</td>\n",
       "    </tr>\n",
       "    <tr>\n",
       "      <th>Генетика</th>\n",
       "      <td>0.025552</td>\n",
       "    </tr>\n",
       "    <tr>\n",
       "      <th>Физика</th>\n",
       "      <td>0.027326</td>\n",
       "    </tr>\n",
       "    <tr>\n",
       "      <th>Наука</th>\n",
       "      <td>0.048248</td>\n",
       "    </tr>\n",
       "    <tr>\n",
       "      <th>Фоновая тема</th>\n",
       "      <td>0.590529</td>\n",
       "    </tr>\n",
       "  </tbody>\n",
       "</table>\n",
       "</div>"
      ],
      "text/plain": [
       "                       p(t)\n",
       "Программирование   0.003608\n",
       "Смерть             0.004360\n",
       "География          0.006386\n",
       "Революция          0.006555\n",
       "Схема              0.007655\n",
       "Сверхпроводимость  0.008020\n",
       "Право              0.008487\n",
       "Грамматика         0.009010\n",
       "Учёба              0.009709\n",
       "Мифы               0.009923\n",
       "Литература         0.010203\n",
       "Медицина           0.011983\n",
       "История            0.012453\n",
       "Биология           0.012506\n",
       "Семья              0.012917\n",
       "Социология         0.012933\n",
       "Планета            0.013119\n",
       "Материал           0.013236\n",
       "Христианство       0.013744\n",
       "Политика           0.015218\n",
       "Город              0.015353\n",
       "Химия              0.015905\n",
       "Космос             0.018214\n",
       "Информатика        0.018369\n",
       "Россия             0.019097\n",
       "Философия          0.019381\n",
       "Генетика           0.025552\n",
       "Физика             0.027326\n",
       "Наука              0.048248\n",
       "Фоновая тема       0.590529"
      ]
     },
     "execution_count": 17,
     "metadata": {},
     "output_type": "execute_result"
    }
   ],
   "source": [
    "# Ваш код\n",
    "S = theta.sum( axis=1 )\n",
    "T = pd.DataFrame( data=S/S.sum(), columns=['p(t)'])\n",
    "T.index = topic_labels\n",
    "T.sort_values('p(t)')"
   ]
  },
  {
   "cell_type": "markdown",
   "metadata": {},
   "source": [
    "Найдите 5 самых распространенных и 3 наименее освещенных темы в коллекции (наибольшие и наименьшие $p(t)$ соответственно), не считая фоновую и общенаучную. Укажите названия, которые вы дали этим темам."
   ]
  },
  {
   "cell_type": "raw",
   "metadata": {},
   "source": [
    "Ваш ответ:\n",
    "5 тем с max p(t):\n",
    "Физика, Генетика, Философия, Россия, Информатика\n",
    "\n",
    "3 темы с min p(t):\n",
    "Программирование, Смерть, География"
   ]
  },
  {
   "cell_type": "markdown",
   "metadata": {},
   "source": [
    "Визуализируйте матрицу $\\Phi$ модальности авторов в виде изображения. Рекомендация: установите yticklabels=False в heatmap."
   ]
  },
  {
   "cell_type": "code",
   "execution_count": 18,
   "metadata": {
    "collapsed": false
   },
   "outputs": [
    {
     "data": {
      "text/plain": [
       "<matplotlib.axes._subplots.AxesSubplot at 0x1927f898>"
      ]
     },
     "execution_count": 18,
     "metadata": {},
     "output_type": "execute_result"
    },
    {
     "data": {
      "image/png": "[encoded data removed]",
      "text/plain": [
       "<matplotlib.figure.Figure at 0x13059400>"
      ]
     },
     "metadata": {},
     "output_type": "display_data"
    }
   ],
   "source": [
    "# Ваш код\n",
    "plt.figure(figsize=(20,10))\n",
    "seaborn.heatmap(phi_a,yticklabels=False)"
   ]
  },
  {
   "cell_type": "markdown",
   "metadata": {},
   "source": [
    "Каждой теме соответствует не очень большое число авторов - матрица достаточно разреженная. Кроме того, некоторые темы имеют доминирующего автора $a$, имеющего большую вероятность $p(a|t)$ - этот автор записал больше всего лекций по теме. "
   ]
  },
  {
   "cell_type": "markdown",
   "metadata": {},
   "source": [
    "Будем считать, что автор $a$ значим в теме, если $p(a|t) > 0.01$. Для каждого автора посчитайте, в скольких темах он значим. Найдите авторов-рекордсменов, которые значимы (а значит, читали лекции) в >= 3 темах."
   ]
  },
  {
   "cell_type": "raw",
   "metadata": {},
   "source": [
    "Ваш ответ:\n",
    "авторы, значимые в не менее чем 3 темах:"
   ]
  },
  {
   "cell_type": "code",
   "execution_count": 19,
   "metadata": {
    "collapsed": false
   },
   "outputs": [
    {
     "name": "stdout",
     "output_type": "stream",
     "text": [
      "Ярослав_Исполатов 0\n",
      "Сергей_Демокритов 1\n",
      "Руслан_Смелянский 1\n",
      "Александр_Апт 1\n",
      "Людмила_Новикова 1\n",
      "Александр_Парфенов 1\n",
      "Джеффри_Шнапп 1\n",
      "Дмитрий_Чудаков 1\n",
      "Дмитрий_Дождев 1\n",
      "Владимир_Шалаев 1\n",
      "Марк_Харрисон 2\n",
      "Валерий_Фокин 1\n",
      "Ави_Лёб 1\n",
      "Сергей_Гуриев 1\n",
      "Эмиль_Ахмедов 2\n",
      "Алексей_Муравьёв 1\n",
      "Виктор_Быков 1\n",
      "Павел_Пахлов 1\n",
      "Павел_Уваров 1\n",
      "Сергей_Соколовский 2\n",
      "Светлана_Боринская 1\n",
      "Эдуард_Боос 1\n",
      "Евгений_Шеваль 1\n",
      "Нина_Сумбатова 1\n",
      "Виктор_Вахштайн 1\n",
      "Хопи_Хукстра 0\n",
      "Валерий_Рубаков 2\n",
      "Сергей_Науменко 1\n",
      "Андрей_Савельев-Трофимов 1\n",
      "Aльберт_Давлетшин 0\n",
      "Александр_Каплан 1\n",
      "Сергей_Афонцев 1\n",
      "Сергей_Пекарский 1\n",
      "Валентин_Ненайденко 1\n",
      "Олег_Верходанов 1\n",
      "Алексей_Миллер 1\n",
      "Владимир_Бобровников 1\n",
      "Григорий_Бондаренко 1\n",
      "Дмитрий_Гитман 1\n",
      "Игорь_Ломоносов 1\n",
      "Виктор_Зайченко 1\n",
      "Анатолий_Лиходед 1\n",
      "Евгений_Куликов 1\n",
      "Светлана_Кузнецова 1\n",
      "Мария_Штейнман 2\n",
      "Александр_Шварцбург 1\n",
      "Ольга_Артёмова 1\n",
      "Игорь_Уточкин 1\n",
      "Сергей_Неклюдов 2\n",
      "Дмитрий_Беляев 1\n",
      "Антон_Бирюков 1\n",
      "Николай_Плотников 1\n",
      "Станислав_Клименко 1\n",
      "Андрей_Виноградов 1\n",
      "Александр_Марков 1\n",
      "Михаил_Полуэктов 1\n",
      "Петр_Федичев 2\n",
      "Ивар_Максутов 1\n",
      "Вальтер_Кольч 0\n",
      "Дмитрий_Гольберг 1\n",
      "Екатерина_Ларионова 1\n",
      "Виктор_Полтерович 1\n",
      "Александр_Дмитриев 2\n",
      "Сергей_Серёгичев 1\n",
      "Екатерина_Лямина 2\n",
      "Александр_Мещеряков 1\n",
      "Дмитрий_Вибе 2\n",
      "Алиса_Вячеславова 2\n",
      "Мария_Майофис 2\n",
      "Константин_Лукьянов 1\n",
      "Наталья_Смолянская 2\n",
      "Александр_Войскунский 1\n",
      "Владимир_Польшаков 1\n",
      "Александр_Лазуткин 1\n",
      "Александра_Скрипченко 1\n",
      "Александр_Марей 1\n",
      "Александр_Шень 1\n",
      "Дмитрий_Иванов 1\n",
      "Зоригто_Намсараев 1\n",
      "Ольга_Эдельман 1\n",
      "Олег_Лекманов 1\n",
      "Александр_Павлов 2\n",
      "Игорь_Исаев 2\n",
      "Михаил_Соколов 4\n",
      "Виталий_Дунин-Барковский 1\n",
      "Татьяна_Бобровникова 1\n",
      "Ярослав_Ашихмин 1\n",
      "Владимир_Ковальзон 1\n",
      "Елена_Гороховская 1\n",
      "Роман_Мизюк 1\n",
      "Наталья_Новикова 1\n",
      "Александр_Васильев 1\n",
      "Владимир_Кореняко 0\n",
      "Пётр_Образцов 1\n",
      "Алла_Ножевникова 1\n",
      "Дмитрий_Казаков 1\n",
      "Михаил_Эпштейн 1\n",
      "Виктор_Мурогов 1\n",
      "Сергей_Никитов 1\n",
      "Павел_Умрюхин 1\n",
      "Гасан_Гусейнов 1\n",
      "Евгений_Рогожин 2\n",
      "Сергей_Ландо 1\n",
      "Евгений_Гудилин 1\n",
      "Александр_Жаворонков 1\n",
      "Сергей_Попов 2\n",
      "Андрей_Кибрик 1\n",
      "Алексей_Юдин 1\n",
      "Владимир_Таточенко 1\n",
      "Лев_Беклемишев 1\n",
      "Владимир_Беликов 1\n",
      "Кирилл_Разлогов 1\n",
      "Алексей_Козырев 1\n",
      "Сергей_Таскаев 1\n",
      "Галина_Зверева 1\n",
      "Владимир_Редько 1\n",
      "Александр_Высоковский 1\n",
      "Дмитрий_Куракин 1\n",
      "Олег_Мельник 1\n",
      "Эрик_Мэскин 1\n",
      "Константин_Северинов 1\n",
      "Армен_Сергеев 1\n",
      "Владимир_Плунгян 1\n",
      "Илья_Женин 1\n",
      "Кристофер_Уиншип 1\n",
      "Виталий_Куренной 1\n",
      "Сергей_Румянцев 1\n",
      "Владимир_Спиридонов 1\n",
      "Елена_Вишленкова 1\n",
      "Шринивас_Шридхар 1\n",
      "Михаил_Пантелеев 1\n",
      "Александр_Филиппов 2\n",
      "Павел_Балабан 1\n",
      "Михаил_Маяцкий 3\n",
      "Дмитрий_Паращук 1\n",
      "Сергей_Наугольных 1\n",
      "Ахмет_Ярлыкапов 1\n",
      "Эмери_Браун 1\n",
      "Константин_Агладзе 1\n",
      "Леонид_Марголис 1\n",
      "Сергей_Арутюнов 1\n",
      "Надежда_Антипова 0\n",
      "Станислав_Дробышевский 1\n",
      "Александр_Габибов 2\n",
      "Варвара_Добровольская 2\n",
      "Сезар_Идальго 1\n",
      "Евгений_Зуев 1\n",
      "Павел_Плечов 1\n",
      "Александр_Львовский 1\n",
      "Александр_Ватлин 1\n",
      "Татьяна_Смоктунович 1\n",
      "Алексей_Лебедев 1\n",
      "Александр_Гофман 1\n",
      "Дмитрий_Ветров 1\n",
      "Максим_Кронгауз 1\n",
      "Юрий_Панчин 1\n",
      "Мария_Медникова 1\n",
      "Иван_Болдырев 1\n",
      "Алексей_Кавокин 1\n",
      "Владимир_Малахов 1\n",
      "Руслан_Хестанов 1\n",
      "Елена_Браун 2\n",
      "Рафаэль_Арутюнян 1\n",
      "Кирилл_Мартынов 1\n",
      "Николай_Пименов 1\n",
      "Дмитрий_Горбунов 1\n",
      "Жанна_Резникова 1\n",
      "Кирилл_Титаев 1\n",
      "Владимир_Гимпельсон 1\n",
      "Алексей_Белянин 1\n",
      "Ольга_Брилева 1\n",
      "Анна_Севортьян 1\n",
      "Виктор_Задков 1\n",
      "Дина_Гусейнова 2\n",
      "Антон_Буздин 1\n",
      "Раиса_Кирсанова 1\n",
      "Павел_Руднев 1\n",
      "Яков_Тестелец 0\n",
      "Мария_Неклюдова 2\n",
      "Павел_Соколов 1\n",
      "Дмитрий_Бовыкин 2\n",
      "Фуад_Алескеров 1\n",
      "Михаил_Гельфанд 1\n",
      "Георгий_Базыкин 2\n",
      "Елена_Брызгалина 2\n",
      "Александр_Никифоров 1\n",
      "Фёдор_Успенский 1\n",
      "Джу_Йонг_Ли 1\n",
      "Антон_Бернс 1\n",
      "Сергей_Яковенко 1\n",
      "Владимир_Сурдин 2\n",
      "Кирилл_Зыбин 1\n",
      "Алексей_Рубцов 2\n",
      "Алексей_Киличенков 1\n",
      "Михаил_Алексеевский 3\n",
      "Владимир_Кузнецов 2\n",
      "Павел_Лушников 1\n",
      "Вольфганг_Кеттерле 1\n",
      "Юджин_Ползик 1\n",
      "Валентин_Крапошин 2\n",
      "Андрей_Цатурян 2\n",
      "Антон_Суворов 1\n",
      "Артем_Оганов 1\n",
      "Владимир_Каганский 1\n",
      "Станислав_Протасов 2\n",
      "Петр_Аркадьев 1\n",
      "Олег_Будницкий 1\n",
      "Леонард_Полищук 1\n",
      "Наталья_Савва 1\n",
      "Андрей_Кофман 2\n",
      "Пол_Грегори 1\n",
      "Мел_Сигел 1\n",
      "Валентина_Харитонова 1\n",
      "Анатолий_Засов 1\n",
      "Анастасия_Лопухина 1\n",
      "Мария_Добровольская 1\n",
      "Михаил_Эльдаров 1\n",
      "Мария_Фаликман 1\n",
      "Иван_Сорокин 1\n",
      "Алексей_Касьян 0\n",
      "Игорь_Чубаров 2\n",
      "Алексей_Старобинский 1\n",
      "Дмитрий_Дорохов 1\n",
      "Борис_Морозов 1\n",
      "Александр_Петренко 1\n",
      "Фёдор_Гиренок 1\n",
      "Алексей_Москалев 1\n",
      "Александр_Каменский 1\n",
      "Илья_Кукулин 1\n",
      "Алина_Бодрова 3\n",
      "Илья_Шкредов 1\n",
      "Кит_Моффат 1\n",
      "Андрей_Лукашов 1\n",
      "Светлана_Дедыш 1\n",
      "Ирина_Стародубровская 1\n",
      "Наталья_Спасская 1\n",
      "Митчел_Резник 1\n",
      "Валерий_Рязанов 1\n",
      "Ольга_Гулевич 1\n",
      "Елена_Уханова 1\n",
      "Алексей_Шмелев 1\n",
      "Николай_Дронин 1\n",
      "Екатерина_Щербакова 2\n",
      "Дмитрий_Харзеев 1\n",
      "Дмитрий_Громов 1\n",
      "Владимир_Белотелов 1\n",
      "Арчил_Балахванцев 1\n",
      "ПостНаука 2\n",
      "Ильдар_Габитов 1\n",
      "Мария_Падун 1\n",
      "Владимир_Мележик 1\n",
      "Илья_Щуров 2\n",
      "Роман_Ефремов 1\n",
      "Галина_Ершова 1\n",
      "Андрей_Зорин 2\n",
      "Алексей_Акимов 1\n",
      "Сергей_Саложин 1\n",
      "Сергей_Шишкин 1\n",
      "Дмитрий_Титов 1\n",
      "Олег_Фиговский 1\n",
      "Михаил_Киселев 2\n",
      "Станислав_Полонский 1\n",
      "Вера_Подлесская 1\n",
      "Дэвид_Вайнберг 1\n",
      "Николай_Борисов 1\n",
      "Михаил_Данилов 1\n",
      "Александр_Четверин 1\n",
      "Филлип_Шарп 1\n",
      "Эрик_Мазур 1\n",
      "Дмитрий_Худяков 1\n",
      "Леонид_Григорьев 1\n",
      "Сергей_Деев 1\n",
      "Мартин_Вейс 1\n",
      "Андрей_Головин 1\n",
      "Михаил_Бурцев 1\n",
      "Сергей_Бобылев 1\n",
      "Виктор_Брагута 1\n",
      "Евгений_Хоров 1\n",
      "Илья_Иткин 1\n",
      "Иван_Оселедец 1\n",
      "Георгий_Шляпников 1\n",
      "Наталья_Берлофф 1\n",
      "Теунис_Клапвик 1\n",
      "Олег_Ауров 2\n",
      "Татьяна_Клячко 1\n",
      "Виктория_Битюкова 1\n",
      "Анатолий_Баранов 1\n",
      "Иван_Воробьев 2\n",
      "Дмитрий_Жуков 1\n",
      "Инга_Полетаева 2\n",
      "Татьяна_Ребеко 3\n",
      "Алексей_Северцов 1\n",
      "Макс_Тегмарк 1\n",
      "Алексей_Кондрашов 1\n",
      "Мира_Бергельсон 1\n",
      "Владимир_Миронов 1\n",
      "Кирилл_Еськов 1\n",
      "Юрий_Яшков 1\n",
      "Константин_Мирошников 1\n",
      "Кирилл_Бабаев 1\n",
      "Владимир_Комлев 1\n",
      "Вадим_Бражкин 1\n",
      "Сергей_Карабасов 1\n",
      "Михаил_Лукин 1\n",
      "Наталья_Зубаревич 1\n",
      "Ноам_Хомский 1\n",
      "Алексей_Бартошевич 1\n",
      "Даниэль_Сельва 1\n",
      "Галина_Зеленина 1\n",
      "Ольга_Исупова 1\n",
      "Борис_Колоницкий 1\n",
      "Иван_Луковников 1\n",
      "Герберт_Хупперт 1\n",
      "Константин_Анохин 1\n",
      "Сергей_Писарев 1\n",
      "Ольга_Вендина 2\n",
      "Александр_Тормасов 1\n",
      "Мэтью_Басс 1\n",
      "Игорь_Петров 1\n",
      "Александр_Шацкий 1\n",
      "Андрей_Глазовский 1\n",
      "Джанмарко_Веруджио 1\n",
      "Андрей_Наумов 1\n",
      "Евгений_Николаев 1\n",
      "Дмитрий_Рогозин 2\n",
      "Андрей_Летаров 1\n",
      "Дмитрий_Казанцев 1\n",
      "Кирилл_Кожанов 0\n",
      "Сергей_Кулик 2\n",
      "Владимир_Муронец 1\n",
      "Александр_Жданов 1\n",
      "Варвара_Веденина 1\n",
      "Елизавета_Бонч-Осмоловская 1\n",
      "Александр_Доброхотов 1\n",
      "Андрей_Лосев 1\n",
      "Махзарин_Банаджи 1\n",
      "Светлана_Баньковская 1\n",
      "Анна_Соколова 1\n",
      "Юлия_Краус 1\n",
      "Елизавета_Ривкина 1\n",
      "Николай_Мощевитин 1\n",
      "Ян_Левченко 1\n",
      "Дмитрий_Лось 2\n",
      "Ирина_Бёме 1\n",
      "Филипп_Хайтович 1\n",
      "Джефф_Лихтман 1\n",
      "Вера_Мильчина 1\n",
      "Деметрис_Зейналипур 1\n",
      "Сет_Ллойд 2\n",
      "Александр_Слободкин 1\n",
      "Алексей_Расторгуев 1\n",
      "Наталья_Харламенкова 1\n",
      "Александр_Сафонов 1\n",
      "Петр_Резвых 1\n",
      "Кирилл_Соловьев 1\n",
      "Уолтер_Льюин 1\n",
      "Сергей_Троицкий 1\n",
      "Дмитрий_Арзютов 1\n",
      "Дмитрий_Сорокин 1\n",
      "Джеральд_де_Хаан 2\n",
      "Питер_Лэнсдорп 1\n",
      "Александр_Баландин 1\n",
      "Рудольф_Йениш 1\n",
      "Ричард_Янг 1\n",
      "Альберт_Насибулин 1\n",
      "Рой_Глаубер 1\n",
      "Дэвид_Кайзер 2\n",
      "Оксана_Запорожец 1\n",
      "Виктор_Авдеев 1\n",
      "Василий_Климов 1\n",
      "Александр_Потехин 1\n",
      "Сергей_Зайцев-Зотов 1\n",
      "Харольд_Крото 1\n",
      "Светлана_Бурлак 1\n",
      "Сергей_Майоров 1\n",
      "Ирина_Секерина 1\n",
      "Ксения_Паниди 1\n",
      "Максим_Таланов 1\n",
      "Ольга_Малинова 1\n",
      "Кирилл_Кочегаров 1\n",
      "Виктор_Веселаго 1\n",
      "Александр_Воеводский 2\n",
      "Михаил_Ревнивцев 1\n",
      "Борис_Иомдин 1\n",
      "Александр_Кислов 1\n",
      "Константин_Звездин 1\n",
      "Алексей_Семихатов 1\n",
      "Лайман_Пейдж 1\n",
      "Евгений_Антипов 2\n",
      "Наталья_Ростиславлева 1\n",
      "Мария_Полински 1\n",
      "Николай_Короновский 1\n",
      "Анатолий_Гершман 1\n",
      "Григорий_Крейдлин 1\n",
      "Марина_Бутовская 1\n",
      "Егор_Задереев 1\n",
      "Виктор_Цетлин 1\n",
      "Олег_Медведев 1\n",
      "Леонид_Иомдин 1\n",
      "Константин_Воронцов 1\n",
      "Михаил_Бойцов 1\n",
      "Екатерина_Лапина-Кратасюк 1\n",
      "Сергей_Кетов 1\n",
      "Ольга_Сильченко 1\n",
      "Борис_Миркин 1\n",
      "Катерина_Поливанова 1\n",
      "Сергей_Морозов 1\n",
      "Владимир_Кантор 2\n",
      "Григорий_Кабатянский 1\n",
      "Александр_Аузан 1\n",
      "Ольга_Столярова 0\n",
      "Ирина_Савельева 1\n",
      "Эдуард_Пройдаков 1\n",
      "Наталья_Кисельникова 2\n",
      "Александра_Архипова 1\n",
      "Александр_Дьяконов 1\n",
      "Константин_Храпко 0\n",
      "Андрей_Чабовский 2\n",
      "Василий_Жарков 1\n",
      "Алишер_Тураев 1\n",
      "Алексей_Руткевич 1\n",
      "Дмитрий_Балалыкин 1\n",
      "Максим_Франк-Каменецкий 1\n",
      "Игорь_Курукин 1\n",
      "Владимир_Емельянов 1\n",
      "Денис_Новак 1\n",
      "Алексей_Витухновский 1\n",
      "Владик_Аветисов 1\n",
      "Дмитрий_Клинов 1\n",
      "Алексей_Хохлов 1\n",
      "Алексей_Желтиков 1\n",
      "Томас_Мюллер 1\n",
      "Армен_Мулкиджанян 1\n",
      "Антон_Чижов 1\n",
      "Владимир_Петрухин 1\n",
      "Светлана_Евграфова 1\n",
      "Денис_Загарин 1\n",
      "Алексей_Созинов 1\n",
      "Андрей_Иванцов 1\n",
      "Олег_Лукин 1\n",
      "Кьянг_Ку 1\n",
      "Александр_Лаврентьев 1\n",
      "Архат_Абжанов 1\n",
      "Вера_Ижевская 1\n",
      "Павел_Нерлер_(Полян) 3\n",
      "Александр_Мукасьян 1\n",
      "Олег_Хлевнюк 1\n",
      "Владимир_Пудалов 1\n",
      "Алексей_Котов 1\n",
      "Алексей_Чжао 1\n",
      "Евгений_Кац 1\n",
      "Максим_Киселев 2\n",
      "Екатерина_Протасова 1\n",
      "Аркадий_Цейтлин 1\n",
      "Михаил_Фейгельман 1\n",
      "Пётр_Турчин 1\n",
      "Валерий_Сулейманов 1\n",
      "Рауль_Гайнетдинов 1\n",
      "Сергей_Киселев 2\n",
      "Евгений_Магид 1\n",
      "Елена_Голубева 1\n",
      "Игорь_Данилевский 2\n",
      "Марк_Ульянов 1\n",
      "Виталий_Пальчиков 1\n",
      "Зоя_Зорина 1\n",
      "Мохамад_Кассаб 1\n",
      "Григорий_Юдин 2\n",
      "Алексей_Алексеев 1\n",
      "Мануэль_Маццара 1\n",
      "Джозеф_Браун 1\n",
      "Лев_Дудко 1\n",
      "Ольга_Вайнштейн 3\n",
      "Павел_Тищенко 1\n",
      "Сергей_Зенкин 1\n",
      "Юрий_Вайнер 1\n",
      "Арсений_Хитров 1\n",
      "Денис_Сивков 1\n",
      "Сергей_Зыков 1\n",
      "Виталий_Кушниров 1\n",
      "Андрей_Журавлев 1\n",
      "Алексей_Моисеев 1\n",
      "Аскольд_Иванчик 2\n",
      "Анна_Дыбо 1\n",
      "Александр_Поддьяков 1\n",
      "Надежда_Онипенко 1\n",
      "Дмитрий_Дагаев 1\n",
      "Максим_Демин 2\n",
      "Александр_Беленький 1\n",
      "Дмитрий_Бак 1\n",
      "Жан-Арыс_Джилкибаев 1\n",
      "Дмитрий_Добровольский 1\n",
      "Ирина_Новикова 1\n",
      "Илья_Виньковецкий 1\n",
      "Петр_Дружинин 2\n",
      "Андрей_Шевельков 1\n",
      "Игорь_Волобуев 1\n",
      "Роман_Рафиков 1\n",
      "Алексей_Маслов 1\n",
      "Александр_Тхостов 1\n",
      "Александр_Пиперски 1\n",
      "Василий_Ключарев 1\n",
      "Ольга_Сварник 1\n",
      "Ольга_Тогоева 3\n",
      "Сергей_Блинников 1\n",
      "Екатерина_Лютикова 1\n",
      "Иван_Ладынин 1\n",
      "Алексей_Гиппиус 0\n",
      "Сергей_Гашков 1\n",
      "Джеймс_Коллинз 1\n",
      "Роберт_Лэнгер 1\n",
      "Олег_Воскобойников 2\n",
      "Татьяна_Котова 1\n",
      "Дмитрий_Полдников 1\n",
      "Андрей_Семенов 1\n",
      "Яков_Фоминов 1\n",
      "Дэвид_Синклер 1\n",
      "Дэвид_С._Джонс 1\n",
      "Анна_Рогожина 2\n",
      "Мария_Шутова 1\n",
      "Марина_Новикова-Грунд 1\n",
      "Кристофер_Карр 0\n",
      "Сергей_Нечаев 1\n",
      "Алексей_Орлов 1\n",
      "Георгий_Старостин 1\n",
      "Дмитрий_Баюк 1\n",
      "Антон_Чугунов 1\n",
      "Анатолий_Вишневский 1\n",
      "Юрий_Рогулёв 1\n",
      "Екатерина_Болтунова 1\n",
      "Дэвид_Кларк 1\n",
      "Алексей_Малашенко 1\n",
      "Ирина_Левонтина 2\n",
      "Андрей_Коротаев 0\n",
      "Татьяна_Гусарова 1\n",
      "Дарья_Радченко 1\n",
      "Ирина_Каспэ 0\n",
      "Марина_Корсакова-Крейн 1\n",
      "Павел_Степанцов 1\n",
      "Дэвид_Гросс 1\n",
      "\n",
      "Самые значимые:\n",
      "Михаил_Соколов 4\n",
      "Михаил_Маяцкий 3\n",
      "Михаил_Алексеевский 3\n",
      "Алина_Бодрова 3\n",
      "Татьяна_Ребеко 3\n",
      "Павел_Нерлер_(Полян) 3\n",
      "Ольга_Вайнштейн 3\n",
      "Ольга_Тогоева 3\n"
     ]
    }
   ],
   "source": [
    "for ind, row in phi_a.iterrows():\n",
    "    cnt = row[row > 0.01].count()\n",
    "    print ind, cnt\n",
    "print '\\n' + 'Самые значимые:'\n",
    "for ind, row in phi_a.iterrows():\n",
    "    cnt = row[row > 0.01].count()\n",
    "    if cnt >= 3:\n",
    "        print ind, cnt"
   ]
  },
  {
   "cell_type": "markdown",
   "metadata": {},
   "source": [
    "Большинство авторов значимы в 1 теме, что логично."
   ]
  },
  {
   "cell_type": "markdown",
   "metadata": {},
   "source": [
    "##### Построение тематической карты авторов"
   ]
  },
  {
   "cell_type": "markdown",
   "metadata": {},
   "source": [
    "По сути, в матрице $\\Phi$, соответствующей модальности авторов, записаны тематические кластеры авторов. Для любого автора мы можем составить его тематический круг - авторов, разбирающихся в той же теме, что и данный. Интересующиеся слушатели могут попробовать выполнить эту процедуру для ученых, читающих лекции на Постнауке, которых они знают (например, на Постнауке есть лекции с К. В. Воронцовым - лектором текущего модуля :)\n",
    "\n",
    "Составим карту близости авторов по тематике их исследований. Для этого применим метод понижения размерности MDS к тематическим профилям авторов.\n",
    "\n",
    "Чтобы получить тематический профиль автора, распределение $p(t|a)$, нужно воспользоваться формулой Байеса: \n",
    "$p(t|a) = \\frac {p(a|t) p(t)} {\\sum_t' p(a|t') p(t')}$. Все необходимые для этого величины у вас есть и записаны в переменных phi и pt. \n",
    "\n",
    "Передайте матрицу тематических профилей авторов, записанных по строкам, в метод MDS с n_components=2. Используйте косинусную метрику (она хорошо подходит для поиска расстояний между векторами, имеющими фиксированную сумму компонент)."
   ]
  },
  {
   "cell_type": "code",
   "execution_count": 20,
   "metadata": {
    "collapsed": true
   },
   "outputs": [],
   "source": [
    "from sklearn.manifold import MDS\n",
    "from sklearn.metrics import pairwise_distances"
   ]
  },
  {
   "cell_type": "code",
   "execution_count": 21,
   "metadata": {
    "collapsed": true
   },
   "outputs": [],
   "source": [
    "# Ваш код\n",
    "p_ta = phi_a.get_values() * T.get_values().reshape((1,30)) / phi_a.get_values().dot(T.get_values())\n",
    "mds = MDS(n_components = 2, n_init = 1, max_iter = 100, dissimilarity='precomputed')\n",
    "p_ta_mds = mds.fit_transform(pairwise_distances(p_ta, metric='cosine'))"
   ]
  },
  {
   "cell_type": "markdown",
   "metadata": {},
   "source": [
    "Визуализируйте найденные двумерные представления с помощью функции scatter. "
   ]
  },
  {
   "cell_type": "code",
   "execution_count": 22,
   "metadata": {
    "collapsed": false
   },
   "outputs": [
    {
     "data": {
      "text/plain": [
       "<matplotlib.collections.PathCollection at 0xbd75a90>"
      ]
     },
     "execution_count": 22,
     "metadata": {},
     "output_type": "execute_result"
    },
    {
     "data": {
      "image/png": "[encoded data removed]",
      "text/plain": [
       "<matplotlib.figure.Figure at 0x134e2d68>"
      ]
     },
     "metadata": {},
     "output_type": "display_data"
    }
   ],
   "source": [
    "# Ваш код\n",
    "plt.figure(figsize=(12, 8))\n",
    "plt.scatter(p_ta_mds[:, 0], p_ta_mds[:, 1])"
   ]
  },
  {
   "cell_type": "markdown",
   "metadata": {},
   "source": [
    "Должно получиться, что некоторые грппы авторов формируют сгустки, которые можно считать тематическими группами авторов.\n",
    "\n",
    "Раскрасим точки следующим образом: для каждого автора выберем наиболее вероятную для него тему ($\\max_t p(t|a)$), и каждой теме сопоставим цвет. Кроме того, добавим на карту имена и фамилии авторов, это можно сделать в цикле по всем точкам с помощью функции plt.annotate, указывая метку точки первым аргументом и ее координаты в аргументе xy. Рекомендуется сделать размер изображения большим, тогда маркеры точек тоже придется увеличить (s=100 в plt.scatter). Изобразите карту авторов и сохраните в pdf-файл с помощью функции plt.savefig. \n",
    "\n",
    "Метки авторов будут пересекаться. Будет очень хорошо, если вы найдете способ, как этого можно избежать."
   ]
  },
  {
   "cell_type": "code",
   "execution_count": null,
   "metadata": {
    "collapsed": false
   },
   "outputs": [],
   "source": [
    "import matplotlib.cm as cm\n",
    "T=30\n",
    "colors = cm.rainbow(np.linspace(0, 1, T)) # цвета для тем\n",
    "# Ваш код\n",
    "plt.figure(figsize=(100, 75))\n",
    "plt.scatter(p_ta_mds[:, 0], p_ta_mds[:, 1], s=150, c=colors, cmap=p_ta.argmax(axis=1))\n",
    "for idx, xy in enumerate( p_ta_mds ):\n",
    "    plt.annotate(phi_a.index[idx], xy=xy)\n",
    "plt.savefig('postnauka.pdf')"
   ]
  },
  {
   "cell_type": "markdown",
   "metadata": {},
   "source": [
    "##### Создание простого тематического навигатора по Постнауке"
   ]
  },
  {
   "cell_type": "markdown",
   "metadata": {},
   "source": [
    "Наш тематический навигатор будет для каждой темы показывать ее список слов, а также список релевантных теме документов. \n",
    "\n",
    "Нам понадобятся распределения $p(d|t)$. По формуле Байеса $p(d|t) = \\frac{p(t|d)p(d)}{\\sum_{d'}p(t|d')p(d')}$, но поскольку мы считаем документы равновероятными, достаточно разделить каждую строку $\\Theta$ на ее сумму, чтобы оценить распределение. \n",
    "\n",
    "Отсортируйте матрицу $p(d|t)$ по убыванию $p(d|t)$ в каждой теме (то есть построчно). Нам понадобятся индексы наиболее вероятных документов в каждой теме, поэтому используйте функцию argmax."
   ]
  },
  {
   "cell_type": "code",
   "execution_count": null,
   "metadata": {
    "collapsed": true
   },
   "outputs": [],
   "source": [
    "# Ваш код\n",
    "p_dt = theta.get_values()/theta.sum(axis=1).reshape((30,1))\n",
    "i_p_dt = np.array(p_dt.argmax(axis=1).reshape((30,1)))\n",
    "for j in range(1,p_dt.shape[1]):\n",
    "    for i in range(p_dt.shape[0]):\n",
    "        p_dt[i][i_p_dt[i][j-1]] = -1.\n",
    "    i_p_dt = np.hstack((i_p_dt,p_dt.argmax(axis=1).reshape((30,1))))"
   ]
  },
  {
   "cell_type": "markdown",
   "metadata": {},
   "source": [
    "Создавать навигатор мы будем прямо в jupiter notebook: это возможно благодаря тому факту, что при печати ссылки она автоматически превращается в гиперссылку."
   ]
  },
  {
   "cell_type": "code",
   "execution_count": null,
   "metadata": {
    "collapsed": false
   },
   "outputs": [],
   "source": [
    "print \"http://yandex.ru\"   # получится кликабельная ссылка"
   ]
  },
  {
   "cell_type": "markdown",
   "metadata": {},
   "source": [
    "Кроме того, подключив модуль [ipython.core.display](https://ipython.org/ipython-doc/2/api/generated/IPython.core.display.html), можно использовать html-разметку в выводе. Например:"
   ]
  },
  {
   "cell_type": "code",
   "execution_count": null,
   "metadata": {
    "collapsed": false
   },
   "outputs": [],
   "source": [
    "from IPython.core.display import display, HTML\n",
    "display(HTML(u\"<h1>Заголовок</h1>\"))   # также <h2>, <h3>\n",
    "display(HTML(u\"<ul><li>Пункт 1</li><li>Пункт 2</li></ul>\"))\n",
    "display(HTML(u'<font color=\"green\">Зеленый!</font>'))\n",
    "display(HTML(u'<a href=\"http://yandex.ru\">Еще один вариант вывода ссылки</a>'))"
   ]
  },
  {
   "cell_type": "markdown",
   "metadata": {},
   "source": [
    "В цикле для каждой темы выведите ее заголовок, в следующей строке - топ-10 слов темы, затем в виде списка ссылки на 10 наиболее релевантных (по $p(d|t)$) теме документов. Используйте html-разметку. Творчество приветствуется :)"
   ]
  },
  {
   "cell_type": "code",
   "execution_count": null,
   "metadata": {
    "collapsed": false
   },
   "outputs": [],
   "source": [
    "# Ваш код\n",
    "tokens = model_artm.score_tracker[\"texts\"].last_tokens\n",
    "for idx, topic_name in enumerate(topic_labels):\n",
    "    display(HTML(u\"<h2>\"+topic_name.decode('UTF-8')+\"</h2>\"))\n",
    "    display(HTML(u'<h4>'+' '.join(tokens[topic_names[idx]][:10] )+'</h4>'))\n",
    "    url_arr = []\n",
    "    for n in range(10): \n",
    "        display(HTML(u\"<ul>\"+'<li>'+u'<a href=\"'+theta.columns[i_p_dt[idx][n]]+'\">'+\n",
    "                     theta.columns[i_p_dt[idx][n]]+'</a>'+'</li>'+\"</ul>\"))"
   ]
  },
  {
   "cell_type": "markdown",
   "metadata": {},
   "source": [
    "##### Заключение"
   ]
  },
  {
   "cell_type": "markdown",
   "metadata": {},
   "source": [
    "В этом Peer Review мы познакомились с базовыми возможностями библиотеки BigARTM и с методами визуализации тематических моделей. Визуализация тематических моделей - это широкая и активно развивающаяся область научных исследований. Мы рассмотрели только самые простые приемы. Желающие могут попробовать применить [Serendip](http://vep.cs.wisc.edu/serendip/#serendipHero), разработанный в  University of Wisconsin-Madison, к построенной модели. Эта библиотека позволяет максимально полно охарактеризовать темы и написана для языка python. \n",
    "\n",
    "Сделав задание, вы можете выбрать в навигаторе наиболее интересную для вас тему и посмотреть видеолекции :) На Постнауке очень много интересных материалов. "
   ]
  }
 ],
 "metadata": {
  "kernelspec": {
   "display_name": "Python [default]",
   "language": "python",
   "name": "python2"
  },
  "language_info": {
   "codemirror_mode": {
    "name": "ipython",
    "version": 2
   },
   "file_extension": ".py",
   "mimetype": "text/x-python",
   "name": "python",
   "nbconvert_exporter": "python",
   "pygments_lexer": "ipython2",
   "version": "2.7.12"
  },
  "widgets": {
   "state": {
    "033a632d2f394e4a8622da6af3243e1c": {
     "views": [
      {
       "cell_index": 26
      }
     ]
    },
    "065c98baff5747e9a0d9618a117a2db5": {
     "views": [
      {
       "cell_index": 22
      }
     ]
    },
    "13762ca7125c4e70a7fefb056f15ecf8": {
     "views": [
      {
       "cell_index": 22
      }
     ]
    },
    "13e224b01a93425b9b17a4da02d8ac2c": {
     "views": [
      {
       "cell_index": 22
      }
     ]
    },
    "15ff2f0c17aa4efa85e7ed83c86dcde9": {
     "views": [
      {
       "cell_index": 26
      }
     ]
    },
    "1bdba887ae12441fa8a0db41c1b3533d": {
     "views": [
      {
       "cell_index": 22
      }
     ]
    },
    "1f1a2c6979144323976d00e2379d3012": {
     "views": [
      {
       "cell_index": 22
      }
     ]
    },
    "1fbc061e0f924f62889f2a23f3a2054e": {
     "views": [
      {
       "cell_index": 26
      }
     ]
    },
    "208630263d3445ff8cd813778155797f": {
     "views": [
      {
       "cell_index": 26
      }
     ]
    },
    "2266bee0332c44958c1a36c67eaade16": {
     "views": [
      {
       "cell_index": 26
      }
     ]
    },
    "24cd816a080e42ed96607d6c5dab2527": {
     "views": [
      {
       "cell_index": 22
      }
     ]
    },
    "27ff08ea5e744fa39b6449d22d7b008e": {
     "views": [
      {
       "cell_index": 22
      }
     ]
    },
    "344ba1a5aaf34ebeb765ff10c1729493": {
     "views": [
      {
       "cell_index": 22
      }
     ]
    },
    "34f002fbc6f4440a957310b9de2d7414": {
     "views": [
      {
       "cell_index": 22
      }
     ]
    },
    "37e1f1429a394898913bdc57f4dde5d5": {
     "views": [
      {
       "cell_index": 26
      }
     ]
    },
    "3ac981ab4dac4e119ef071e39cff2a15": {
     "views": [
      {
       "cell_index": 22
      }
     ]
    },
    "3bcf57579f99477ea102bbdc649cab2f": {
     "views": [
      {
       "cell_index": 26
      }
     ]
    },
    "3d809ac791764d7386c474a54e24e8a4": {
     "views": [
      {
       "cell_index": 22
      }
     ]
    },
    "3ecb4937ce8944798543bf19a40017a4": {
     "views": [
      {
       "cell_index": 26
      }
     ]
    },
    "3f2ee3eb00724f2f91144563cd39ccd2": {
     "views": [
      {
       "cell_index": 22
      }
     ]
    },
    "41d725be26cf4a47844f33017eaed639": {
     "views": [
      {
       "cell_index": 26
      }
     ]
    },
    "4464ce652e4944519d532f428905efee": {
     "views": [
      {
       "cell_index": 26
      }
     ]
    },
    "464a5926f64f4b59892106e5d1f86959": {
     "views": [
      {
       "cell_index": 22
      }
     ]
    },
    "46d50079e91144fd9babb4919ecfa6df": {
     "views": [
      {
       "cell_index": 26
      }
     ]
    },
    "475d56e8a1c44346a6a0a7ac1c06f2bb": {
     "views": [
      {
       "cell_index": 22
      }
     ]
    },
    "4ed46f10fafe4a0fbec6a6dca700040b": {
     "views": [
      {
       "cell_index": 22
      }
     ]
    },
    "5a9f4e72449842f28caeb7b4b98ee62f": {
     "views": [
      {
       "cell_index": 22
      }
     ]
    },
    "5f3886f1ef6f4a14aee758605061b76e": {
     "views": [
      {
       "cell_index": 26
      }
     ]
    },
    "63fe05b785694d95a88321c805bc2807": {
     "views": [
      {
       "cell_index": 22
      }
     ]
    },
    "66a91a51c6ff44bf9e117ed5068b16c6": {
     "views": [
      {
       "cell_index": 22
      }
     ]
    },
    "66d93dc5a6a9439d87007fef6b3f57f8": {
     "views": [
      {
       "cell_index": 22
      }
     ]
    },
    "6999f0a41ef54d498169b6ad590942a5": {
     "views": [
      {
       "cell_index": 22
      }
     ]
    },
    "6a22a512a9cd4bef973f708da1f6930c": {
     "views": [
      {
       "cell_index": 22
      }
     ]
    },
    "6fa8b9a6dc2f44848f9541d2c20899f9": {
     "views": [
      {
       "cell_index": 26
      }
     ]
    },
    "7366e0db26464ec29d121dd558950cb2": {
     "views": [
      {
       "cell_index": 26
      }
     ]
    },
    "740a6276a016425590ea34db83aea93b": {
     "views": [
      {
       "cell_index": 22
      }
     ]
    },
    "7c0fba3d072e41e4881d58c0bbbba4fb": {
     "views": [
      {
       "cell_index": 22
      }
     ]
    },
    "7d559608fe6a4d23b1c43451648b1743": {
     "views": [
      {
       "cell_index": 22
      }
     ]
    },
    "7d92c8dd18514c61a2d790cfcf357987": {
     "views": [
      {
       "cell_index": 22
      }
     ]
    },
    "7eabac937cb143708bf5cf844831c64e": {
     "views": [
      {
       "cell_index": 22
      }
     ]
    },
    "7f39932016124022bfe40468770bacdd": {
     "views": [
      {
       "cell_index": 22
      }
     ]
    },
    "87eb3527d65e49079578b35f43bc1a51": {
     "views": [
      {
       "cell_index": 22
      }
     ]
    },
    "8b1fbba0d18d42ef9d6c1c798a5682e4": {
     "views": [
      {
       "cell_index": 22
      }
     ]
    },
    "8b8328a32c674c588280f9d85e210ba0": {
     "views": [
      {
       "cell_index": 26
      }
     ]
    },
    "9494c7d1d88d4a20b37d25074c36c758": {
     "views": [
      {
       "cell_index": 22
      }
     ]
    },
    "9808436ff5654d718d8305d7ad9e4252": {
     "views": [
      {
       "cell_index": 22
      }
     ]
    },
    "987dfb806bac4ec08768afa66bdef1d8": {
     "views": [
      {
       "cell_index": 26
      }
     ]
    },
    "9c079ef284e14887bf0a49008d8d419a": {
     "views": [
      {
       "cell_index": 26
      }
     ]
    },
    "9d71d0eca0ab455f9226ee700ffd353f": {
     "views": [
      {
       "cell_index": 22
      }
     ]
    },
    "a7fd2809e34d4a33bfdf570ddb67dfcf": {
     "views": [
      {
       "cell_index": 22
      }
     ]
    },
    "aea616c88fda48f5aeebf897fabecc30": {
     "views": [
      {
       "cell_index": 22
      }
     ]
    },
    "b2b837c3741f41b8b0ea3cb2558b22e0": {
     "views": [
      {
       "cell_index": 22
      }
     ]
    },
    "b69590bf1a704f7a83fd18d1c83dea0e": {
     "views": [
      {
       "cell_index": 22
      }
     ]
    },
    "b79cc59fdb4f4d26abe818f534950af4": {
     "views": [
      {
       "cell_index": 22
      }
     ]
    },
    "b884f82cdf654fb89375dce99f1e956b": {
     "views": [
      {
       "cell_index": 26
      }
     ]
    },
    "bafe7c21bdea43079e9b41c17f377322": {
     "views": [
      {
       "cell_index": 22
      }
     ]
    },
    "bc7576f3540343a4a51a4deb430ff676": {
     "views": [
      {
       "cell_index": 22
      }
     ]
    },
    "bd7d399f9671499187768f5a5256eaa5": {
     "views": [
      {
       "cell_index": 22
      }
     ]
    },
    "be6f078772c14ec29f2fa4bb48b7462a": {
     "views": [
      {
       "cell_index": 22
      }
     ]
    },
    "c8828c246b8b49829b504f3bdff95769": {
     "views": [
      {
       "cell_index": 26
      }
     ]
    },
    "d48699cb716b441cabef9c4be6c4b65d": {
     "views": [
      {
       "cell_index": 26
      }
     ]
    },
    "dd34c8d15d344d0bbcb5a54749935890": {
     "views": [
      {
       "cell_index": 22
      }
     ]
    },
    "ddefdbf8818f4966814555d20519baaa": {
     "views": [
      {
       "cell_index": 22
      }
     ]
    },
    "df5cd5dda2054d6b94ec5288c263711b": {
     "views": [
      {
       "cell_index": 26
      }
     ]
    },
    "e5aa2a5b3e9c44c3a67b683e2df4326c": {
     "views": [
      {
       "cell_index": 22
      }
     ]
    },
    "e98781fdfac9401ca339974da831c6cb": {
     "views": [
      {
       "cell_index": 22
      }
     ]
    },
    "eb5be4fad1724a448fd75b00dcd99c65": {
     "views": [
      {
       "cell_index": 22
      }
     ]
    },
    "ec11ec166e164d19b2b295c00e2f86b7": {
     "views": [
      {
       "cell_index": 26
      }
     ]
    },
    "ece10fb0bece4585ae079a6b76a99aaf": {
     "views": [
      {
       "cell_index": 26
      }
     ]
    },
    "fde73336f76b417cb6fa1e3c59168142": {
     "views": [
      {
       "cell_index": 26
      }
     ]
    }
   },
   "version": "1.2.0"
  }
 },
 "nbformat": 4,
 "nbformat_minor": 0
}
